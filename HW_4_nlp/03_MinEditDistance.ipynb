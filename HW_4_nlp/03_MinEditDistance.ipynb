{
 "cells": [
  {
   "cell_type": "markdown",
   "metadata": {
    "id": "wt4sVtx0CqPh"
   },
   "source": [
    "# **Minimum Edit Distance 3**"
   ]
  },
  {
   "cell_type": "markdown",
   "metadata": {
    "id": "4ZpQZ813DSgW"
   },
   "source": [
    "# **Write up: Briefly Define your Algorithm**\n",
    "\n",
    "*Place your write up here as to how you implemented the minimum edit distance algorithm. Be as clear as you can, but don't over do it.*\n",
    "\n",
    "**Minimum Edit Distance**<br>\n",
    "I first make a matrix with the length of the target + 1 by the source + 1. I also initialize the matrix's first row and column by adding values from 0 to the length of the source + 1 for the row and the length of the target + 1 for the column. The algorithm starts at the index [1,1] wherein I check whether the character at the row index of the source matches the character at the column index of the target matches each other. If they do, then the I copy the value diagonally to the top left of it which becomes the new entry of the matrix, meaning it is a match. Otherwise, I get the values one index up + 1(insert), to the left + 1(delete), and diagonally to the top left + 2(mismatch) and choose which among the three is the minimum. Then the minimum will be the new entry in the matrix. I continue this as I traverse each index of the matrix from left to right and top to bottom. The last entry of the matrix will result to the minimum edit distance for the source and target strings.<br><br>\n",
    "**Backtracing**<br>\n",
    "For the back tracing portion, I had to traverse from the bottom right, to the top most index while choosing the path with the least weight. While in a loop, I choose between the value above, to the left, and diagonally to the top left whether which is the minimum. There are four conditions I have to check to know which minimum operation to use to help assign the alignments. I check for a mismatch, meaning the diagonal value is the minimum and is minus 2 of the current index, I check for a match wherein the diagonal value is the minimum and is the same as the current index, an insertion where the minium value is to the left of the current index, and lastly a delete operation which is one value above the current index. I have an operation string that keeps getting appendend with the minimum operation as I back trace throught the matrix. For the alignments, if I get a mismatch, I just copy both characters from the source and target's row and column index respectively. I do the same thing for a match. If I get an insertion, the target alignment gets a \"-\" character while the source alignment gets the column index of the original string. Lastly for a deletion, the source alignment gets a \"-\" character while the target alignment gets the character at the row index of the orginal string. "
   ]
  },
  {
   "cell_type": "markdown",
   "metadata": {
    "id": "nnzCsnf1E4V1"
   },
   "source": [
    "# **Solution**\n",
    "\n",
    "*Kindly place your solution in the code block below. You may use multiple code blocks if you see the need to do so.*"
   ]
  },
  {
   "cell_type": "code",
   "execution_count": 10,
   "metadata": {},
   "outputs": [],
   "source": [
    "i = 4\n",
    "j = 4"
   ]
  },
  {
   "cell_type": "code",
   "execution_count": 11,
   "metadata": {},
   "outputs": [
    {
     "data": {
      "text/plain": [
       "True"
      ]
     },
     "execution_count": 11,
     "metadata": {},
     "output_type": "execute_result"
    }
   ],
   "source": [
    "source, target = \"naruto's son\", \"boruto's dad\"\n",
    "source[i - 1] == target[j - 1]"
   ]
  },
  {
   "cell_type": "code",
   "execution_count": null,
   "metadata": {},
   "outputs": [
    {
     "ename": "TypeError",
     "evalue": "numpy.matrix[3] is not a generic class",
     "output_type": "error",
     "traceback": [
      "\u001b[31m---------------------------------------------------------------------------\u001b[39m",
      "\u001b[31mTypeError\u001b[39m                                 Traceback (most recent call last)",
      "\u001b[36mCell\u001b[39m\u001b[36m \u001b[39m\u001b[32mIn[12]\u001b[39m\u001b[32m, line 4\u001b[39m\n\u001b[32m      1\u001b[39m \u001b[38;5;28;01mfrom\u001b[39;00m\u001b[38;5;250m \u001b[39m\u001b[34;01mnumpy\u001b[39;00m\u001b[38;5;250m \u001b[39m\u001b[38;5;28;01mimport\u001b[39;00m matrix\n\u001b[32m----> \u001b[39m\u001b[32m4\u001b[39m matrix[i][j] = \u001b[43mmatrix\u001b[49m\u001b[43m[\u001b[49m\u001b[43mi\u001b[49m\u001b[43m \u001b[49m\u001b[43m-\u001b[49m\u001b[43m \u001b[49m\u001b[32;43m1\u001b[39;49m\u001b[43m]\u001b[49m\u001b[43m[\u001b[49m\u001b[43mj\u001b[49m\u001b[43m \u001b[49m\u001b[43m-\u001b[49m\u001b[43m \u001b[49m\u001b[32;43m1\u001b[39;49m\u001b[43m]\u001b[49m\n",
      "\u001b[31mTypeError\u001b[39m: numpy.matrix[3] is not a generic class"
     ]
    }
   ],
   "source": [
    "matrix[i][j] = matrix[i - 1][j - 1]"
   ]
  },
  {
   "cell_type": "code",
   "execution_count": null,
   "metadata": {},
   "outputs": [
    {
     "data": {
      "text/plain": [
       "[[0, 1, 2, 3, 4, 5, 6, 7, 8, 9, 10, 11, 12],\n",
       " [1, 0, 0, 0, 0, 0, 0, 0, 0, 0, 0, 0, 0],\n",
       " [2, 0, 0, 0, 0, 0, 0, 0, 0, 0, 0, 0, 0],\n",
       " [3, 0, 0, 0, 0, 0, 0, 0, 0, 0, 0, 0, 0],\n",
       " [4, 0, 0, 0, 0, 0, 0, 0, 0, 0, 0, 0, 0],\n",
       " [5, 0, 0, 0, 0, 0, 0, 0, 0, 0, 0, 0, 0],\n",
       " [6, 0, 0, 0, 0, 0, 0, 0, 0, 0, 0, 0, 0],\n",
       " [7, 0, 0, 0, 0, 0, 0, 0, 0, 0, 0, 0, 0],\n",
       " [8, 0, 0, 0, 0, 0, 0, 0, 0, 0, 0, 0, 0],\n",
       " [9, 0, 0, 0, 0, 0, 0, 0, 0, 0, 0, 0, 0],\n",
       " [10, 0, 0, 0, 0, 0, 0, 0, 0, 0, 0, 0, 0],\n",
       " [11, 0, 0, 0, 0, 0, 0, 0, 0, 0, 0, 0, 0],\n",
       " [12, 0, 0, 0, 0, 0, 0, 0, 0, 0, 0, 0, 0]]"
      ]
     },
     "execution_count": 40,
     "metadata": {},
     "output_type": "execute_result"
    }
   ],
   "source": [
    "matrix"
   ]
  },
  {
   "cell_type": "markdown",
   "metadata": {},
   "source": [
    "[[0, 1, 2, 3, 4, 5, 6, 7, 8, 9, 10, 11, 12],\n",
    " \n",
    " [1, 0, 0, 0, 0, 0, 0, 0, 0, 0, 0, 0, 0],\n",
    " \n",
    " [2, 0, 0, 0, 0, 0, 0, 0, 0, 0, 0, 0, 0],\n",
    " \n",
    " [3, 0, 0, 0, 0, 0, 0, 0, 0, 0, 0, 0, 0],\n",
    " \n",
    " [4, 0, 0, 0, 0, 0, 0, 0, 0, 0, 0, 0, 0],\n",
    " \n",
    " [5, 0, 0, 0, 0, 0, 0, 0, 0, 0, 0, 0, 0],\n",
    " \n",
    " [6, 0, 0, 0, 0, 0, 0, 0, 0, 0, 0, 0, 0],\n",
    " \n",
    " [7, 0, 0, 0, 0, 0, 0, 0, 0, 0, 0, 0, 0],\n",
    " \n",
    " [8, 0, 0, 0, 0, 0, 0, 0, 0, 0, 0, 0, 0],\n",
    " \n",
    " [9, 0, 0, 0, 0, 0, 0, 0, 0, 0, 0, 0, 0],\n",
    " \n",
    " [10, 0, 0, 0, 0, 0, 0, 0, 0, 0, 0, 0, 0],\n",
    " \n",
    " [11, 0, 0, 0, 0, 0, 0, 0, 0, 0, 0, 0, 0],\n",
    " \n",
    " [12, 0, 0, 0, 0, 0, 0, 0, 0, 0, 0, 0, 0]]"
   ]
  },
  {
   "cell_type": "code",
   "execution_count": null,
   "metadata": {},
   "outputs": [
    {
     "data": {
      "text/plain": [
       "[[0, 1, 2, 3, 4, 5, 6, 7, 8, 9, 10, 11, 12],\n",
       " [1, 0, 0, 0, 0, 0, 0, 0, 0, 0, 0, 0, 0],\n",
       " [2, 0, 0, 0, 0, 0, 0, 0, 0, 0, 0, 0, 0],\n",
       " [3, 0, 0, 0, 0, 0, 0, 0, 0, 0, 0, 0, 0],\n",
       " [4, 0, 0, 0, 0, 0, 0, 0, 0, 0, 0, 0, 0],\n",
       " [5, 0, 0, 0, 0, 0, 0, 0, 0, 0, 0, 0, 0],\n",
       " [6, 0, 0, 0, 0, 0, 0, 0, 0, 0, 0, 0, 0],\n",
       " [7, 0, 0, 0, 0, 0, 0, 0, 0, 0, 0, 0, 0],\n",
       " [8, 0, 0, 0, 0, 0, 0, 0, 0, 0, 0, 0, 0],\n",
       " [9, 0, 0, 0, 0, 0, 0, 0, 0, 0, 0, 0, 0],\n",
       " [10, 0, 0, 0, 0, 0, 0, 0, 0, 0, 0, 0, 0],\n",
       " [11, 0, 0, 0, 0, 0, 0, 0, 0, 0, 0, 0, 0],\n",
       " [12, 0, 0, 0, 0, 0, 0, 0, 0, 0, 0, 0, 0]]"
      ]
     },
     "execution_count": 49,
     "metadata": {},
     "output_type": "execute_result"
    }
   ],
   "source": [
    "getMinEditDistance(\"naruto's son\", \"boruto's dad\")"
   ]
  },
  {
   "cell_type": "code",
   "execution_count": null,
   "metadata": {
    "id": "gfXU5Xc4E_ud"
   },
   "outputs": [],
   "source": [
    "def reverse(string):\n",
    "    return string[::-1]\n",
    "\n",
    "\n",
    "def getMinEditDistance(source, target):\n",
    "    # Costs: insert=1, delete=1, mismatch(substitution)=2, match=0\n",
    "    m, n = len(source), len(target)\n",
    "    matrix = [[0] * (n + 1) for _ in range(m + 1)]\n",
    "\n",
    "    # Initialize borders\n",
    "    for i in range(m + 1):\n",
    "        matrix[i][0] = i\n",
    "    for j in range(n + 1):\n",
    "        matrix[0][j] = j\n",
    "\n",
    "    # Fill DP\n",
    "    for i in range(1, m + 1):\n",
    "        for j in range(1, n + 1):\n",
    "            subst_cost = 0 if source[i - 1] == target[j - 1] else 2\n",
    "            matrix[i][j] = min(\n",
    "                matrix[i - 1][j] + 1,           # delete\n",
    "                matrix[i][j - 1] + 1,           # insert\n",
    "                matrix[i - 1][j - 1] + subst_cost  # match/mismatch\n",
    "            )\n",
    "\n",
    "    # Report\n",
    "    print(\"Source: \" + source)\n",
    "    print(\"Target: \" + target)\n",
    "    print(\"-----\")\n",
    "    print(\"Distance: \", matrix[m][n])\n",
    "    print(\"Aligment:\")\n",
    "\n",
    "    # Backtrace\n",
    "    t_alignment, s_alignment = \"\", \"\"\n",
    "    t = [char for char in source]\n",
    "    s = [char for char in target]\n",
    "    row, col = m, n\n",
    "    operations = \"\"\n",
    "\n",
    "    while row > 0 or col > 0:\n",
    "        # Prefer diagonal when it explains the current cost (tie-breaker towards diag)\n",
    "        if row > 0 and col > 0 and source[row - 1] == target[col - 1] and matrix[row][col] == matrix[row - 1][col - 1]:\n",
    "            operations += \" \"\n",
    "            t_alignment += t[row - 1]\n",
    "            s_alignment += s[col - 1]\n",
    "            row -= 1\n",
    "            col -= 1\n",
    "        elif row > 0 and col > 0 and matrix[row][col] == matrix[row - 1][col - 1] + 2:\n",
    "            operations += \"M\"\n",
    "            t_alignment += t[row - 1]\n",
    "            s_alignment += s[col - 1]\n",
    "            row -= 1\n",
    "            col -= 1\n",
    "        elif col > 0 and matrix[row][col] == matrix[row][col - 1] + 1:\n",
    "            operations += \"I\"\n",
    "            t_alignment += \"-\"\n",
    "            s_alignment += s[col - 1]\n",
    "            col -= 1\n",
    "        elif row > 0 and matrix[row][col] == matrix[row - 1][col] + 1:\n",
    "            operations += \"D\"\n",
    "            t_alignment += t[row - 1]\n",
    "            s_alignment += \"-\"\n",
    "            row -= 1\n",
    "        else:\n",
    "            # Fallback for ties/edges\n",
    "            up = matrix[row - 1][col] if row > 0 else float(\"inf\")\n",
    "            left = matrix[row][col - 1] if col > 0 else float(\"inf\")\n",
    "            diag = matrix[row - 1][col - 1] if (row > 0 and col > 0) else float(\"inf\")\n",
    "            if diag <= up and diag <= left and row > 0 and col > 0:\n",
    "                op = \" \" if source[row - 1] == target[col - 1] else \"M\"\n",
    "                operations += op\n",
    "                t_alignment += t[row - 1]\n",
    "                s_alignment += s[col - 1]\n",
    "                row -= 1\n",
    "                col -= 1\n",
    "            elif left <= up and col > 0:\n",
    "                operations += \"I\"\n",
    "                t_alignment += \"-\"\n",
    "                s_alignment += s[col - 1]\n",
    "                col -= 1\n",
    "            elif row > 0:\n",
    "                operations += \"D\"\n",
    "                t_alignment += t[row - 1]\n",
    "                s_alignment += \"-\"\n",
    "                row -= 1\n",
    "\n",
    "    print(reverse(t_alignment))\n",
    "    print(reverse(operations))\n",
    "    print(reverse(s_alignment))\n",
    "\n",
    "\n",
    "def getMinEditDistanceUnit(source, target, allow_transposition=True):\n",
    "    # Unit costs: insert=1, delete=1, substitution=1, optional transposition=1\n",
    "    m, n = len(source), len(target)\n",
    "    matrix = [[0] * (n + 1) for _ in range(m + 1)]\n",
    "\n",
    "    for i in range(m + 1):\n",
    "        matrix[i][0] = i\n",
    "    for j in range(n + 1):\n",
    "        matrix[0][j] = j\n",
    "\n",
    "    for i in range(1, m + 1):\n",
    "        for j in range(1, n + 1):\n",
    "            cost = 0 if source[i - 1] == target[j - 1] else 1\n",
    "            best = min(\n",
    "                matrix[i - 1][j] + 1,      # delete\n",
    "                matrix[i][j - 1] + 1,      # insert\n",
    "                matrix[i - 1][j - 1] + cost  # substitute/match\n",
    "            )\n",
    "            if allow_transposition and i > 1 and j > 1 and source[i - 1] == target[j - 2] and source[i - 2] == target[j - 1]:\n",
    "                best = min(best, matrix[i - 2][j - 2] + 1)\n",
    "            matrix[i][j] = best\n",
    "\n",
    "    print(\"Source: \" + source)\n",
    "    print(\"Target: \" + target)\n",
    "    print(\"-----\")\n",
    "    print(\"Distance: \", matrix[m][n])\n",
    "    print(\"Aligment:\")\n",
    "\n",
    "    # Backtrace (handles optional transposition)\n",
    "    t_alignment, s_alignment = \"\", \"\"\n",
    "    t = [char for char in source]\n",
    "    s = [char for char in target]\n",
    "    row, col = m, n\n",
    "    operations = \"\"\n",
    "\n",
    "    while row > 0 or col > 0:\n",
    "        if allow_transposition and row > 1 and col > 1 and source[row - 1] == target[col - 2] and source[row - 2] == target[col - 1] and matrix[row][col] == matrix[row - 2][col - 2] + 1:\n",
    "            # Represent transposition across two columns with two 'T' markers\n",
    "            operations += \"TT\"\n",
    "            t_alignment += t[row - 2] + t[row - 1]\n",
    "            s_alignment += s[col - 2] + s[col - 1]\n",
    "            row -= 2\n",
    "            col -= 2\n",
    "        elif row > 0 and col > 0 and source[row - 1] == target[col - 1] and matrix[row][col] == matrix[row - 1][col - 1]:\n",
    "            operations += \" \"\n",
    "            t_alignment += t[row - 1]\n",
    "            s_alignment += s[col - 1]\n",
    "            row -= 1\n",
    "            col -= 1\n",
    "        elif row > 0 and col > 0 and matrix[row][col] == matrix[row - 1][col - 1] + 1:\n",
    "            operations += \"M\"\n",
    "            t_alignment += t[row - 1]\n",
    "            s_alignment += s[col - 1]\n",
    "            row -= 1\n",
    "            col -= 1\n",
    "        elif col > 0 and matrix[row][col] == matrix[row][col - 1] + 1:\n",
    "            operations += \"I\"\n",
    "            t_alignment += \"-\"\n",
    "            s_alignment += s[col - 1]\n",
    "            col -= 1\n",
    "        elif row > 0 and matrix[row][col] == matrix[row - 1][col] + 1:\n",
    "            operations += \"D\"\n",
    "            t_alignment += t[row - 1]\n",
    "            s_alignment += \"-\"\n",
    "            row -= 1\n",
    "        else:\n",
    "            # Fallback tie-breaking\n",
    "            up = matrix[row - 1][col] if row > 0 else float(\"inf\")\n",
    "            left = matrix[row][col - 1] if col > 0 else float(\"inf\")\n",
    "            diag = matrix[row - 1][col - 1] if (row > 0 and col > 0) else float(\"inf\")\n",
    "            min_cost = min(up, left, diag)\n",
    "            if diag <= up and diag <= left and row > 0 and col > 0:\n",
    "                op = \" \" if source[row - 1] == target[col - 1] else \"M\"\n",
    "                operations += op\n",
    "                t_alignment += t[row - 1]\n",
    "                s_alignment += s[col - 1]\n",
    "                row -= 1\n",
    "                col -= 1\n",
    "            elif left <= up and col > 0:\n",
    "                operations += \"I\"\n",
    "                t_alignment += \"-\"\n",
    "                s_alignment += s[col - 1]\n",
    "                col -= 1\n",
    "            elif row > 0:\n",
    "                operations += \"D\"\n",
    "                t_alignment += t[row - 1]\n",
    "                s_alignment += \"-\"\n",
    "                row -= 1\n",
    "\n",
    "    print(reverse(t_alignment))\n",
    "    print(reverse(operations))\n",
    "    print(reverse(s_alignment))"
   ]
  },
  {
   "cell_type": "markdown",
   "metadata": {
    "id": "Z0g8gfIKukjx"
   },
   "source": [
    "#**Test Cases**\n",
    "\n",
    "**Legend**<br>\n",
    "I - Insert <br>\n",
    "D - Delete <br>\n",
    "M - Mismatch <br>\n",
    "\" \" - Match"
   ]
  },
  {
   "cell_type": "code",
   "execution_count": null,
   "metadata": {},
   "outputs": [
    {
     "name": "stdout",
     "output_type": "stream",
     "text": [
      "Source: naruto's son\n",
      "Target: boruto's dad\n",
      "-----\n",
      "Distance:  10\n",
      "Aligment:\n",
      "naruto's son\n",
      "MM       MMM\n",
      "boruto's dad\n"
     ]
    }
   ],
   "source": [
    "getMinEditDistance(\"naruto's son\", \"boruto's dad\")"
   ]
  },
  {
   "cell_type": "code",
   "execution_count": null,
   "metadata": {},
   "outputs": [
    {
     "name": "stdout",
     "output_type": "stream",
     "text": [
      "Source: kumakain\n",
      "Target: kumain\n",
      "-----\n",
      "Distance:  2\n",
      "Aligment:\n",
      "kumakain\n",
      "   DD   \n",
      "kum--ain\n"
     ]
    }
   ],
   "source": [
    "getMinEditDistance(\"kumakain\", \"kumain\")"
   ]
  },
  {
   "cell_type": "code",
   "execution_count": null,
   "metadata": {},
   "outputs": [
    {
     "name": "stdout",
     "output_type": "stream",
     "text": [
      "Source: levinstien\n",
      "Target: levenshtein\n",
      "-----\n",
      "Distance:  5\n",
      "Aligment:\n",
      "levins-tie-n\n",
      "   M  I D I \n",
      "levensht-ein\n"
     ]
    }
   ],
   "source": [
    "getMinEditDistance(\"levinstien\", \"levenshtein\")"
   ]
  },
  {
   "cell_type": "code",
   "execution_count": null,
   "metadata": {},
   "outputs": [
    {
     "name": "stdout",
     "output_type": "stream",
     "text": [
      "Source: leviathan\n",
      "Target: levenshtein\n",
      "-----\n",
      "Distance:  10\n",
      "Aligment:\n",
      "lev--iathan\n",
      "   IIMM MM \n",
      "levenshtein\n"
     ]
    }
   ],
   "source": [
    "getMinEditDistance(\"leviathan\", \"levenshtein\")"
   ]
  },
  {
   "cell_type": "code",
   "execution_count": null,
   "metadata": {},
   "outputs": [
    {
     "name": "stdout",
     "output_type": "stream",
     "text": [
      "Source: ATGCATCCCATGAC\n",
      "Target: TCTATATCCGT\n",
      "-----\n",
      "Distance:  11\n",
      "Aligment:\n",
      "ATGC-ATCCCAT--GAC\n",
      "D D I  DDD  II DM\n",
      "-T-CTAT---ATCCG-T\n"
     ]
    }
   ],
   "source": [
    "getMinEditDistance(\"ATGCATCCCATGAC\", \"TCTATATCCGT\")"
   ]
  },
  {
   "cell_type": "code",
   "execution_count": null,
   "metadata": {},
   "outputs": [
    {
     "name": "stdout",
     "output_type": "stream",
     "text": [
      "Source: AGGCTATCACCTGACCTCCAGGCCGATGCCCACCTGG\n",
      "Target: TAGCTATCACGACCGCGGTCGATTTGCCCGACGGTCC\n",
      "-----\n",
      "Distance:  18\n",
      "Aligment:\n",
      "-AGGCTATCACCTGACCTCCAGGCCGA--TGCCC-ACCTGG---\n",
      "I D       D D    DM D  M   II     I D D  III\n",
      "TA-GCTATCA-C-GACC-GC-GGTCGATTTGCCCGA-C-GGTCC\n"
     ]
    }
   ],
   "source": [
    "getMinEditDistance(\"AGGCTATCACCTGACCTCCAGGCCGATGCCCACCTGG\", \"TAGCTATCACGACCGCGGTCGATTTGCCCGACGGTCC\")"
   ]
  },
  {
   "cell_type": "markdown",
   "metadata": {},
   "source": [
    "### Your tasks-1:\n",
    "\n",
    "Run the function getMinEditDistance(source, target) on the following test cases:\n",
    "\n",
    "* \"kitten\" → \"sitting\"\n",
    "\n",
    "* \"flaw\" → \"lawn\"\n",
    "\n",
    "* \"intention\" → \"execution\"\n",
    "\n",
    "Write down:\n",
    "\n",
    "* the edit distance,\n",
    "\n",
    "* the sequence of operations (Insertion I, Deletion D, Mismatch M),\n",
    "\n",
    "* and the final alignment printed."
   ]
  },
  {
   "cell_type": "markdown",
   "metadata": {},
   "source": [
    "### Your tasks-2:\n",
    "Extend the algorithm:\n",
    "Modify the function so that:\n",
    "\n",
    "Insertion = 1\n",
    "\n",
    "Deletion = 1\n",
    "\n",
    "Substitution = 1\n",
    "\n",
    "(Bonus) Transposition of two adjacent characters = 1\n",
    "\n",
    "Test your new algorithm on:\n",
    "\n",
    "\"abcd\" → \"acbd\""
   ]
  },
  {
   "cell_type": "code",
   "execution_count": null,
   "metadata": {},
   "outputs": [
    {
     "name": "stdout",
     "output_type": "stream",
     "text": [
      "Source: kitten\n",
      "Target: sitting\n",
      "-----\n",
      "Distance:  5\n",
      "Aligment:\n",
      "kitten-\n",
      "M   M I\n",
      "sitting\n",
      "Source: flaw\n",
      "Target: lawn\n",
      "-----\n",
      "Distance:  2\n",
      "Aligment:\n",
      "flaw-\n",
      "D   I\n",
      "-lawn\n",
      "Source: intention\n",
      "Target: execution\n",
      "-----\n",
      "Distance:  8\n",
      "Aligment:\n",
      "inte-ntion\n",
      "DMM IM    \n",
      "-execution\n",
      "Source: abcd\n",
      "Target: acbd\n",
      "-----\n",
      "Distance:  1\n",
      "Aligment:\n",
      "acbd\n",
      " TT \n",
      "abcd\n"
     ]
    }
   ],
   "source": [
    "# Tasks-1 runs\n",
    "getMinEditDistance(\"kitten\", \"sitting\")\n",
    "getMinEditDistance(\"flaw\", \"lawn\")\n",
    "getMinEditDistance(\"intention\", \"execution\")\n",
    "\n",
    "# Tasks-2 runs\n",
    "getMinEditDistanceUnit(\"abcd\", \"acbd\", allow_transposition=True)\n"
   ]
  }
 ],
 "metadata": {
  "colab": {
   "name": "PA3_MinEditDistance_template.ipynb",
   "provenance": []
  },
  "kernelspec": {
   "display_name": "Python 3",
   "language": "python",
   "name": "python3"
  },
  "language_info": {
   "codemirror_mode": {
    "name": "ipython",
    "version": 3
   },
   "file_extension": ".py",
   "mimetype": "text/x-python",
   "name": "python",
   "nbconvert_exporter": "python",
   "pygments_lexer": "ipython3",
   "version": "3.11.13"
  }
 },
 "nbformat": 4,
 "nbformat_minor": 4
}
