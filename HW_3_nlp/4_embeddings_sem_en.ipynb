{
 "cells": [
  {
   "cell_type": "markdown",
   "metadata": {
    "id": "ypt7ymI8X-rM"
   },
   "source": [
    "# Embeddings\n",
    "\n",
    "## Word2Vec\n",
    "\n",
    "Vector models that we considered before (TF -idf, Bow) are conditionally called *counting *. They are based on the fact that one way or another they “consider” the words and their neighbors, and based on this they build a vector for words.\n",
    "\n",
    "Another class of models, which is more commonly common to date, is called *predictive *(or *neural *) models. The idea of ​​these models is to use neural networks that \"predict\" (and not count) neighbors of words. One of the most famous such models is Word2VEC. The technology is based on a neural network that predicts the likelihood of finding a word in a given context. This tool was developed by a group of Google researchers in 2013, the project manager was Tomash Mikolov (now working on Facebook). Here are the two most important articles:\n",
    "\n",
    "* [Efficient Estimation of Word Representations in Vector Space](https://arxiv.org/pdf/1301.3781.pdf)\n",
    "* [Distributed Representations of Words and Phrases and their Compositionality](https://arxiv.org/abs/1310.4546)\n",
    "\n",
    "\n",
    "The vectors obtained in this way are called*distributed representations of the words*, or ** embeddings **.\n",
    "\n",
    "\n",
    "### How does it study?\n",
    "We set a vector for each word using a $ W $ matrix and a context vector using a $ w $ matrix. In fact, Word2VEC is a generalizing name for two architectures of SKIP-Gram and Continous Bag-OF-Words (CBOW).\n",
    "\n",
    "** CBOW ** predicts the current word based on the context surrounding it.\n",
    "\n",
    "** Skip-Gram **, on the contrary, uses the current word to predict the words surrounding him.\n",
    "\n",
    "### How does it work?\n",
    "Word2VEC accepts a large text case as input data and compares each word of the vector, giving out the coordinates of words at the output. First, he creates a dictionary, “studying” on the input text data, and then calculates the vector representation of words. The vector representation is based on contextual proximity: the words found in the text next to the same words (and therefore, according to the distribution hypothesis that have a similar meaning), in the vector representation will have close coordinates of the vectors-words. To calculate the proximity of words, the cosine distance between their vectors is used.\n",
    "\n",
    "\n",
    "With the help of distribution vector models, you can build semantic proportions (they are also analogy) and solve examples:\n",
    "\n",
    "* * King: Man = Queen: Woman *\n",
    "$\\Rightarrow$\n",
    "* * king - man + woman = queen *"
   ]
  },
  {
   "cell_type": "markdown",
   "metadata": {
    "id": "Z3sSyfHaX-rN"
   },
   "source": [
    "![w2v](https://cdn-images-1.medium.com/max/2600/1*sXNXYfAqfLUeiDXPCo130w.png)"
   ]
  },
  {
   "cell_type": "markdown",
   "metadata": {
    "id": "0oH_UDyFX-rO"
   },
   "source": [
    "### Problems\n",
    "It is impossible to establish the type of semantic relations between the words: synonyms, antonyms, etc. They will be equally close because they are usually used in similar contexts. Therefore, the words close in the vector space are called *semantic associates *. This means that they are semantically connected, but how exactly it is incomprehensible.\n",
    "\n",
    "\n",
    "### in rusvectics\n",
    "\n",
    "\n",
    "On the XX_MarkDown_Link_XX website, pretended to learn from various data for the Russian language are collected, and you can also look for the closest words to the given, calculate the semantic proximity of a few words and post examples using the “calculator of semantic proximity”.\n",
    "\n",
    "\n",
    "For other languages, you can also find the learned models - for example, the XX_MarkDown_Link_XX and XX_MarkDown_Link_XX models (about them a little further).\n",
    "\n",
    "### visualization\n",
    "And [вот тут](https://projector.tensorflow.org/) has good visualization for English."
   ]
  },
  {
   "cell_type": "markdown",
   "metadata": {
    "id": "yXNm8flVX-rP"
   },
   "source": [
    "## Gensim\n",
    "\n",
    "You can use the pre -study model of embedding or teach your own using the `Gensim` library. Here is [ее документация](https://radimrehurek.com/gensim/models/word2vec.html).\n",
    "\n",
    "### How to use a finished model\n",
    "\n",
    "Word2Vec models come in different formats:\n",
    "\n",
    "* .Vec.gz - regular file\n",
    "* .bin.gz - binary\n",
    "\n",
    "They are loaded with the same class `keyedVectors', only the` binary` parameter is changing in the `Load_Word2VEC_FORMAT` function.\n",
    "\n",
    "If the embeddings are trained ** not ** using Word2VEC, then to download the `Load` function. Those. To load the pre -learned Embeddings * Glove, FastText, BPE * and any others are needed.\n",
    "\n",
    "Download with rusvectōrēs model for the Russian language, trained on the NKRA of the 2015 model."
   ]
  },
  {
   "cell_type": "code",
   "execution_count": 1,
   "metadata": {
    "colab": {
     "base_uri": "https://localhost:8080/"
    },
    "collapsed": true,
    "executionInfo": {
     "elapsed": 107683,
     "status": "ok",
     "timestamp": 1719043438917,
     "user": {
      "displayName": "Ильсеяр Алимова",
      "userId": "18086433180291504366"
     },
     "user_tz": -180
    },
    "id": "GB_zmkGeKckW",
    "jupyter": {
     "outputs_hidden": true
    },
    "outputId": "dceadbdc-44f8-4809-ba15-006c9e6e6708"
   },
   "outputs": [
    {
     "name": "stdout",
     "output_type": "stream",
     "text": [
      "Requirement already satisfied: pymorphy2 in /Library/Frameworks/Python.framework/Versions/3.13/lib/python3.13/site-packages (0.9.1)\n",
      "Requirement already satisfied: dawg-python>=0.7.1 in /Library/Frameworks/Python.framework/Versions/3.13/lib/python3.13/site-packages (from pymorphy2) (0.7.2)\n",
      "Requirement already satisfied: pymorphy2-dicts-ru<3.0,>=2.4 in /Library/Frameworks/Python.framework/Versions/3.13/lib/python3.13/site-packages (from pymorphy2) (2.4.417127.4579844)\n",
      "Requirement already satisfied: docopt>=0.6 in /Library/Frameworks/Python.framework/Versions/3.13/lib/python3.13/site-packages (from pymorphy2) (0.6.2)\n",
      "fatal: destination path 'fastText' already exists and is not an empty directory.\n",
      "Processing ./fastText\n",
      "  Installing build dependencies ... \u001b[?25ldone\n",
      "\u001b[?25h  Getting requirements to build wheel ... \u001b[?25ldone\n",
      "\u001b[?25h  Preparing metadata (pyproject.toml) ... \u001b[?25ldone\n",
      "\u001b[?25hRequirement already satisfied: pybind11>=2.2 in /Library/Frameworks/Python.framework/Versions/3.13/lib/python3.13/site-packages (from fasttext==0.9.2) (3.0.1)\n",
      "Requirement already satisfied: setuptools>=0.7.0 in /Library/Frameworks/Python.framework/Versions/3.13/lib/python3.13/site-packages (from fasttext==0.9.2) (80.9.0)\n",
      "Requirement already satisfied: numpy in /Library/Frameworks/Python.framework/Versions/3.13/lib/python3.13/site-packages (from fasttext==0.9.2) (2.3.3)\n",
      "Building wheels for collected packages: fasttext\n",
      "  Building wheel for fasttext (pyproject.toml) ... \u001b[?25ldone\n",
      "\u001b[?25h  Created wheel for fasttext: filename=fasttext-0.9.2-cp313-cp313-macosx_15_0_universal2.whl size=648418 sha256=86281a621c8873e9e5255d903ac617a7abe699ad02ad3023ab5fad0af65dbe96\n",
      "  Stored in directory: /private/var/folders/72/yc2t36h56mgcmq032mcwsscm0000gn/T/pip-ephem-wheel-cache-6dck5esk/wheels/78/22/f3/05583fd0f25ffcb03840e79245d7fd24faaa37f61fd3af739b\n",
      "Successfully built fasttext\n",
      "Installing collected packages: fasttext\n",
      "  Attempting uninstall: fasttext\n",
      "    Found existing installation: fasttext 0.9.2\n",
      "    Uninstalling fasttext-0.9.2:\n",
      "      Successfully uninstalled fasttext-0.9.2\n",
      "Successfully installed fasttext-0.9.2\n"
     ]
    }
   ],
   "source": [
    "!pip install pymorphy2\n",
    "! git clone https://github.com/facebookresearch/fastText.git\n",
    "! pip3 install fastText/."
   ]
  },
  {
   "cell_type": "code",
   "execution_count": 2,
   "metadata": {
    "colab": {
     "base_uri": "https://localhost:8080/"
    },
    "executionInfo": {
     "elapsed": 22414,
     "status": "ok",
     "timestamp": 1719043461327,
     "user": {
      "displayName": "Ильсеяр Алимова",
      "userId": "18086433180291504366"
     },
     "user_tz": -180
    },
    "id": "q9_ujGhANMS7",
    "outputId": "2a5247a2-1b06-4e50-c2fa-f67e32c59928",
    "scrolled": true
   },
   "outputs": [
    {
     "name": "stdout",
     "output_type": "stream",
     "text": [
      "zsh:1: command not found: wget\n",
      "zsh:1: command not found: wget\n",
      "zsh:1: command not found: wget\n",
      "zsh:1: command not found: wget\n",
      "zsh:1: no matches found: https://www.dropbox.com/s/fnpq3z4bcnoktiv/positive.csv?dl=0\n",
      "zsh:1: no matches found: https://www.dropbox.com/s/r6u59ljhhjdg6j0/negative.csv?dl=0\n"
     ]
    }
   ],
   "source": [
    "! wget https://rusvectores.org/static/models/rusvectores4/unigrams/ruwikiruscorpora-nobigrams_upos_skipgram_300_5_2018.vec.gz\n",
    "! wget https://raw.githubusercontent.com/ancatmara/data-science-nlp/master/data/w2v/train/unlabeledTrainData.tsv\n",
    "! wget https://raw.githubusercontent.com/ancatmara/data-science-nlp/master/data/w2v/train/alice.txt\n",
    "! wget https://raw.githubusercontent.com/ancatmara/data-science-nlp/master/data/w2v/evaluation/ru_analogy_tagged.txt\n",
    "! wget -O positive.csv https://www.dropbox.com/s/fnpq3z4bcnoktiv/positive.csv?dl=0\n",
    "! wget -O negative.csv https://www.dropbox.com/s/r6u59ljhhjdg6j0/negative.csv?dl=0"
   ]
  },
  {
   "cell_type": "code",
   "execution_count": 3,
   "metadata": {},
   "outputs": [
    {
     "name": "stdout",
     "output_type": "stream",
     "text": [
      "Requirement already satisfied: pymorphy3 in /Library/Frameworks/Python.framework/Versions/3.13/lib/python3.13/site-packages (2.0.5)\n",
      "Requirement already satisfied: dawg2-python>=0.8.0 in /Library/Frameworks/Python.framework/Versions/3.13/lib/python3.13/site-packages (from pymorphy3) (0.9.0)\n",
      "Requirement already satisfied: pymorphy3-dicts-ru in /Library/Frameworks/Python.framework/Versions/3.13/lib/python3.13/site-packages (from pymorphy3) (2.4.417150.4580142)\n",
      "Requirement already satisfied: setuptools>=68.2.2 in /Library/Frameworks/Python.framework/Versions/3.13/lib/python3.13/site-packages (from pymorphy3) (80.9.0)\n"
     ]
    }
   ],
   "source": [
    "!pip install pymorphy3\n",
    "\n",
    "from pymorphy3 import MorphAnalyzer"
   ]
  },
  {
   "cell_type": "code",
   "execution_count": 4,
   "metadata": {
    "colab": {
     "base_uri": "https://localhost:8080/"
    },
    "executionInfo": {
     "elapsed": 9215,
     "status": "ok",
     "timestamp": 1719043589109,
     "user": {
      "displayName": "Ильсеяр Алимова",
      "userId": "18086433180291504366"
     },
     "user_tz": -180
    },
    "id": "sTLnNKaNX-rP",
    "outputId": "7b3b18fd-4fe8-4bd0-b8c9-b8d1a27bd264"
   },
   "outputs": [
    {
     "name": "stderr",
     "output_type": "stream",
     "text": [
      "[nltk_data] Downloading package punkt to\n",
      "[nltk_data]     /Users/raimkhanovd/nltk_data...\n",
      "[nltk_data]   Package punkt is already up-to-date!\n"
     ]
    }
   ],
   "source": [
    "import re\n",
    "import gensim\n",
    "import logging\n",
    "import nltk.data\n",
    "import pandas as pd\n",
    "import urllib.request\n",
    "from bs4 import BeautifulSoup\n",
    "from nltk.corpus import stopwords\n",
    "from gensim.models import word2vec\n",
    "from nltk.tokenize import sent_tokenize, RegexpTokenizer\n",
    "from pymorphy2 import MorphAnalyzer\n",
    "from gensim.test.utils import datapath\n",
    "nltk.download('punkt')\n",
    "\n",
    "from nltk import FreqDist\n",
    "from tqdm import tqdm_notebook as tqdm\n",
    "from sklearn.manifold import TSNE\n",
    "\n",
    "from bokeh.models import ColumnDataSource, LabelSet\n",
    "from bokeh.plotting import figure, show, output_file\n",
    "from bokeh.io import output_notebook\n",
    "\n",
    "from sklearn.decomposition import TruncatedSVD\n",
    "import fasttext\n",
    "\n",
    "from functools import lru_cache\n",
    "from multiprocessing import Pool\n",
    "import numpy as np\n",
    "from sklearn.model_selection import train_test_split\n",
    "from tqdm import tqdm_notebook as tqdm\n",
    "import re"
   ]
  },
  {
   "cell_type": "code",
   "execution_count": 5,
   "metadata": {
    "executionInfo": {
     "elapsed": 105703,
     "status": "ok",
     "timestamp": 1719044275321,
     "user": {
      "displayName": "Ильсеяр Алимова",
      "userId": "18086433180291504366"
     },
     "user_tz": -180
    },
    "id": "mkuCawyFX-rW"
   },
   "outputs": [],
   "source": [
    "model_path = 'ruwikiruscorpora-nobigrams_upos_skipgram_300_5_2018.vec.gz'\n",
    "\n",
    "model_ru = gensim.models.KeyedVectors.load_word2vec_format(model_path, binary=False)"
   ]
  },
  {
   "cell_type": "markdown",
   "metadata": {
    "id": "ZvvO1ew5p3PP"
   },
   "source": [
    "Take a few words for example:"
   ]
  },
  {
   "cell_type": "code",
   "execution_count": 6,
   "metadata": {
    "executionInfo": {
     "elapsed": 333,
     "status": "ok",
     "timestamp": 1719044364025,
     "user": {
      "displayName": "Ильсеяр Алимова",
      "userId": "18086433180291504366"
     },
     "user_tz": -180
    },
    "id": "H4D0hMgkX-rY"
   },
   "outputs": [],
   "source": [
    "words = ['день_NOUN', 'ночь_NOUN', 'человек_NOUN', 'семантика_NOUN', 'биткоин_NOUN']"
   ]
  },
  {
   "cell_type": "markdown",
   "metadata": {
    "id": "jbTShU9aX-ra"
   },
   "source": [
    "Frequency tags are needed, since it is the specifics of the downloaded model - it was trained in words announced by their parts of speech (and lemmetized). ** NB! ** The names of models on `rusvectores` indicate which tigset they use (Mystem, Upos, etc.)\n",
    "\n",
    "Let us ask the model 10 closest neighbors for each word and the coefficient of cosine proximity to everyone:"
   ]
  },
  {
   "cell_type": "code",
   "execution_count": 7,
   "metadata": {
    "colab": {
     "base_uri": "https://localhost:8080/"
    },
    "executionInfo": {
     "elapsed": 1139,
     "status": "ok",
     "timestamp": 1719044496015,
     "user": {
      "displayName": "Ильсеяр Алимова",
      "userId": "18086433180291504366"
     },
     "user_tz": -180
    },
    "id": "9Uer5sHyX-ra",
    "outputId": "bae3e7db-05e0-4aa3-be6d-e559a2647ff8"
   },
   "outputs": [
    {
     "name": "stdout",
     "output_type": "stream",
     "text": [
      "день_NOUN\n",
      "[ 0.117177  0.008562 -0.054731  0.03821   0.006885  0.041716  0.063708\n",
      "  0.070478  0.032087  0.050791]\n",
      "неделя_NOUN :  0.7242119312286377\n",
      "месяц_NOUN :  0.717863917350769\n",
      "утро_NOUN :  0.6738513708114624\n",
      "вечер_NOUN :  0.6443345546722412\n",
      "воскресенье_NOUN :  0.6362560391426086\n",
      "час_NOUN :  0.6329834461212158\n",
      "накануне_ADV :  0.6304810047149658\n",
      "днями_NOUN :  0.6276212334632874\n",
      "днемя_NOUN :  0.621060848236084\n",
      "ночь_NOUN :  0.6077756285667419\n",
      "\n",
      "\n",
      "ночь_NOUN\n",
      "[ 0.070529 -0.068594  0.029781  0.035559 -0.01488   0.072418 -0.01183\n",
      "  0.051797 -0.024269  0.034406]\n",
      "ночь_PROPN :  0.788449227809906\n",
      "вечер_NOUN :  0.7778281569480896\n",
      "утро_NOUN :  0.7638111710548401\n",
      "полночь_NOUN :  0.7437741756439209\n",
      "рассвет_NOUN :  0.6889955997467041\n",
      "полдень_NOUN :  0.6811894178390503\n",
      "утро_PROPN :  0.6788181066513062\n",
      "сумерки_NOUN :  0.6461666226387024\n",
      "напроать_NOUN :  0.6451945900917053\n",
      "напролет_VERB :  0.6393611431121826\n",
      "\n",
      "\n",
      "человек_NOUN\n",
      "[ 0.022094 -0.077399  0.038363 -0.051602  0.000347  0.073115 -0.068763\n",
      " -0.037081 -0.057053  0.103592]\n",
      "человеколо_NOUN :  0.6339133977890015\n",
      "людямя_NOUN :  0.5752429962158203\n",
      "человек_PROPN :  0.5624400973320007\n",
      "людей_NOUN :  0.5577747821807861\n",
      "плотностьнаселение_PROPN :  0.5463516116142273\n",
      "человекомя_NOUN :  0.5419780611991882\n",
      "микрочел/кв.етр_NOUN :  0.5279954075813293\n",
      "человека_NOUN :  0.5220513939857483\n",
      ",человек_ADJ :  0.5200932621955872\n",
      "душа_NOUN :  0.5174600481987\n",
      "\n",
      "\n",
      "семантика_NOUN\n",
      "[ 0.145827  0.079547 -0.015398  0.044673  0.01098   0.018703 -0.017285\n",
      " -0.003601 -0.012524 -0.03982 ]\n",
      "семантический_ADJ :  0.7788299918174744\n",
      "синтаксический_ADJ :  0.740973174571991\n",
      "-семантический_ADJ :  0.7346712350845337\n",
      "метаязык_NOUN :  0.7314320802688599\n",
      "синтаксис_NOUN :  0.7253472805023193\n",
      "семантико_ADJ :  0.7231251001358032\n",
      "семантика_PROPN :  0.7222791910171509\n",
      "парадигматика_NOUN :  0.7084904313087463\n",
      "синтактика_NOUN :  0.7036083340644836\n",
      "интенсиональный_ADJ :  0.7011395692825317\n",
      "\n",
      "\n",
      "Увы, слова \"биткоин_NOUN\" нет в модели!\n"
     ]
    }
   ],
   "source": [
    "for word in words:\n",
    "    # есть ли слово в модели?\n",
    "    if word in model_ru:\n",
    "        print(word)\n",
    "        # смотрим на вектор слова (его размерность 300, смотрим на первые 10 чисел)\n",
    "        print(model_ru[word][:10])\n",
    "        # выдаем 10 ближайших соседей слова:\n",
    "        for word, sim in model_ru.most_similar(positive=[word], topn=10):\n",
    "            # слово + коэффициент косинусной близости\n",
    "            print(word, ': ', sim)\n",
    "        print('\\n')\n",
    "    else:\n",
    "        # Увы!\n",
    "        print('Увы, слова \"%s\" нет в модели!' % word)"
   ]
  },
  {
   "cell_type": "markdown",
   "metadata": {
    "id": "1GqDmAcJX-rc"
   },
   "source": [
    "We find the cosine closeness of a pair of words:"
   ]
  },
  {
   "cell_type": "code",
   "execution_count": 8,
   "metadata": {
    "colab": {
     "base_uri": "https://localhost:8080/"
    },
    "executionInfo": {
     "elapsed": 334,
     "status": "ok",
     "timestamp": 1719044721755,
     "user": {
      "displayName": "Ильсеяр Алимова",
      "userId": "18086433180291504366"
     },
     "user_tz": -180
    },
    "id": "MDFjOSJjX-rd",
    "outputId": "4d016065-49ba-40e2-a545-8a5c08f6e3cd"
   },
   "outputs": [
    {
     "name": "stdout",
     "output_type": "stream",
     "text": [
      "0.7847429\n"
     ]
    }
   ],
   "source": [
    "print(model_ru.similarity('nvidia_PROPN', 'видеокарта_NOUN'))"
   ]
  },
  {
   "cell_type": "markdown",
   "metadata": {
    "id": "B0w4pQooX-rf"
   },
   "source": [
    "What happens if you subtract Italy from pizza and add Siberia?\n",
    "\n",
    "* Positive - vectors that we add\n",
    "* Negative - vectors that we subtract"
   ]
  },
  {
   "cell_type": "code",
   "execution_count": 9,
   "metadata": {
    "colab": {
     "base_uri": "https://localhost:8080/"
    },
    "executionInfo": {
     "elapsed": 340,
     "status": "ok",
     "timestamp": 1719044962294,
     "user": {
      "displayName": "Ильсеяр Алимова",
      "userId": "18086433180291504366"
     },
     "user_tz": -180
    },
    "id": "N0L5_TCQX-rf",
    "outputId": "330a8456-fb20-4de8-ee4e-3f787b5aee58"
   },
   "outputs": [
    {
     "name": "stdout",
     "output_type": "stream",
     "text": [
      "татарстан_NOUN\n"
     ]
    }
   ],
   "source": [
    "print(model_ru.most_similar(positive=['татарин_NOUN', 'казахстан_NOUN'], negative=['казах_NOUN'])[0][0])"
   ]
  },
  {
   "cell_type": "code",
   "execution_count": 10,
   "metadata": {
    "colab": {
     "base_uri": "https://localhost:8080/",
     "height": 35
    },
    "executionInfo": {
     "elapsed": 336,
     "status": "ok",
     "timestamp": 1719045177818,
     "user": {
      "displayName": "Ильсеяр Алимова",
      "userId": "18086433180291504366"
     },
     "user_tz": -180
    },
    "id": "DrN2Jc31X-rh",
    "outputId": "d91c47fb-e855-4047-fc39-49e998d5bb3d"
   },
   "outputs": [
    {
     "data": {
      "text/plain": [
       "'манты_NOUN'"
      ]
     },
     "execution_count": 10,
     "metadata": {},
     "output_type": "execute_result"
    }
   ],
   "source": [
    "model_ru.doesnt_match('бешбармак_NOUN плов_NOUN манты_NOUN'.split())"
   ]
  },
  {
   "cell_type": "markdown",
   "metadata": {
    "id": "z9XsGSE_HuFJ"
   },
   "source": [
    "** Warm exercises **\n",
    "\n",
    "Find an example of a multi-valued word for which in the top 10 (method `most_similar`) words similar to it include words related to different meanings:"
   ]
  },
  {
   "cell_type": "code",
   "execution_count": 11,
   "metadata": {
    "colab": {
     "base_uri": "https://localhost:8080/"
    },
    "executionInfo": {
     "elapsed": 355,
     "status": "ok",
     "timestamp": 1719030730640,
     "user": {
      "displayName": "Ильсеяр Алимова",
      "userId": "18086433180291504366"
     },
     "user_tz": -180
    },
    "id": "MWXGH79-H1ED",
    "outputId": "3fc9f58c-0b62-4a32-a3f8-b96743f90b2b"
   },
   "outputs": [
    {
     "data": {
      "text/plain": [
       "[('ключ_ADJ', 0.6990529298782349),\n",
       " ('ключом_NOUN', 0.6460300087928772),\n",
       " ('ключ_PROPN', 0.6185873746871948),\n",
       " ('расшифровывание_NOUN', 0.5978684425354004),\n",
       " ('ключ_VERB', 0.5960569381713867),\n",
       " ('криптосистем_NOUN', 0.5936962962150574),\n",
       " ('отмычка_NOUN', 0.5862348675727844),\n",
       " ('отмычкий_NOUN', 0.577734649181366),\n",
       " ('зашифровывать_VERB', 0.5704914927482605),\n",
       " ('диффи-хеллман_PROPN', 0.5641185641288757)]"
      ]
     },
     "execution_count": 11,
     "metadata": {},
     "output_type": "execute_result"
    }
   ],
   "source": [
    "model_ru.most_similar(positive=['ключ_NOUN'], topn=10)"
   ]
  },
  {
   "cell_type": "code",
   "execution_count": 12,
   "metadata": {},
   "outputs": [
    {
     "data": {
      "text/plain": [
       "[('дверца_NOUN', 0.7919579744338989),\n",
       " ('дверка_NOUN', 0.7831783294677734),\n",
       " ('отвориться_VERB', 0.7785482406616211),\n",
       " ('калитка_NOUN', 0.7784631252288818),\n",
       " ('дверной_ADJ', 0.7726610898971558),\n",
       " ('засов_NOUN', 0.7565937042236328),\n",
       " ('настежь_ADV', 0.7547725439071655),\n",
       " ('приотвориться_VERB', 0.7538771033287048),\n",
       " ('прихожая_NOUN', 0.750787615776062),\n",
       " ('отворить_VERB', 0.7491068243980408)]"
      ]
     },
     "execution_count": 12,
     "metadata": {},
     "output_type": "execute_result"
    }
   ],
   "source": [
    "model_ru.most_similar(positive=['дверь_NOUN'], topn=10)"
   ]
  },
  {
   "cell_type": "markdown",
   "metadata": {
    "id": "adiAA7AqIY4g"
   },
   "source": [
    "By analogy with Italy - pizza, Siberia - cracker, come up with a similar bunch of words for verification:"
   ]
  },
  {
   "cell_type": "code",
   "execution_count": 13,
   "metadata": {
    "colab": {
     "base_uri": "https://localhost:8080/"
    },
    "executionInfo": {
     "elapsed": 328,
     "status": "ok",
     "timestamp": 1719030769873,
     "user": {
      "displayName": "Ильсеяр Алимова",
      "userId": "18086433180291504366"
     },
     "user_tz": -180
    },
    "id": "u5bzD-ZXKOSY",
    "outputId": "498cb09e-2761-47d9-ef7a-f6d1b324032a"
   },
   "outputs": [
    {
     "data": {
      "text/plain": [
       "[('польша_NOUN', 0.3561699390411377),\n",
       " ('франция_NOUN', 0.3416089415550232),\n",
       " ('дплс_PROPN', 0.2917875051498413),\n",
       " ('албания_NOUN', 0.28964763879776),\n",
       " ('норвегия_NOUN', 0.27540141344070435),\n",
       " ('португалия_NOUN', 0.26797914505004883),\n",
       " ('канада_NOUN', 0.26344889402389526),\n",
       " ('каталонии_NOUN', 0.2630119025707245),\n",
       " ('италию_NOUN', 0.2511085569858551),\n",
       " ('греция_NOUN', 0.24830304086208344)]"
      ]
     },
     "execution_count": 13,
     "metadata": {},
     "output_type": "execute_result"
    }
   ],
   "source": [
    "model_ru.most_similar(positive=['италия_NOUN'], negative=['пицца_NOUN'])"
   ]
  },
  {
   "cell_type": "code",
   "execution_count": 14,
   "metadata": {},
   "outputs": [
    {
     "data": {
      "text/plain": [
       "[('королева_NOUN', 0.7274051904678345),\n",
       " ('королева_ADV', 0.6973327994346619),\n",
       " ('королева_ADJ', 0.6478138566017151),\n",
       " ('король_PROPN', 0.6415081024169922),\n",
       " ('короля_NOUN', 0.6195558905601501),\n",
       " ('королева-консорт_NOUN', 0.6013587713241577),\n",
       " ('людовик_PROPN', 0.5912467837333679),\n",
       " ('-консорт_NOUN', 0.5904234051704407),\n",
       " ('королевство_NOUN', 0.5836767554283142),\n",
       " ('монарх_NOUN', 0.5797033309936523)]"
      ]
     },
     "execution_count": 14,
     "metadata": {},
     "output_type": "execute_result"
    }
   ],
   "source": [
    "model_ru.most_similar(positive=['король_NOUN', 'женщина_NOUN'], negative=['мужчина_NOUN'])"
   ]
  },
  {
   "cell_type": "markdown",
   "metadata": {
    "id": "dpIDtQIzKO1M"
   },
   "source": [
    "Give an example of three words W1, W2, W3, such that W1 and W2 are synonyms, W1 and W3 are antonyms, but at the same time, Similarity (W1, W2) <Similarity (W1, W3)."
   ]
  },
  {
   "cell_type": "code",
   "execution_count": 15,
   "metadata": {
    "colab": {
     "base_uri": "https://localhost:8080/",
     "height": 304
    },
    "executionInfo": {
     "elapsed": 325,
     "status": "error",
     "timestamp": 1719030773565,
     "user": {
      "displayName": "Ильсеяр Алимова",
      "userId": "18086433180291504366"
     },
     "user_tz": -180
    },
    "id": "YLHYb34gKXgz",
    "outputId": "35b1076c-745b-4e3d-8f22-eca6f180dbeb",
    "scrolled": true
   },
   "outputs": [
    {
     "data": {
      "text/plain": [
       "[('идти_NOUN', 0.771446704864502),\n",
       " ('пойти_VERB', 0.7684582471847534),\n",
       " ('идти_NUM', 0.6786747574806213),\n",
       " ('ихать_VERB', 0.658195972442627),\n",
       " ('идти_ADJ', 0.6211366653442383),\n",
       " ('повехать_VERB', 0.6183276772499084),\n",
       " ('брести_VERB', 0.6125516891479492),\n",
       " ('подвигаться_VERB', 0.6117923259735107),\n",
       " ('плетиваться_VERB', 0.602618932723999),\n",
       " ('ида_VERB', 0.6008362770080566)]"
      ]
     },
     "execution_count": 15,
     "metadata": {},
     "output_type": "execute_result"
    }
   ],
   "source": [
    "model_ru.most_similar(positive=['идти_VERB'], topn=10)"
   ]
  },
  {
   "cell_type": "markdown",
   "metadata": {
    "id": "0rfihwVJKwzC"
   },
   "source": [
    "### Exercise\n",
    "\n",
    "Write a function that accepts the proposal to the input, and replaces the random noun in it with Associat - the closest word to it from the Word2VEC model.\n",
    "\n",
    "NB: For this you will need a morphological analyzer. I advise you to use Pymorphy (we briefly talked about it at the last seminar)."
   ]
  },
  {
   "cell_type": "markdown",
   "metadata": {
    "id": "nCMPmoRrM3ES"
   },
   "source": [
    "How to use Pymorphy:"
   ]
  },
  {
   "cell_type": "code",
   "execution_count": 18,
   "metadata": {
    "id": "AYvl-ttDNCJl",
    "scrolled": true
   },
   "outputs": [],
   "source": [
    "from pymorphy3 import MorphAnalyzer\n",
    "\n",
    "analyser = MorphAnalyzer()"
   ]
  },
  {
   "cell_type": "code",
   "execution_count": 19,
   "metadata": {
    "colab": {
     "base_uri": "https://localhost:8080/"
    },
    "id": "xUvP-U-nNF6Y",
    "outputId": "1c87d734-97d7-4a5c-b576-79b3609c2643"
   },
   "outputs": [
    {
     "data": {
      "text/plain": [
       "[Parse(word='слово', tag=OpencorporaTag('NOUN,inan,neut sing,nomn'), normal_form='слово', score=0.59813, methods_stack=((DictionaryAnalyzer(), 'слово', 54, 0),)),\n",
       " Parse(word='слово', tag=OpencorporaTag('NOUN,inan,neut sing,accs'), normal_form='слово', score=0.401869, methods_stack=((DictionaryAnalyzer(), 'слово', 54, 3),))]"
      ]
     },
     "execution_count": 19,
     "metadata": {},
     "output_type": "execute_result"
    }
   ],
   "source": [
    "# разобрать слово (в данном случае возможно два разбора, поэтому получаем список из двух элементов)\n",
    "result = analyser.parse('слово')\n",
    "result"
   ]
  },
  {
   "cell_type": "code",
   "execution_count": 20,
   "metadata": {
    "colab": {
     "base_uri": "https://localhost:8080/",
     "height": 35
    },
    "id": "enrQF-SQOtQP",
    "outputId": "57c6e55b-7658-4fae-95a9-d413e5272fdb"
   },
   "outputs": [
    {
     "data": {
      "text/plain": [
       "'NOUN'"
      ]
     },
     "execution_count": 20,
     "metadata": {},
     "output_type": "execute_result"
    }
   ],
   "source": [
    "# достать часть речи\n",
    "result[0].tag.POS"
   ]
  },
  {
   "cell_type": "code",
   "execution_count": 21,
   "metadata": {
    "colab": {
     "base_uri": "https://localhost:8080/",
     "height": 35
    },
    "id": "a8P6VpjDPR_z",
    "outputId": "b731e8df-2c52-420b-b1c9-d15a5af4e201"
   },
   "outputs": [
    {
     "data": {
      "text/plain": [
       "'слову'"
      ]
     },
     "execution_count": 21,
     "metadata": {},
     "output_type": "execute_result"
    }
   ],
   "source": [
    "# поставить в дательный падеж\n",
    "result[0].inflect(frozenset(['datv'])).word"
   ]
  },
  {
   "cell_type": "markdown",
   "metadata": {
    "id": "PNhjJC-xPwMg"
   },
   "source": [
    "Your function (for simplicity, you can not try to put the word in the \"necessary\" form and limit yourself to a nominative case):"
   ]
  },
  {
   "cell_type": "code",
   "execution_count": 22,
   "metadata": {
    "colab": {
     "base_uri": "https://localhost:8080/",
     "height": 287
    },
    "id": "uAZnJ1tH_c_S",
    "outputId": "2fd5c538-417a-43fc-e51a-823e0dfa0bad",
    "scrolled": true
   },
   "outputs": [
    {
     "data": {
      "text/plain": [
       "[('покупать_VERB', 0.8457080125808716)]"
      ]
     },
     "execution_count": 22,
     "metadata": {},
     "output_type": "execute_result"
    }
   ],
   "source": [
    "model_ru.most_similar(positive=['купить_VERB'], topn=1)"
   ]
  },
  {
   "cell_type": "code",
   "execution_count": 23,
   "metadata": {
    "colab": {
     "base_uri": "https://localhost:8080/",
     "height": 35
    },
    "id": "X3i8IRL9-VO8",
    "outputId": "b869fcda-da43-41ca-dfb7-9a1422b629ca"
   },
   "outputs": [
    {
     "data": {
      "text/plain": [
       "'крошечный человеколо видеть обезьяна франция '"
      ]
     },
     "execution_count": 23,
     "metadata": {},
     "output_type": "execute_result"
    }
   ],
   "source": [
    "sent = 'маленький_ADJ человек_NOUN увидеть_VERB обезьяна_NOUN италия_NOUN'.split()\n",
    "new_sent = ''\n",
    "for word in sent:\n",
    "    # word = word.lower()\n",
    "    result = analyser.parse(word)[0].tag.POS\n",
    "    new_word = f'{word}_{result}'\n",
    "    top1 = model_ru.most_similar(positive=[word], topn=1)[0][0].split('_')[0]\n",
    "    new_sent += top1 + ' '\n",
    "new_sent"
   ]
  },
  {
   "cell_type": "code",
   "execution_count": 29,
   "metadata": {},
   "outputs": [],
   "source": [
    "import random\n",
    "\n",
    "def change_random_noun(sentence):\n",
    "    words = sentence.split()\n",
    "    nouns = []\n",
    "    for word in words:\n",
    "        parsed_word = analyser.parse(word.lower())\n",
    "        if parsed_word and parsed_word[0].tag.POS == 'NOUN':\n",
    "            nouns.append(word)\n",
    "\n",
    "    if not nouns:\n",
    "        return sentence\n",
    "\n",
    "    random_noun = random.choice(nouns)\n",
    "    tagged_random_noun = f\"{random_noun.lower()}_NOUN\"\n",
    "\n",
    "    if tagged_random_noun in model_ru:\n",
    "        try:\n",
    "            closest_associate = model_ru.most_similar(positive=[tagged_random_noun], topn=1)[0][0].split('_')[0]\n",
    "            new_sentence = sentence.replace(random_noun, closest_associate, 1)\n",
    "            return new_sentence\n",
    "        except IndexError:\n",
    "            # Handle cases where most_similar might return an empty list\n",
    "            return sentence\n",
    "    else:\n",
    "        return sentence"
   ]
  },
  {
   "cell_type": "markdown",
   "metadata": {
    "id": "ZNHMtmbqX-rl"
   },
   "source": [
    "## how to train your model\n",
    "\n",
    "As training data, we take the marked and unreasonable reviews about films (the dataset is taken with Kaggle)."
   ]
  },
  {
   "cell_type": "code",
   "execution_count": 41,
   "metadata": {
    "colab": {
     "base_uri": "https://localhost:8080/"
    },
    "executionInfo": {
     "elapsed": 1596,
     "status": "ok",
     "timestamp": 1719045236464,
     "user": {
      "displayName": "Ильсеяр Алимова",
      "userId": "18086433180291504366"
     },
     "user_tz": -180
    },
    "id": "B2wv-vSxX-ro",
    "outputId": "9b2bca1d-ea6c-4578-d63f-6c48e7a63b9f"
   },
   "outputs": [
    {
     "data": {
      "text/plain": [
       "50000"
      ]
     },
     "execution_count": 41,
     "metadata": {},
     "output_type": "execute_result"
    }
   ],
   "source": [
    "data = pd.read_csv(\"unlabeledTrainData.tsv\", header=0, delimiter=\"\\t\", quoting=3)\n",
    "\n",
    "len(data)"
   ]
  },
  {
   "cell_type": "code",
   "execution_count": 42,
   "metadata": {
    "colab": {
     "base_uri": "https://localhost:8080/",
     "height": 771
    },
    "executionInfo": {
     "elapsed": 1247,
     "status": "ok",
     "timestamp": 1719045247252,
     "user": {
      "displayName": "Ильсеяр Алимова",
      "userId": "18086433180291504366"
     },
     "user_tz": -180
    },
    "id": "eEGmrh-nX-rq",
    "outputId": "adc16b6b-0d61-4e2a-efeb-3214f3515fae"
   },
   "outputs": [
    {
     "data": {
      "text/html": [
       "<div>\n",
       "<style scoped>\n",
       "    .dataframe tbody tr th:only-of-type {\n",
       "        vertical-align: middle;\n",
       "    }\n",
       "\n",
       "    .dataframe tbody tr th {\n",
       "        vertical-align: top;\n",
       "    }\n",
       "\n",
       "    .dataframe thead th {\n",
       "        text-align: right;\n",
       "    }\n",
       "</style>\n",
       "<table border=\"1\" class=\"dataframe\">\n",
       "  <thead>\n",
       "    <tr style=\"text-align: right;\">\n",
       "      <th></th>\n",
       "      <th>id</th>\n",
       "      <th>review</th>\n",
       "    </tr>\n",
       "  </thead>\n",
       "  <tbody>\n",
       "    <tr>\n",
       "      <th>0</th>\n",
       "      <td>\"9999_0\"</td>\n",
       "      <td>\"Watching Time Chasers, it obvious that it was...</td>\n",
       "    </tr>\n",
       "    <tr>\n",
       "      <th>1</th>\n",
       "      <td>\"45057_0\"</td>\n",
       "      <td>\"I saw this film about 20 years ago and rememb...</td>\n",
       "    </tr>\n",
       "    <tr>\n",
       "      <th>2</th>\n",
       "      <td>\"15561_0\"</td>\n",
       "      <td>\"Minor Spoilers&lt;br /&gt;&lt;br /&gt;In New York, Joan B...</td>\n",
       "    </tr>\n",
       "    <tr>\n",
       "      <th>3</th>\n",
       "      <td>\"7161_0\"</td>\n",
       "      <td>\"I went to see this film with a great deal of ...</td>\n",
       "    </tr>\n",
       "    <tr>\n",
       "      <th>4</th>\n",
       "      <td>\"43971_0\"</td>\n",
       "      <td>\"Yes, I agree with everyone on this site this ...</td>\n",
       "    </tr>\n",
       "  </tbody>\n",
       "</table>\n",
       "</div>"
      ],
      "text/plain": [
       "          id                                             review\n",
       "0   \"9999_0\"  \"Watching Time Chasers, it obvious that it was...\n",
       "1  \"45057_0\"  \"I saw this film about 20 years ago and rememb...\n",
       "2  \"15561_0\"  \"Minor Spoilers<br /><br />In New York, Joan B...\n",
       "3   \"7161_0\"  \"I went to see this film with a great deal of ...\n",
       "4  \"43971_0\"  \"Yes, I agree with everyone on this site this ..."
      ]
     },
     "execution_count": 42,
     "metadata": {},
     "output_type": "execute_result"
    }
   ],
   "source": [
    "data.head()"
   ]
  },
  {
   "cell_type": "markdown",
   "metadata": {
    "id": "oIZaQ3kYX-rt"
   },
   "source": [
    "We remove the link from the data, the HTML damping and non-table symbols, and then bring everything to the lower register and tocenize. The output is an array of sentences, each of which is an array of words. A tokenizer from the `nltk` library is used here."
   ]
  },
  {
   "cell_type": "code",
   "execution_count": 43,
   "metadata": {
    "executionInfo": {
     "elapsed": 458,
     "status": "ok",
     "timestamp": 1719045284549,
     "user": {
      "displayName": "Ильсеяр Алимова",
      "userId": "18086433180291504366"
     },
     "user_tz": -180
    },
    "id": "ZAzxyk3WTgrd"
   },
   "outputs": [],
   "source": [
    "tokenizer = nltk.data.load('tokenizers/punkt/english.pickle')"
   ]
  },
  {
   "cell_type": "code",
   "execution_count": 54,
   "metadata": {
    "executionInfo": {
     "elapsed": 370,
     "status": "ok",
     "timestamp": 1719045320362,
     "user": {
      "displayName": "Ильсеяр Алимова",
      "userId": "18086433180291504366"
     },
     "user_tz": -180
    },
    "id": "irbunSOfX-rt"
   },
   "outputs": [],
   "source": [
    "def review_to_wordlist(review, remove_stopwords=False ):\n",
    "    # убираем ссылки\n",
    "    review = re.sub(r\"http[s]?://(?:[a-zA-Z]|[0-9]|[$-_@.&+]|[!*\\(\\),]|(?:%[0-9a-fA-F][0-9a-fA-F]))+\", \" \", review)\n",
    "    # достаем сам текст\n",
    "    review_text = BeautifulSoup(review, \"html.parser\").get_text()\n",
    "\n",
    "    # оставляем только буквенные символы\n",
    "    review_text = re.sub(\"[^a-zA-Z]\",\" \", review_text)\n",
    "    # приводим к нижнему регистру и разбиваем на слова по символу пробела\n",
    "    words = review_text.lower().split()\n",
    "    if remove_stopwords: # убираем стоп-слова\n",
    "        stops = stopwords.words(\"english\")\n",
    "        words = [w for w in words if not w in stops]\n",
    "    return(words)\n",
    "\n",
    "def review_to_sentences(review, tokenizer, remove_stopwords=False):\n",
    "    # разбиваем обзор на предложения\n",
    "    raw_sentences = tokenizer.tokenize(review.strip())\n",
    "    sentences = []\n",
    "    # применяем предыдущую функцию к каждому предложению\n",
    "    for raw_sentence in raw_sentences:\n",
    "        if len(raw_sentence) > 0:\n",
    "            sentences.append(review_to_wordlist(raw_sentence, remove_stopwords))\n",
    "    return sentences"
   ]
  },
  {
   "cell_type": "code",
   "execution_count": 55,
   "metadata": {
    "colab": {
     "base_uri": "https://localhost:8080/"
    },
    "executionInfo": {
     "elapsed": 164913,
     "status": "ok",
     "timestamp": 1719045685087,
     "user": {
      "displayName": "Ильсеяр Алимова",
      "userId": "18086433180291504366"
     },
     "user_tz": -180
    },
    "id": "bolPEuQgX-rv",
    "outputId": "1e186a9e-70fe-428c-e76f-b4f9a818a4b6"
   },
   "outputs": [
    {
     "name": "stdout",
     "output_type": "stream",
     "text": [
      "Parsing sentences from training set...\n"
     ]
    }
   ],
   "source": [
    "#logging.basicConfig(format='%(asctime)s : %(levelname)s : %(message)s', level=logging.INFO)\n",
    "\n",
    "sentences = []\n",
    "\n",
    "print(\"Parsing sentences from training set...\")\n",
    "for review in data[\"review\"]:\n",
    "    sentences += review_to_sentences(review, tokenizer)"
   ]
  },
  {
   "cell_type": "code",
   "execution_count": 56,
   "metadata": {
    "colab": {
     "base_uri": "https://localhost:8080/"
    },
    "executionInfo": {
     "elapsed": 512,
     "status": "ok",
     "timestamp": 1719031010290,
     "user": {
      "displayName": "Ильсеяр Алимова",
      "userId": "18086433180291504366"
     },
     "user_tz": -180
    },
    "id": "RCgyQhmxNmTo",
    "outputId": "92719065-e192-4835-8c70-57158d4a4fb5"
   },
   "outputs": [
    {
     "name": "stderr",
     "output_type": "stream",
     "text": [
      "[nltk_data] Downloading package stopwords to\n",
      "[nltk_data]     /Users/raimkhanovd/nltk_data...\n",
      "[nltk_data]   Package stopwords is already up-to-date!\n"
     ]
    },
    {
     "data": {
      "text/plain": [
       "True"
      ]
     },
     "execution_count": 56,
     "metadata": {},
     "output_type": "execute_result"
    }
   ],
   "source": [
    "nltk.download('stopwords')"
   ]
  },
  {
   "cell_type": "code",
   "execution_count": 57,
   "metadata": {
    "colab": {
     "base_uri": "https://localhost:8080/"
    },
    "executionInfo": {
     "elapsed": 345,
     "status": "ok",
     "timestamp": 1719045743722,
     "user": {
      "displayName": "Ильсеяр Алимова",
      "userId": "18086433180291504366"
     },
     "user_tz": -180
    },
    "id": "FbrH6TdfX-rx",
    "outputId": "1ce9d940-a64f-4c17-c945-c0bc29388ac4"
   },
   "outputs": [
    {
     "name": "stdout",
     "output_type": "stream",
     "text": [
      "529416\n",
      "['watching', 'time', 'chasers', 'it', 'obvious', 'that', 'it', 'was', 'made', 'by', 'a', 'bunch', 'of', 'friends']\n"
     ]
    }
   ],
   "source": [
    "print(len(sentences))\n",
    "print(sentences[0])"
   ]
  },
  {
   "cell_type": "code",
   "execution_count": 58,
   "metadata": {
    "executionInfo": {
     "elapsed": 304,
     "status": "ok",
     "timestamp": 1719045756693,
     "user": {
      "displayName": "Ильсеяр Алимова",
      "userId": "18086433180291504366"
     },
     "user_tz": -180
    },
    "id": "Cqb_NOteX-rz"
   },
   "outputs": [],
   "source": [
    "# это понадобится нам позже\n",
    "\n",
    "with open('clean_text.txt', 'w') as f:\n",
    "    for s in sentences[:5000]:\n",
    "        f.write(' '.join(s))\n",
    "        f.write('\\n')"
   ]
  },
  {
   "cell_type": "markdown",
   "metadata": {
    "id": "qqFhuv7XX-r1"
   },
   "source": [
    "We teach and save the model.\n",
    "\n",
    "\n",
    "Main parameters:\n",
    "* Data must be an iterized object\n",
    "* Size - size vector,\n",
    "* Window - observation window size,\n",
    "* min_count - min. The frequency of the word in the case,\n",
    "* SG-used learning algorithm (0-CBOW, 1-SKIP-GRAM),\n",
    "* sample - threshold for download of high -frequency words,\n",
    "* works - the number of flows,\n",
    "* alpha — learning rate,\n",
    "* Iter - the number of iterations,\n",
    "* max_vocab_size - allows you to set the restriction from memory when creating a dictionary (i.e., if the restriction is exceeded, then low -frequency words will be released). For comparison: 10 million words = 1GB RAM.\n",
    "\n",
    "** NB! ** Please note that the modeling of the model does not include preprocessing! This means that getting rid of punctuation, leading words to the lower register, lemmetizing them, and frequency tags will have to be affixed before modeling the model (unless, of course, this is necessary for your task). Those. In what form the words will be in the original text, in this they will be in the model."
   ]
  },
  {
   "cell_type": "code",
   "execution_count": 59,
   "metadata": {
    "colab": {
     "base_uri": "https://localhost:8080/"
    },
    "executionInfo": {
     "elapsed": 156944,
     "status": "ok",
     "timestamp": 1719046111817,
     "user": {
      "displayName": "Ильсеяр Алимова",
      "userId": "18086433180291504366"
     },
     "user_tz": -180
    },
    "id": "OB2FqIioX-r1",
    "outputId": "83335b5b-9865-4cd6-87e0-5abb0e150705"
   },
   "outputs": [
    {
     "name": "stdout",
     "output_type": "stream",
     "text": [
      "Training model...\n",
      "CPU times: user 2 μs, sys: 1e+03 ns, total: 3 μs\n",
      "Wall time: 5.96 μs\n"
     ]
    }
   ],
   "source": [
    "print(\"Training model...\")\n",
    "\n",
    "%time\n",
    "model_en = word2vec.Word2Vec(sentences, workers=4, vector_size=300, min_count=10, window=10, sample=1e-3)"
   ]
  },
  {
   "cell_type": "markdown",
   "metadata": {
    "id": "HFU6SYAZX-r3"
   },
   "source": [
    "We look how many words are in the model."
   ]
  },
  {
   "cell_type": "code",
   "execution_count": 60,
   "metadata": {
    "colab": {
     "base_uri": "https://localhost:8080/"
    },
    "executionInfo": {
     "elapsed": 381,
     "status": "ok",
     "timestamp": 1719046128014,
     "user": {
      "displayName": "Ильсеяр Алимова",
      "userId": "18086433180291504366"
     },
     "user_tz": -180
    },
    "id": "HA3P0CUYX-r4",
    "outputId": "dac58ab5-60fb-4b7b-a2f7-5d3afcae075d"
   },
   "outputs": [
    {
     "name": "stdout",
     "output_type": "stream",
     "text": [
      "28308\n"
     ]
    }
   ],
   "source": [
    "print(len(model_en.wv.key_to_index))"
   ]
  },
  {
   "cell_type": "markdown",
   "metadata": {
    "id": "2mU9sbGYX-r8"
   },
   "source": [
    "Let's try to evaluate the model manually by solving examples. A little given below, try to come up with your own."
   ]
  },
  {
   "cell_type": "code",
   "execution_count": 61,
   "metadata": {
    "colab": {
     "base_uri": "https://localhost:8080/"
    },
    "executionInfo": {
     "elapsed": 336,
     "status": "ok",
     "timestamp": 1719046134056,
     "user": {
      "displayName": "Ильсеяр Алимова",
      "userId": "18086433180291504366"
     },
     "user_tz": -180
    },
    "id": "n8OQxmUyX-r9",
    "outputId": "49954070-a2c3-4224-ac28-0ffc2da52f1b"
   },
   "outputs": [
    {
     "name": "stdout",
     "output_type": "stream",
     "text": [
      "[('princess', 0.5299696922302246), ('queen', 0.5203894376754761), ('commoner', 0.514028787612915)]\n",
      "[('men', 0.6165749430656433)]\n",
      "[('europe', 0.7306479811668396), ('germany', 0.7241512537002563), ('canada', 0.6975655555725098)]\n",
      "novel\n"
     ]
    }
   ],
   "source": [
    "print(model_en.wv.most_similar(positive=[\"king\", \"woman\"], negative=[\"man\"], topn=3))\n",
    "print(model_en.wv.most_similar(positive=[\"dogs\", \"man\"], negative=[\"dog\"], topn=1))\n",
    "\n",
    "print(model_en.wv.most_similar(\"usa\", topn=3))\n",
    "\n",
    "print(model_en.wv.doesnt_match(\"comedy thriller western novel\".split()))"
   ]
  },
  {
   "cell_type": "markdown",
   "metadata": {
    "id": "juR4NX0wX-r_"
   },
   "source": [
    "### How to receive an existing model\n",
    "\n",
    "When training, the “weight” models are initialized by accident, but it can be used to initialize weight vectors from a pre -scientific model, thus, as it were, who is accustomed to it.\n",
    "\n",
    "First, let's see the proximity of some pair of words in the existing model, then to compare the result with the learned one."
   ]
  },
  {
   "cell_type": "code",
   "execution_count": 62,
   "metadata": {
    "colab": {
     "base_uri": "https://localhost:8080/"
    },
    "executionInfo": {
     "elapsed": 452,
     "status": "ok",
     "timestamp": 1719046491543,
     "user": {
      "displayName": "Ильсеяр Алимова",
      "userId": "18086433180291504366"
     },
     "user_tz": -180
    },
    "id": "rAUVp96kX-sA",
    "outputId": "267208b7-2e72-47c9-bd36-866a77a5f2ed"
   },
   "outputs": [
    {
     "data": {
      "text/plain": [
       "0.63437223"
      ]
     },
     "execution_count": 62,
     "metadata": {},
     "output_type": "execute_result"
    }
   ],
   "source": [
    "model_en.wv.similarity('italy', 'north')"
   ]
  },
  {
   "cell_type": "markdown",
   "metadata": {
    "id": "Mxsz8DKMX-sD"
   },
   "source": [
    "As additional data for learning, take the English text “Alice in the Zadaker”."
   ]
  },
  {
   "cell_type": "code",
   "execution_count": 69,
   "metadata": {
    "colab": {
     "base_uri": "https://localhost:8080/"
    },
    "executionInfo": {
     "elapsed": 325,
     "status": "ok",
     "timestamp": 1719046275753,
     "user": {
      "displayName": "Ильсеяр Алимова",
      "userId": "18086433180291504366"
     },
     "user_tz": -180
    },
    "id": "yHuXJgB_X-sI",
    "outputId": "64aa918e-f4ad-4126-99b5-e590ed12e639"
   },
   "outputs": [
    {
     "name": "stdout",
     "output_type": "stream",
     "text": [
      "[['', 'start', 'of', 'the', 'project', 'gutenberg', 'ebook', '11', '', 'illustration', 'alice’s', 'adventures', 'in', 'wonderland', 'by', 'lewis', 'carroll', 'the', 'millennium', 'fulcrum', 'edition', '3.0', 'contents', 'chapter', 'i'], ['down', 'the', 'rabbit-hole', 'chapter', 'ii']]\n"
     ]
    }
   ],
   "source": [
    "with open(\"alice.txt\", 'r', encoding='utf-8') as f:\n",
    "    text = f.read()\n",
    "\n",
    "# убираем переносы строк, токенизируем текст\n",
    "text = re.sub('\\n', ' ', text)\n",
    "sents = sent_tokenize(text)\n",
    "\n",
    "# убираем всю пунктуацию и делим текст на слова по пробелу\n",
    "punct = '!\"#$%&()*+,-./:;<=>?@[\\]^_`{|}~„“«»†*—/\\-‘’'\n",
    "clean_sents = []\n",
    "for sent in sents:\n",
    "    s = [w.lower().strip(punct) for w in sent.split()]\n",
    "    clean_sents.append(s)\n",
    "\n",
    "print(clean_sents[:2])"
   ]
  },
  {
   "cell_type": "markdown",
   "metadata": {
    "id": "dH8f7GNBX-sK"
   },
   "source": [
    "To receive the model, you must first save it, and then load it. All parameters of the training (the size of the vector, min. The frequency of the word, etc.) will be taken from the loaded model, i.e. You can’t again set them.\n",
    "\n",
    "** NB! ** You can only receive a full model, and `keyedVectors` is impossible. Therefore, the model must be preserved in a corresponding format. Read more about the difference XX_MarkDown_Link_XX."
   ]
  },
  {
   "cell_type": "code",
   "execution_count": 70,
   "metadata": {
    "colab": {
     "base_uri": "https://localhost:8080/"
    },
    "executionInfo": {
     "elapsed": 865,
     "status": "ok",
     "timestamp": 1719046487917,
     "user": {
      "displayName": "Ильсеяр Алимова",
      "userId": "18086433180291504366"
     },
     "user_tz": -180
    },
    "id": "Rv--44TmX-sL",
    "outputId": "31a42363-7b42-4c36-fe86-a94b0a981fc2"
   },
   "outputs": [
    {
     "name": "stdout",
     "output_type": "stream",
     "text": [
      "Saving model...\n"
     ]
    }
   ],
   "source": [
    "model_path = \"movie_reviews.model\"\n",
    "\n",
    "print(\"Saving model...\")\n",
    "model_en.save(model_path)"
   ]
  },
  {
   "cell_type": "code",
   "execution_count": 71,
   "metadata": {
    "colab": {
     "base_uri": "https://localhost:8080/"
    },
    "executionInfo": {
     "elapsed": 1164,
     "status": "ok",
     "timestamp": 1719046498929,
     "user": {
      "displayName": "Ильсеяр Алимова",
      "userId": "18086433180291504366"
     },
     "user_tz": -180
    },
    "id": "f6eZwBQzX-sQ",
    "outputId": "af4735a9-adb0-4cef-aeca-55809007b1e0"
   },
   "outputs": [
    {
     "data": {
      "text/plain": [
       "(81139, 132715)"
      ]
     },
     "execution_count": 71,
     "metadata": {},
     "output_type": "execute_result"
    }
   ],
   "source": [
    "model = word2vec.Word2Vec.load(model_path)\n",
    "\n",
    "model.build_vocab(clean_sents, update=True)\n",
    "model.train(clean_sents, total_examples=model.corpus_count, epochs=5)"
   ]
  },
  {
   "cell_type": "markdown",
   "metadata": {
    "id": "nMLhISWiX-sS"
   },
   "source": [
    "Leo and rabbit have become closer to each other!"
   ]
  },
  {
   "cell_type": "code",
   "execution_count": 72,
   "metadata": {
    "colab": {
     "base_uri": "https://localhost:8080/"
    },
    "executionInfo": {
     "elapsed": 323,
     "status": "ok",
     "timestamp": 1719046504285,
     "user": {
      "displayName": "Ильсеяр Алимова",
      "userId": "18086433180291504366"
     },
     "user_tz": -180
    },
    "id": "4USaUjmzX-sS",
    "outputId": "510a08c0-878f-4ca1-ee73-d5ff887aab72"
   },
   "outputs": [
    {
     "data": {
      "text/plain": [
       "0.3114087"
      ]
     },
     "execution_count": 72,
     "metadata": {},
     "output_type": "execute_result"
    }
   ],
   "source": [
    "model.wv.similarity('lion', 'cat')"
   ]
  },
  {
   "cell_type": "markdown",
   "metadata": {
    "id": "F5bYd1qmX-sT"
   },
   "source": [
    "You can normalize the vector, then the model will occupy less RAM. However, after that it cannot be finished. Here, L2-Normalization is used: the vectors are normalized so that if you fold the squares of all elements of the vector, in total it turns out 1.\n",
    "\n",
    "In addition, we will preserve not complete vectors, but `KeyedVectors`."
   ]
  },
  {
   "cell_type": "code",
   "execution_count": 73,
   "metadata": {
    "colab": {
     "base_uri": "https://localhost:8080/"
    },
    "executionInfo": {
     "elapsed": 334,
     "status": "ok",
     "timestamp": 1719046514971,
     "user": {
      "displayName": "Ильсеяр Алимова",
      "userId": "18086433180291504366"
     },
     "user_tz": -180
    },
    "id": "ZAVaTYvQX-sU",
    "outputId": "08fa9a18-ae9d-47ea-d623-6ad8a02fa086"
   },
   "outputs": [
    {
     "name": "stdout",
     "output_type": "stream",
     "text": [
      "Saving model...\n"
     ]
    }
   ],
   "source": [
    "# model.init_sims(replace=True)\n",
    "model_path = \"movies_alice.bin\"\n",
    "\n",
    "print(\"Saving model...\")\n",
    "model.wv.save_word2vec_format(model_path, binary=True)"
   ]
  },
  {
   "cell_type": "markdown",
   "metadata": {
    "id": "CXKnPffPX-sY"
   },
   "source": [
    "## assessment\n",
    "\n",
    "This, of course, is good, but how to understand which model is better? Or, for example, I made my model, but how to understand how good it is?\n",
    "\n",
    "For this, there are special datasets to assess the quality of distribution models. The main two: one measures the accuracy of solving problems on analogy (about Russia and dumplings), and the second is used to assess the coefficient of semantic proximity.\n",
    "\n",
    "### Word Similarity\n",
    "\n",
    "This method is to evaluate how ideas about the semantic proximity of words in the model are related to the \"ideas\" of people.\n",
    "\n",
    "| Word 1 | Word 2 | proximity |\n",
    "|------------|------------|----------|\n",
    "| cat | dog | 0.7 |\n",
    "| Cup | mug | 0.9 |\n",
    "\n",
    "For each pair of words from a predetermined dataset, we can calculate the cosine distance, and get a list of such meanings. At the same time, we already have a list of meanings made by people. We can compare these two lists and understand how similar they are (for example, considering the correlation). This measure of similarity should talk about how well the model simulates the distance to the word.\n",
    "\n",
    "### analogies\n",
    "\n",
    "Another popular task for an “internal” assessment is called the task of searching analogies. As we have already analyzed above, with the help of simple arithmetic operations, we can modify the meaning of the word. If you collect a set of words-modifiers in advance, as well as the words that we want to get into the results of the modification, then based on the calculation of the number of “hits” in the desired word, we can evaluate how well the model works well.\n",
    "\n",
    "As a word-modifier, we can use semantic analogies. Say, if we have some attitude of the \"country country\", then to evaluate the model we can use pairs like \"Russia-Moscow\", \"Norway-Ovos\", etc. Dataset will look as follows:\n",
    "\n",
    "| Word 1 | Word 2 | Attitude\n",
    "|------------|------------|---------------|\n",
    "| Russia | Moscow | Country Country |\n",
    "| Norway | Oslo Side\n",
    "\n",
    "Considering the random two pairs from this set, we want to, having a triplet (Russia, Moscow, Norway), we want to get the word \"Oslo\", i.e. Find the word that will be in the same respect with the word \"Norway\" as \"Russia\" is with Moscow.\n",
    "\n",
    "Datasets for the Russian language can be downloaded on a page with models on rusvectores. We calculate the quality of our NKRA model on the Dataset about the analogy:"
   ]
  },
  {
   "cell_type": "code",
   "execution_count": 84,
   "metadata": {
    "collapsed": true,
    "jupyter": {
     "outputs_hidden": true
    }
   },
   "outputs": [
    {
     "data": {
      "text/plain": [
       "': capital-common-countries\\n'"
      ]
     },
     "execution_count": 84,
     "metadata": {},
     "output_type": "execute_result"
    }
   ],
   "source": [
    "file_txt = open('questions-words.txt', 'r')\n",
    "file_txt.readline()"
   ]
  },
  {
   "cell_type": "code",
   "execution_count": 86,
   "metadata": {
    "executionInfo": {
     "elapsed": 44656,
     "status": "ok",
     "timestamp": 1719046609142,
     "user": {
      "displayName": "Ильсеяр Алимова",
      "userId": "18086433180291504366"
     },
     "user_tz": -180
    },
    "id": "xisXadgVuHTb"
   },
   "outputs": [],
   "source": [
    "res = model.wv.evaluate_word_analogies(datapath('questions-words.txt'))"
   ]
  },
  {
   "cell_type": "code",
   "execution_count": 87,
   "metadata": {
    "colab": {
     "base_uri": "https://localhost:8080/"
    },
    "executionInfo": {
     "elapsed": 314,
     "status": "ok",
     "timestamp": 1719046613141,
     "user": {
      "displayName": "Ильсеяр Алимова",
      "userId": "18086433180291504366"
     },
     "user_tz": -180
    },
    "id": "wosWMPCkGBjB",
    "outputId": "d0d9c252-f677-4351-f13a-abbf7bc86fd1"
   },
   "outputs": [
    {
     "data": {
      "text/plain": [
       "0.23856077403749243"
      ]
     },
     "execution_count": 87,
     "metadata": {},
     "output_type": "execute_result"
    }
   ],
   "source": [
    "res[0]"
   ]
  },
  {
   "cell_type": "markdown",
   "metadata": {
    "id": "Sv0wxUXIX-se"
   },
   "source": [
    "## visualization\n",
    "\n",
    "You can see the resulting model by visualizing it, for example, on a plane.\n",
    "### T-Sne\n",
    "\n",
    "** T-SNE ** (*t-distributed stochastic neighbor embedding*)-a technique of non-linear decrease in dimension and visualization of multidimensional variables. It is designed specifically for the high dimension data L. van der Maaten and D. Hinton, XX_MarkDown_Link_XX. T-SNE is an iterative algorithm based on the calculation of pair distances between all objects (including therefore, it is quite slow).\n",
    "\n",
    "\n",
    "We portray on a plane of 1000 most frequency words from a collection of texts about cinema:"
   ]
  },
  {
   "cell_type": "code",
   "execution_count": 89,
   "metadata": {
    "colab": {
     "base_uri": "https://localhost:8080/",
     "height": 138,
     "referenced_widgets": [
      "2a4136a3b83941e8bf5f11218cefa630",
      "99f8029da15a47e58f77cafe357c25f1",
      "a8cafbc607214c8ba55073f433d9b122",
      "4477301d72b143eeade4872ba435a96c",
      "3e11d5260cb746b7b4b227e9aab92697",
      "3788ce3e5ba14f32ac01e9550c9d4e52",
      "ae16d3c7677e4e2383b3ec436ddfff15",
      "d84f9cc4b8a6450aace96433c9747ce1",
      "0f49db2bdd104c58997ce2988f09af3a",
      "755555419f894f2db33faf6f50a05e59",
      "e99f2401c1374f088b1e793001201b0c"
     ]
    },
    "executionInfo": {
     "elapsed": 12787,
     "status": "ok",
     "timestamp": 1719046670579,
     "user": {
      "displayName": "Ильсеяр Алимова",
      "userId": "18086433180291504366"
     },
     "user_tz": -180
    },
    "id": "5UH91gFyX-sf",
    "outputId": "bcc143b6-3577-435d-ca79-115ba5a64a9b"
   },
   "outputs": [
    {
     "name": "stderr",
     "output_type": "stream",
     "text": [
      "100%|██████████| 529416/529416 [00:02<00:00, 196553.11it/s]"
     ]
    },
    {
     "name": "stdout",
     "output_type": "stream",
     "text": [
      "['the', 'and', 'a', 'of', 'to', 'is', 'it', 'in', 'i', 'this', 'that', 's', 'was', 'as', 'with', 'for', 'movie', 'but', 'film', 'you', 't', 'on', 'not', 'he', 'are', 'his', 'have', 'be', 'one', 'all', 'they', 'at', 'by', 'who', 'an', 'from', 'so', 'like', 'there', 'or', 'her', 'just', 'about', 'out', 'has', 'if', 'what', 'some', 'good', 'can']\n"
     ]
    },
    {
     "name": "stderr",
     "output_type": "stream",
     "text": [
      "\n"
     ]
    }
   ],
   "source": [
    "top_words = []\n",
    "\n",
    "from tqdm import tqdm\n",
    "\n",
    "fd = FreqDist()\n",
    "for s in tqdm(sentences):\n",
    "    fd.update(s)\n",
    "\n",
    "\n",
    "for w in fd.most_common(1000):\n",
    "    top_words.append(w[0])\n",
    "\n",
    "print(top_words[:50:])\n",
    "top_words_vec = model.wv[top_words]"
   ]
  },
  {
   "cell_type": "code",
   "execution_count": 90,
   "metadata": {
    "executionInfo": {
     "elapsed": 312,
     "status": "ok",
     "timestamp": 1719046674403,
     "user": {
      "displayName": "Ильсеяр Алимова",
      "userId": "18086433180291504366"
     },
     "user_tz": -180
    },
    "id": "8jx_BhKHTgsG"
   },
   "outputs": [],
   "source": [
    "top_words_vec = model.wv[top_words]"
   ]
  },
  {
   "cell_type": "code",
   "execution_count": 91,
   "metadata": {
    "collapsed": true,
    "jupyter": {
     "outputs_hidden": true
    }
   },
   "outputs": [
    {
     "name": "stdout",
     "output_type": "stream",
     "text": [
      "Requirement already satisfied: numpy in /Library/Frameworks/Python.framework/Versions/3.13/lib/python3.13/site-packages (2.3.3)\n",
      "Requirement already satisfied: scikit-learn in /Library/Frameworks/Python.framework/Versions/3.13/lib/python3.13/site-packages (1.7.2)\n",
      "Requirement already satisfied: threadpoolctl in /Library/Frameworks/Python.framework/Versions/3.13/lib/python3.13/site-packages (3.6.0)\n",
      "Requirement already satisfied: scipy>=1.8.0 in /Library/Frameworks/Python.framework/Versions/3.13/lib/python3.13/site-packages (from scikit-learn) (1.16.1)\n",
      "Requirement already satisfied: joblib>=1.2.0 in /Library/Frameworks/Python.framework/Versions/3.13/lib/python3.13/site-packages (from scikit-learn) (1.5.2)\n"
     ]
    }
   ],
   "source": [
    "!pip install --upgrade numpy scikit-learn threadpoolctl\n"
   ]
  },
  {
   "cell_type": "code",
   "execution_count": 92,
   "metadata": {
    "collapsed": true,
    "jupyter": {
     "outputs_hidden": true
    },
    "scrolled": true
   },
   "outputs": [
    {
     "name": "stdout",
     "output_type": "stream",
     "text": [
      "Collecting MulticoreTSNE\n",
      "  Downloading MulticoreTSNE-0.1.tar.gz (20 kB)\n",
      "  Preparing metadata (setup.py) ... \u001b[?25ldone\n",
      "\u001b[?25hRequirement already satisfied: numpy in /Library/Frameworks/Python.framework/Versions/3.13/lib/python3.13/site-packages (from MulticoreTSNE) (2.3.3)\n",
      "Requirement already satisfied: cffi in /Library/Frameworks/Python.framework/Versions/3.13/lib/python3.13/site-packages (from MulticoreTSNE) (2.0.0)\n",
      "Requirement already satisfied: pycparser in /Library/Frameworks/Python.framework/Versions/3.13/lib/python3.13/site-packages (from cffi->MulticoreTSNE) (2.23)\n",
      "Building wheels for collected packages: MulticoreTSNE\n",
      "\u001b[33m  DEPRECATION: Building 'MulticoreTSNE' using the legacy setup.py bdist_wheel mechanism, which will be removed in a future version. pip 25.3 will enforce this behaviour change. A possible replacement is to use the standardized build interface by setting the `--use-pep517` option, (possibly combined with `--no-build-isolation`), or adding a `pyproject.toml` file to the source tree of 'MulticoreTSNE'. Discussion can be found at https://github.com/pypa/pip/issues/6334\u001b[0m\u001b[33m\n",
      "\u001b[0m  Building wheel for MulticoreTSNE (setup.py) ... \u001b[?25lerror\n",
      "  \u001b[1;31merror\u001b[0m: \u001b[1msubprocess-exited-with-error\u001b[0m\n",
      "  \n",
      "  \u001b[31m×\u001b[0m \u001b[32mpython setup.py bdist_wheel\u001b[0m did not run successfully.\n",
      "  \u001b[31m│\u001b[0m exit code: \u001b[1;36m1\u001b[0m\n",
      "  \u001b[31m╰─>\u001b[0m \u001b[31m[25 lines of output]\u001b[0m\n",
      "  \u001b[31m   \u001b[0m /Library/Frameworks/Python.framework/Versions/3.13/lib/python3.13/site-packages/setuptools/_distutils/dist.py:289: UserWarning: Unknown distribution option: 'test_suite'\n",
      "  \u001b[31m   \u001b[0m   warnings.warn(msg)\n",
      "  \u001b[31m   \u001b[0m /Library/Frameworks/Python.framework/Versions/3.13/lib/python3.13/site-packages/setuptools/_distutils/dist.py:289: UserWarning: Unknown distribution option: 'tests_require'\n",
      "  \u001b[31m   \u001b[0m   warnings.warn(msg)\n",
      "  \u001b[31m   \u001b[0m running bdist_wheel\n",
      "  \u001b[31m   \u001b[0m running build\n",
      "  \u001b[31m   \u001b[0m running build_py\n",
      "  \u001b[31m   \u001b[0m creating build/lib.macosx-10.13-universal2-cpython-313/MulticoreTSNE\n",
      "  \u001b[31m   \u001b[0m copying MulticoreTSNE/__init__.py -> build/lib.macosx-10.13-universal2-cpython-313/MulticoreTSNE\n",
      "  \u001b[31m   \u001b[0m creating build/lib.macosx-10.13-universal2-cpython-313/MulticoreTSNE/tests\n",
      "  \u001b[31m   \u001b[0m copying MulticoreTSNE/tests/__init__.py -> build/lib.macosx-10.13-universal2-cpython-313/MulticoreTSNE/tests\n",
      "  \u001b[31m   \u001b[0m copying MulticoreTSNE/tests/test_base.py -> build/lib.macosx-10.13-universal2-cpython-313/MulticoreTSNE/tests\n",
      "  \u001b[31m   \u001b[0m running egg_info\n",
      "  \u001b[31m   \u001b[0m writing MulticoreTSNE.egg-info/PKG-INFO\n",
      "  \u001b[31m   \u001b[0m writing dependency_links to MulticoreTSNE.egg-info/dependency_links.txt\n",
      "  \u001b[31m   \u001b[0m writing requirements to MulticoreTSNE.egg-info/requires.txt\n",
      "  \u001b[31m   \u001b[0m writing top-level names to MulticoreTSNE.egg-info/top_level.txt\n",
      "  \u001b[31m   \u001b[0m reading manifest file 'MulticoreTSNE.egg-info/SOURCES.txt'\n",
      "  \u001b[31m   \u001b[0m reading manifest template 'MANIFEST.in'\n",
      "  \u001b[31m   \u001b[0m adding license file 'LICENSE.txt'\n",
      "  \u001b[31m   \u001b[0m writing manifest file 'MulticoreTSNE.egg-info/SOURCES.txt'\n",
      "  \u001b[31m   \u001b[0m running build_ext\n",
      "  \u001b[31m   \u001b[0m sh: cmake: command not found\n",
      "  \u001b[31m   \u001b[0m \n",
      "  \u001b[31m   \u001b[0m Error: Cannot find cmake. Install cmake, e.g. `pip install cmake`.\n",
      "  \u001b[31m   \u001b[0m \u001b[31m[end of output]\u001b[0m\n",
      "  \n",
      "  \u001b[1;35mnote\u001b[0m: This error originates from a subprocess, and is likely not a problem with pip.\n",
      "\u001b[31m  ERROR: Failed building wheel for MulticoreTSNE\u001b[0m\u001b[31m\n",
      "\u001b[0m\u001b[?25h  Running setup.py clean for MulticoreTSNE\n",
      "Failed to build MulticoreTSNE\n",
      "\u001b[1;31merror\u001b[0m: \u001b[1mfailed-wheel-build-for-install\u001b[0m\n",
      "\n",
      "\u001b[31m×\u001b[0m Failed to build installable wheels for some pyproject.toml based projects\n",
      "\u001b[31m╰─>\u001b[0m MulticoreTSNE\n"
     ]
    }
   ],
   "source": [
    "!pip install MulticoreTSNE"
   ]
  },
  {
   "cell_type": "code",
   "execution_count": 93,
   "metadata": {
    "colab": {
     "base_uri": "https://localhost:8080/"
    },
    "executionInfo": {
     "elapsed": 15470,
     "status": "ok",
     "timestamp": 1719046691232,
     "user": {
      "displayName": "Ильсеяр Алимова",
      "userId": "18086433180291504366"
     },
     "user_tz": -180
    },
    "id": "74FvTsuuX-sg",
    "outputId": "854adb46-fb3e-4c44-828e-03131493d805"
   },
   "outputs": [
    {
     "name": "stdout",
     "output_type": "stream",
     "text": [
      "CPU times: user 20 μs, sys: 108 μs, total: 128 μs\n",
      "Wall time: 133 μs\n"
     ]
    }
   ],
   "source": [
    "%%time\n",
    "tsne = TSNE(n_components=2, random_state=0)\n"
   ]
  },
  {
   "cell_type": "code",
   "execution_count": 94,
   "metadata": {},
   "outputs": [
    {
     "name": "stdout",
     "output_type": "stream",
     "text": [
      "zsh:1: command not found: conda\n"
     ]
    }
   ],
   "source": [
    "!conda install -c conda-forge scikit-learn\n"
   ]
  },
  {
   "cell_type": "code",
   "execution_count": 95,
   "metadata": {
    "collapsed": true,
    "jupyter": {
     "outputs_hidden": true
    }
   },
   "outputs": [],
   "source": [
    "top_words_tsne = tsne.fit_transform(top_words_vec)"
   ]
  },
  {
   "cell_type": "code",
   "execution_count": 96,
   "metadata": {
    "colab": {
     "base_uri": "https://localhost:8080/",
     "height": 617
    },
    "collapsed": true,
    "executionInfo": {
     "elapsed": 19,
     "status": "ok",
     "timestamp": 1719046691233,
     "user": {
      "displayName": "Ильсеяр Алимова",
      "userId": "18086433180291504366"
     },
     "user_tz": -180
    },
    "id": "R0A__XKwX-si",
    "jupyter": {
     "outputs_hidden": true
    },
    "outputId": "362b30a4-22d1-4ae3-c025-566cd01dee3a",
    "scrolled": true
   },
   "outputs": [
    {
     "data": {
      "text/html": [
       "    <style>\n",
       "        .bk-notebook-logo {\n",
       "            display: block;\n",
       "            width: 20px;\n",
       "            height: 20px;\n",
       "            background-image: url(data:image/png;base64,iVBORw0KGgoAAAANSUhEUgAAABQAAAAUCAYAAACNiR0NAAAABHNCSVQICAgIfAhkiAAAAAlwSFlzAAALEgAACxIB0t1+/AAAABx0RVh0U29mdHdhcmUAQWRvYmUgRmlyZXdvcmtzIENTNui8sowAAAOkSURBVDiNjZRtaJVlGMd/1/08zzln5zjP1LWcU9N0NkN8m2CYjpgQYQXqSs0I84OLIC0hkEKoPtiH3gmKoiJDU7QpLgoLjLIQCpEsNJ1vqUOdO7ppbuec5+V+rj4ctwzd8IIbbi6u+8f1539dt3A78eXC7QizUF7gyV1fD1Yqg4JWz84yffhm0qkFqBogB9rM8tZdtwVsPUhWhGcFJngGeWrPzHm5oaMmkfEg1usvLFyc8jLRqDOMru7AyC8saQr7GG7f5fvDeH7Ej8CM66nIF+8yngt6HWaKh7k49Soy9nXurCi1o3qUbS3zWfrYeQDTB/Qj6kX6Ybhw4B+bOYoLKCC9H3Nu/leUTZ1JdRWkkn2ldcCamzrcf47KKXdAJllSlxAOkRgyHsGC/zRday5Qld9DyoM4/q/rUoy/CXh3jzOu3bHUVZeU+DEn8FInkPBFlu3+nW3Nw0mk6vCDiWg8CeJaxEwuHS3+z5RgY+YBR6V1Z1nxSOfoaPa4LASWxxdNp+VWTk7+4vzaou8v8PN+xo+KY2xsw6une2frhw05CTYOmQvsEhjhWjn0bmXPjpE1+kplmmkP3suftwTubK9Vq22qKmrBhpY4jvd5afdRA3wGjFAgcnTK2s4hY0/GPNIb0nErGMCRxWOOX64Z8RAC4oCXdklmEvcL8o0BfkNK4lUg9HTl+oPlQxdNo3Mg4Nv175e/1LDGzZen30MEjRUtmXSfiTVu1kK8W4txyV6BMKlbgk3lMwYCiusNy9fVfvvwMxv8Ynl6vxoByANLTWplvuj/nF9m2+PDtt1eiHPBr1oIfhCChQMBw6Aw0UulqTKZdfVvfG7VcfIqLG9bcldL/+pdWTLxLUy8Qq38heUIjh4XlzZxzQm19lLFlr8vdQ97rjZVOLf8nclzckbcD4wxXMidpX30sFd37Fv/GtwwhzhxGVAprjbg0gCAEeIgwCZyTV2Z1REEW8O4py0wsjeloKoMr6iCY6dP92H6Vw/oTyICIthibxjm/DfN9lVz8IqtqKYLUXfoKVMVQVVJOElGjrnnUt9T9wbgp8AyYKaGlqingHZU/uG2NTZSVqwHQTWkx9hxjkpWDaCg6Ckj5qebgBVbT3V3NNXMSiWSDdGV3hrtzla7J+duwPOToIg42ChPQOQjspnSlp1V+Gjdged7+8UN5CRAV7a5EdFNwCjEaBR27b3W890TE7g24NAP/mMDXRWrGoFPQI9ls/MWO2dWFAar/xcOIImbbpA3zgAAAABJRU5ErkJggg==);\n",
       "        }\n",
       "    </style>\n",
       "    <div>\n",
       "        <a href=\"https://bokeh.org\" target=\"_blank\" class=\"bk-notebook-logo\"></a>\n",
       "        <span id=\"e3d855dc-baa9-4244-bbf1-5851dc86dcba\">Loading BokehJS ...</span>\n",
       "    </div>\n"
      ]
     },
     "metadata": {},
     "output_type": "display_data"
    },
    {
     "data": {
      "application/javascript": "'use strict';\n(function(root) {\n  function now() {\n    return new Date();\n  }\n\n  const force = true;\n\n  if (typeof root._bokeh_onload_callbacks === \"undefined\" || force === true) {\n    root._bokeh_onload_callbacks = [];\n    root._bokeh_is_loading = undefined;\n  }\n\nconst JS_MIME_TYPE = 'application/javascript';\n  const HTML_MIME_TYPE = 'text/html';\n  const EXEC_MIME_TYPE = 'application/vnd.bokehjs_exec.v0+json';\n  const CLASS_NAME = 'output_bokeh rendered_html';\n\n  /**\n   * Render data to the DOM node\n   */\n  function render(props, node) {\n    const script = document.createElement(\"script\");\n    node.appendChild(script);\n  }\n\n  /**\n   * Handle when an output is cleared or removed\n   */\n  function handleClearOutput(event, handle) {\n    function drop(id) {\n      const view = Bokeh.index.get_by_id(id)\n      if (view != null) {\n        view.model.document.clear()\n        Bokeh.index.delete(view)\n      }\n    }\n\n    const cell = handle.cell;\n\n    const id = cell.output_area._bokeh_element_id;\n    const server_id = cell.output_area._bokeh_server_id;\n\n    // Clean up Bokeh references\n    if (id != null) {\n      drop(id)\n    }\n\n    if (server_id !== undefined) {\n      // Clean up Bokeh references\n      const cmd_clean = \"from bokeh.io.state import curstate; print(curstate().uuid_to_server['\" + server_id + \"'].get_sessions()[0].document.roots[0]._id)\";\n      cell.notebook.kernel.execute(cmd_clean, {\n        iopub: {\n          output: function(msg) {\n            const id = msg.content.text.trim()\n            drop(id)\n          }\n        }\n      });\n      // Destroy server and session\n      const cmd_destroy = \"import bokeh.io.notebook as ion; ion.destroy_server('\" + server_id + \"')\";\n      cell.notebook.kernel.execute(cmd_destroy);\n    }\n  }\n\n  /**\n   * Handle when a new output is added\n   */\n  function handleAddOutput(event, handle) {\n    const output_area = handle.output_area;\n    const output = handle.output;\n\n    // limit handleAddOutput to display_data with EXEC_MIME_TYPE content only\n    if ((output.output_type != \"display_data\") || (!Object.prototype.hasOwnProperty.call(output.data, EXEC_MIME_TYPE))) {\n      return\n    }\n\n    const toinsert = output_area.element.find(\".\" + CLASS_NAME.split(' ')[0]);\n\n    if (output.metadata[EXEC_MIME_TYPE][\"id\"] !== undefined) {\n      toinsert[toinsert.length - 1].firstChild.textContent = output.data[JS_MIME_TYPE];\n      // store reference to embed id on output_area\n      output_area._bokeh_element_id = output.metadata[EXEC_MIME_TYPE][\"id\"];\n    }\n    if (output.metadata[EXEC_MIME_TYPE][\"server_id\"] !== undefined) {\n      const bk_div = document.createElement(\"div\");\n      bk_div.innerHTML = output.data[HTML_MIME_TYPE];\n      const script_attrs = bk_div.children[0].attributes;\n      for (let i = 0; i < script_attrs.length; i++) {\n        toinsert[toinsert.length - 1].firstChild.setAttribute(script_attrs[i].name, script_attrs[i].value);\n        toinsert[toinsert.length - 1].firstChild.textContent = bk_div.children[0].textContent\n      }\n      // store reference to server id on output_area\n      output_area._bokeh_server_id = output.metadata[EXEC_MIME_TYPE][\"server_id\"];\n    }\n  }\n\n  function register_renderer(events, OutputArea) {\n\n    function append_mime(data, metadata, element) {\n      // create a DOM node to render to\n      const toinsert = this.create_output_subarea(\n        metadata,\n        CLASS_NAME,\n        EXEC_MIME_TYPE\n      );\n      this.keyboard_manager.register_events(toinsert);\n      // Render to node\n      const props = {data: data, metadata: metadata[EXEC_MIME_TYPE]};\n      render(props, toinsert[toinsert.length - 1]);\n      element.append(toinsert);\n      return toinsert\n    }\n\n    /* Handle when an output is cleared or removed */\n    events.on('clear_output.CodeCell', handleClearOutput);\n    events.on('delete.Cell', handleClearOutput);\n\n    /* Handle when a new output is added */\n    events.on('output_added.OutputArea', handleAddOutput);\n\n    /**\n     * Register the mime type and append_mime function with output_area\n     */\n    OutputArea.prototype.register_mime_type(EXEC_MIME_TYPE, append_mime, {\n      /* Is output safe? */\n      safe: true,\n      /* Index of renderer in `output_area.display_order` */\n      index: 0\n    });\n  }\n\n  // register the mime type if in Jupyter Notebook environment and previously unregistered\n  if (root.Jupyter !== undefined) {\n    const events = require('base/js/events');\n    const OutputArea = require('notebook/js/outputarea').OutputArea;\n\n    if (OutputArea.prototype.mime_types().indexOf(EXEC_MIME_TYPE) == -1) {\n      register_renderer(events, OutputArea);\n    }\n  }\n  if (typeof (root._bokeh_timeout) === \"undefined\" || force === true) {\n    root._bokeh_timeout = Date.now() + 5000;\n    root._bokeh_failed_load = false;\n  }\n\n  const NB_LOAD_WARNING = {'data': {'text/html':\n     \"<div style='background-color: #fdd'>\\n\"+\n     \"<p>\\n\"+\n     \"BokehJS does not appear to have successfully loaded. If loading BokehJS from CDN, this \\n\"+\n     \"may be due to a slow or bad network connection. Possible fixes:\\n\"+\n     \"</p>\\n\"+\n     \"<ul>\\n\"+\n     \"<li>re-rerun `output_notebook()` to attempt to load from CDN again, or</li>\\n\"+\n     \"<li>use INLINE resources instead, as so:</li>\\n\"+\n     \"</ul>\\n\"+\n     \"<code>\\n\"+\n     \"from bokeh.resources import INLINE\\n\"+\n     \"output_notebook(resources=INLINE)\\n\"+\n     \"</code>\\n\"+\n     \"</div>\"}};\n\n  function display_loaded(error = null) {\n    const el = document.getElementById(\"e3d855dc-baa9-4244-bbf1-5851dc86dcba\");\n    if (el != null) {\n      const html = (() => {\n        if (typeof root.Bokeh === \"undefined\") {\n          if (error == null) {\n            return \"BokehJS is loading ...\";\n          } else {\n            return \"BokehJS failed to load.\";\n          }\n        } else {\n          const prefix = `BokehJS ${root.Bokeh.version}`;\n          if (error == null) {\n            return `${prefix} successfully loaded.`;\n          } else {\n            return `${prefix} <b>encountered errors</b> while loading and may not function as expected.`;\n          }\n        }\n      })();\n      el.innerHTML = html;\n\n      if (error != null) {\n        const wrapper = document.createElement(\"div\");\n        wrapper.style.overflow = \"auto\";\n        wrapper.style.height = \"5em\";\n        wrapper.style.resize = \"vertical\";\n        const content = document.createElement(\"div\");\n        content.style.fontFamily = \"monospace\";\n        content.style.whiteSpace = \"pre-wrap\";\n        content.style.backgroundColor = \"rgb(255, 221, 221)\";\n        content.textContent = error.stack ?? error.toString();\n        wrapper.append(content);\n        el.append(wrapper);\n      }\n    } else if (Date.now() < root._bokeh_timeout) {\n      setTimeout(() => display_loaded(error), 100);\n    }\n  }\n\n  function run_callbacks() {\n    try {\n      root._bokeh_onload_callbacks.forEach(function(callback) {\n        if (callback != null)\n          callback();\n      });\n    } finally {\n      delete root._bokeh_onload_callbacks\n    }\n    console.debug(\"Bokeh: all callbacks have finished\");\n  }\n\n  function load_libs(css_urls, js_urls, callback) {\n    if (css_urls == null) css_urls = [];\n    if (js_urls == null) js_urls = [];\n\n    root._bokeh_onload_callbacks.push(callback);\n    if (root._bokeh_is_loading > 0) {\n      console.debug(\"Bokeh: BokehJS is being loaded, scheduling callback at\", now());\n      return null;\n    }\n    if (js_urls == null || js_urls.length === 0) {\n      run_callbacks();\n      return null;\n    }\n    console.debug(\"Bokeh: BokehJS not loaded, scheduling load and callback at\", now());\n    root._bokeh_is_loading = css_urls.length + js_urls.length;\n\n    function on_load() {\n      root._bokeh_is_loading--;\n      if (root._bokeh_is_loading === 0) {\n        console.debug(\"Bokeh: all BokehJS libraries/stylesheets loaded\");\n        run_callbacks()\n      }\n    }\n\n    function on_error(url) {\n      console.error(\"failed to load \" + url);\n    }\n\n    for (let i = 0; i < css_urls.length; i++) {\n      const url = css_urls[i];\n      const element = document.createElement(\"link\");\n      element.onload = on_load;\n      element.onerror = on_error.bind(null, url);\n      element.rel = \"stylesheet\";\n      element.type = \"text/css\";\n      element.href = url;\n      console.debug(\"Bokeh: injecting link tag for BokehJS stylesheet: \", url);\n      document.body.appendChild(element);\n    }\n\n    for (let i = 0; i < js_urls.length; i++) {\n      const url = js_urls[i];\n      const element = document.createElement('script');\n      element.onload = on_load;\n      element.onerror = on_error.bind(null, url);\n      element.async = false;\n      element.src = url;\n      console.debug(\"Bokeh: injecting script tag for BokehJS library: \", url);\n      document.head.appendChild(element);\n    }\n  };\n\n  function inject_raw_css(css) {\n    const element = document.createElement(\"style\");\n    element.appendChild(document.createTextNode(css));\n    document.body.appendChild(element);\n  }\n\n  const js_urls = [\"https://cdn.bokeh.org/bokeh/release/bokeh-3.8.0.min.js\", \"https://cdn.bokeh.org/bokeh/release/bokeh-gl-3.8.0.min.js\", \"https://cdn.bokeh.org/bokeh/release/bokeh-widgets-3.8.0.min.js\", \"https://cdn.bokeh.org/bokeh/release/bokeh-tables-3.8.0.min.js\", \"https://cdn.bokeh.org/bokeh/release/bokeh-mathjax-3.8.0.min.js\"];\n  const css_urls = [];\n\n  const inline_js = [    function(Bokeh) {\n      Bokeh.set_log_level(\"info\");\n    },\nfunction(Bokeh) {\n    }\n  ];\n\n  function run_inline_js() {\n    if (root.Bokeh !== undefined || force === true) {\n      try {\n            for (let i = 0; i < inline_js.length; i++) {\n      inline_js[i].call(root, root.Bokeh);\n    }\n\n      } catch (error) {display_loaded(error);throw error;\n      }if (force === true) {\n        display_loaded();\n      }} else if (Date.now() < root._bokeh_timeout) {\n      setTimeout(run_inline_js, 100);\n    } else if (!root._bokeh_failed_load) {\n      console.log(\"Bokeh: BokehJS failed to load within specified timeout.\");\n      root._bokeh_failed_load = true;\n    } else if (force !== true) {\n      const cell = $(document.getElementById(\"e3d855dc-baa9-4244-bbf1-5851dc86dcba\")).parents('.cell').data().cell;\n      cell.output_area.append_execute_result(NB_LOAD_WARNING)\n    }\n  }\n\n  if (root._bokeh_is_loading === 0) {\n    console.debug(\"Bokeh: BokehJS loaded, going straight to plotting\");\n    run_inline_js();\n  } else {\n    load_libs(css_urls, js_urls, function() {\n      console.debug(\"Bokeh: BokehJS plotting callback run at\", now());\n      run_inline_js();\n    });\n  }\n}(window));",
      "application/vnd.bokehjs_load.v0+json": ""
     },
     "metadata": {},
     "output_type": "display_data"
    },
    {
     "data": {
      "text/html": [
       "\n",
       "  <div id=\"d0f178bd-0317-4a81-abbf-83be4f135df2\" data-root-id=\"p1008\" style=\"display: contents;\"></div>\n"
      ]
     },
     "metadata": {},
     "output_type": "display_data"
    },
    {
     "data": {
      "application/javascript": "(function(root) {\n  function embed_document(root) {\n  const docs_json = {\"9bf1e76b-ba81-4a12-83ae-ee9b8e840762\":{\"version\":\"3.8.0\",\"title\":\"Bokeh Application\",\"config\":{\"type\":\"object\",\"name\":\"DocumentConfig\",\"id\":\"p1050\",\"attributes\":{\"notifications\":{\"type\":\"object\",\"name\":\"Notifications\",\"id\":\"p1051\"}}},\"roots\":[{\"type\":\"object\",\"name\":\"Figure\",\"id\":\"p1008\",\"attributes\":{\"x_range\":{\"type\":\"object\",\"name\":\"DataRange1d\",\"id\":\"p1009\"},\"y_range\":{\"type\":\"object\",\"name\":\"DataRange1d\",\"id\":\"p1010\"},\"x_scale\":{\"type\":\"object\",\"name\":\"LinearScale\",\"id\":\"p1018\"},\"y_scale\":{\"type\":\"object\",\"name\":\"LinearScale\",\"id\":\"p1019\"},\"title\":{\"type\":\"object\",\"name\":\"Title\",\"id\":\"p1011\",\"attributes\":{\"text\":\"word2vec T-SNE (eng model, top1000 words)\"}},\"renderers\":[{\"type\":\"object\",\"name\":\"GlyphRenderer\",\"id\":\"p1043\",\"attributes\":{\"data_source\":{\"type\":\"object\",\"name\":\"ColumnDataSource\",\"id\":\"p1034\",\"attributes\":{\"selected\":{\"type\":\"object\",\"name\":\"Selection\",\"id\":\"p1035\",\"attributes\":{\"indices\":[],\"line_indices\":[]}},\"selection_policy\":{\"type\":\"object\",\"name\":\"UnionRenderers\",\"id\":\"p1036\"},\"data\":{\"type\":\"map\",\"entries\":[[\"x1\",{\"type\":\"ndarray\",\"array\":{\"type\":\"bytes\",\"data\":\"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\"},\"shape\":[1000],\"dtype\":\"float32\",\"order\":\"little\"}],[\"x2\",{\"type\":\"ndarray\",\"array\":{\"type\":\"bytes\",\"data\":\"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\"},\"shape\":[1000],\"dtype\":\"float32\",\"order\":\"little\"}],[\"names\",[\"the\",\"and\",\"a\",\"of\",\"to\",\"is\",\"it\",\"in\",\"i\",\"this\",\"that\",\"s\",\"was\",\"as\",\"with\",\"for\",\"movie\",\"but\",\"film\",\"you\",\"t\",\"on\",\"not\",\"he\",\"are\",\"his\",\"have\",\"be\",\"one\",\"all\",\"they\",\"at\",\"by\",\"who\",\"an\",\"from\",\"so\",\"like\",\"there\",\"or\",\"her\",\"just\",\"about\",\"out\",\"has\",\"if\",\"what\",\"some\",\"good\",\"can\",\"when\",\"more\",\"very\",\"she\",\"up\",\"no\",\"time\",\"even\",\"would\",\"their\",\"my\",\"which\",\"story\",\"only\",\"really\",\"see\",\"had\",\"were\",\"well\",\"me\",\"we\",\"than\",\"much\",\"bad\",\"been\",\"get\",\"people\",\"great\",\"into\",\"also\",\"do\",\"other\",\"first\",\"will\",\"him\",\"because\",\"most\",\"how\",\"don\",\"them\",\"make\",\"its\",\"made\",\"way\",\"could\",\"then\",\"too\",\"movies\",\"after\",\"any\",\"characters\",\"character\",\"films\",\"two\",\"think\",\"watch\",\"being\",\"plot\",\"many\",\"where\",\"never\",\"love\",\"seen\",\"little\",\"life\",\"acting\",\"best\",\"did\",\"off\",\"know\",\"over\",\"ever\",\"does\",\"show\",\"better\",\"man\",\"your\",\"end\",\"here\",\"scene\",\"while\",\"these\",\"why\",\"still\",\"scenes\",\"something\",\"say\",\"go\",\"m\",\"ve\",\"should\",\"back\",\"such\",\"real\",\"through\",\"those\",\"now\",\"re\",\"doesn\",\"watching\",\"thing\",\"director\",\"funny\",\"though\",\"years\",\"didn\",\"another\",\"actors\",\"new\",\"going\",\"old\",\"makes\",\"nothing\",\"actually\",\"before\",\"work\",\"look\",\"same\",\"find\",\"lot\",\"part\",\"few\",\"every\",\"again\",\"world\",\"action\",\"cast\",\"horror\",\"things\",\"us\",\"quite\",\"want\",\"down\",\"pretty\",\"young\",\"fact\",\"around\",\"seems\",\"enough\",\"both\",\"take\",\"long\",\"however\",\"thought\",\"got\",\"own\",\"give\",\"comedy\",\"between\",\"big\",\"d\",\"must\",\"series\",\"right\",\"may\",\"without\",\"role\",\"guy\",\"original\",\"interesting\",\"whole\",\"come\",\"isn\",\"times\",\"always\",\"saw\",\"least\",\"bit\",\"gets\",\"almost\",\"script\",\"point\",\"last\",\"music\",\"done\",\"minutes\",\"feel\",\"far\",\"since\",\"girl\",\"ll\",\"yet\",\"might\",\"making\",\"performance\",\"away\",\"family\",\"anything\",\"am\",\"probably\",\"hard\",\"woman\",\"tv\",\"kind\",\"fun\",\"rather\",\"day\",\"played\",\"worst\",\"each\",\"found\",\"sure\",\"anyone\",\"especially\",\"trying\",\"having\",\"our\",\"screen\",\"looking\",\"different\",\"believe\",\"sense\",\"place\",\"american\",\"although\",\"ending\",\"goes\",\"worth\",\"course\",\"set\",\"shows\",\"maybe\",\"three\",\"comes\",\"dvd\",\"money\",\"once\",\"everything\",\"plays\",\"effects\",\"put\",\"john\",\"looks\",\"actor\",\"main\",\"together\",\"during\",\"someone\",\"let\",\"wasn\",\"instead\",\"everyone\",\"war\",\"year\",\"reason\",\"takes\",\"special\",\"said\",\"true\",\"high\",\"night\",\"book\",\"seem\",\"job\",\"play\",\"watched\",\"audience\",\"later\",\"wife\",\"black\",\"death\",\"himself\",\"star\",\"half\",\"seeing\",\"used\",\"idea\",\"dead\",\"second\",\"men\",\"left\",\"excellent\",\"simply\",\"shot\",\"else\",\"beautiful\",\"sex\",\"completely\",\"budget\",\"father\",\"women\",\"mind\",\"house\",\"hollywood\",\"poor\",\"less\",\"fan\",\"along\",\"boring\",\"performances\",\"home\",\"line\",\"help\",\"nice\",\"try\",\"couple\",\"top\",\"version\",\"until\",\"either\",\"low\",\"next\",\"camera\",\"use\",\"friends\",\"short\",\"wrong\",\"start\",\"kids\",\"given\",\"mother\",\"read\",\"need\",\"full\",\"enjoy\",\"production\",\"classic\",\"perhaps\",\"school\",\"moments\",\"truly\",\"stupid\",\"keep\",\"awful\",\"getting\",\"rest\",\"video\",\"face\",\"tell\",\"mean\",\"others\",\"itself\",\"understand\",\"boy\",\"terrible\",\"small\",\"name\",\"style\",\"came\",\"won\",\"playing\",\"recommend\",\"doing\",\"lost\",\"person\",\"definitely\",\"gives\",\"dialogue\",\"entertaining\",\"wonderful\",\"often\",\"live\",\"lines\",\"hope\",\"went\",\"stars\",\"case\",\"remember\",\"written\",\"couldn\",\"head\",\"early\",\"title\",\"yes\",\"human\",\"perfect\",\"become\",\"based\",\"friend\",\"children\",\"certainly\",\"liked\",\"problem\",\"drama\",\"son\",\"picture\",\"several\",\"fans\",\"under\",\"lead\",\"laugh\",\"oh\",\"guys\",\"humor\",\"supposed\",\"direction\",\"against\",\"absolutely\",\"overall\",\"sort\",\"piece\",\"episode\",\"finally\",\"game\",\"lives\",\"called\",\"entire\",\"evil\",\"cinema\",\"worse\",\"care\",\"waste\",\"killer\",\"dark\",\"felt\",\"beginning\",\"despite\",\"seemed\",\"genre\",\"final\",\"b\",\"totally\",\"history\",\"wanted\",\"unfortunately\",\"town\",\"throughout\",\"white\",\"city\",\"becomes\",\"able\",\"days\",\"already\",\"turn\",\"guess\",\"run\",\"fine\",\"loved\",\"act\",\"mr\",\"flick\",\"today\",\"horrible\",\"heart\",\"side\",\"hand\",\"kill\",\"tries\",\"wants\",\"starts\",\"quality\",\"killed\",\"past\",\"themselves\",\"child\",\"close\",\"matter\",\"group\",\"sound\",\"turns\",\"daughter\",\"parts\",\"viewer\",\"etc\",\"expect\",\"fight\",\"car\",\"enjoyed\",\"directed\",\"writing\",\"decent\",\"type\",\"violence\",\"stop\",\"example\",\"stuff\",\"self\",\"kid\",\"amazing\",\"behind\",\"soon\",\"blood\",\"favorite\",\"works\",\"known\",\"thinking\",\"gave\",\"obviously\",\"sometimes\",\"hero\",\"eyes\",\"actress\",\"girls\",\"michael\",\"happened\",\"brilliant\",\"stories\",\"except\",\"myself\",\"hour\",\"coming\",\"says\",\"writer\",\"late\",\"husband\",\"extremely\",\"experience\",\"hell\",\"happens\",\"art\",\"heard\",\"police\",\"took\",\"feeling\",\"roles\",\"leave\",\"highly\",\"attempt\",\"taken\",\"interest\",\"wouldn\",\"murder\",\"moment\",\"slow\",\"score\",\"god\",\"including\",\"looked\",\"obvious\",\"involved\",\"living\",\"anyway\",\"robert\",\"david\",\"cool\",\"hours\",\"save\",\"ok\",\"age\",\"voice\",\"o\",\"career\",\"told\",\"across\",\"wonder\",\"none\",\"strong\",\"cut\",\"happen\",\"please\",\"gore\",\"simple\",\"hilarious\",\"brother\",\"important\",\"exactly\",\"power\",\"chance\",\"ago\",\"james\",\"particularly\",\"relationship\",\"documentary\",\"level\",\"complete\",\"light\",\"female\",\"annoying\",\"possible\",\"serious\",\"cannot\",\"hit\",\"crap\",\"sad\",\"running\",\"lack\",\"sequel\",\"talent\",\"usually\",\"whose\",\"basically\",\"reality\",\"ends\",\"seriously\",\"strange\",\"order\",\"finds\",\"call\",\"taking\",\"somewhat\",\"room\",\"happy\",\"silly\",\"scary\",\"middle\",\"turned\",\"alone\",\"apparently\",\"ridiculous\",\"change\",\"clich\",\"country\",\"mostly\",\"attention\",\"miss\",\"four\",\"usual\",\"shown\",\"body\",\"song\",\"wish\",\"jokes\",\"number\",\"opening\",\"released\",\"disappointed\",\"word\",\"jack\",\"thriller\",\"single\",\"opinion\",\"straight\",\"future\",\"english\",\"words\",\"parents\",\"novel\",\"saying\",\"cinematography\",\"yourself\",\"view\",\"cheap\",\"started\",\"french\",\"beyond\",\"huge\",\"talking\",\"non\",\"clearly\",\"sets\",\"talk\",\"major\",\"die\",\"shots\",\"rating\",\"problems\",\"knew\",\"knows\",\"gay\",\"modern\",\"fast\",\"british\",\"due\",\"events\",\"tells\",\"add\",\"bring\",\"comic\",\"clear\",\"ones\",\"above\",\"hate\",\"storyline\",\"york\",\"easy\",\"typical\",\"entertainment\",\"aren\",\"easily\",\"haven\",\"within\",\"local\",\"upon\",\"general\",\"dialog\",\"crime\",\"ten\",\"giving\",\"george\",\"lots\",\"sequence\",\"america\",\"ways\",\"falls\",\"similar\",\"begins\",\"appears\",\"class\",\"near\",\"mystery\",\"named\",\"bunch\",\"filmed\",\"king\",\"elements\",\"romantic\",\"team\",\"certain\",\"review\",\"predictable\",\"working\",\"avoid\",\"stand\",\"de\",\"earth\",\"sorry\",\"th\",\"e\",\"television\",\"mention\",\"enjoyable\",\"supporting\",\"tale\",\"theme\",\"message\",\"points\",\"cop\",\"gone\",\"among\",\"fall\",\"space\",\"tom\",\"viewers\",\"eye\",\"red\",\"truth\",\"leads\",\"surprised\",\"stay\",\"release\",\"kept\",\"minute\",\"richard\",\"five\",\"dull\",\"killing\",\"using\",\"effort\",\"monster\",\"third\",\"brought\",\"musical\",\"feels\",\"suspense\",\"tried\",\"means\",\"whether\",\"comments\",\"sequences\",\"dog\",\"moving\",\"period\",\"peter\",\"lee\",\"needs\",\"doubt\",\"fi\",\"showing\",\"buy\",\"okay\",\"sci\",\"somehow\",\"soundtrack\",\"viewing\",\"rent\",\"herself\",\"nearly\",\"average\",\"songs\",\"theater\",\"episodes\",\"reviews\",\"whatever\",\"follow\",\"surprise\",\"feature\",\"form\",\"move\",\"forget\",\"realistic\",\"believable\",\"free\",\"material\",\"premise\",\"editing\",\"sister\",\"brothers\",\"deep\",\"imagine\",\"gun\",\"forced\",\"famous\",\"poorly\",\"deal\",\"crew\",\"western\",\"indeed\",\"expected\",\"check\",\"possibly\",\"fantastic\",\"lame\",\"society\",\"figure\",\"otherwise\",\"dr\",\"learn\",\"open\",\"paul\",\"eventually\",\"plus\",\"lady\",\"weak\",\"hear\",\"stage\",\"sexual\",\"leaves\",\"question\",\"note\",\"difficult\",\"sit\",\"towards\",\"romance\",\"box\",\"situation\",\"begin\",\"earlier\",\"personal\",\"atmosphere\",\"reading\",\"male\",\"screenplay\",\"wait\",\"decided\",\"joe\",\"battle\",\"interested\",\"powerful\",\"previous\",\"business\",\"greatest\",\"nor\",\"hot\",\"actual\",\"cheesy\",\"became\",\"acted\",\"worked\",\"animation\",\"subject\",\"island\",\"effect\",\"footage\",\"mess\",\"era\",\"oscar\",\"result\",\"meet\",\"rock\",\"credits\",\"features\",\"particular\",\"memorable\",\"whom\",\"boys\",\"air\",\"setting\",\"perfectly\",\"writers\",\"laughs\",\"street\",\"shame\",\"quickly\",\"rich\",\"older\",\"hands\",\"background\",\"keeps\",\"twist\",\"dramatic\",\"total\",\"present\",\"bill\",\"various\",\"appear\",\"pay\",\"telling\",\"directing\",\"william\",\"party\",\"alien\",\"unless\",\"crazy\",\"harry\",\"mark\",\"badly\",\"realize\",\"girlfriend\",\"forward\",\"front\",\"needed\",\"comment\",\"emotional\",\"imdb\",\"development\",\"fighting\",\"secret\",\"break\",\"fairly\",\"unique\",\"c\",\"baby\",\"outside\",\"married\",\"manages\",\"plenty\",\"villain\",\"apart\",\"missing\",\"masterpiece\",\"nature\",\"brings\",\"remake\",\"write\",\"former\",\"superb\",\"weird\",\"doctor\",\"clever\",\"escape\",\"list\",\"incredibly\",\"meets\",\"reasons\",\"hold\",\"created\",\"sounds\",\"sam\",\"inside\",\"unlike\",\"leading\",\"laughing\",\"ideas\",\"japanese\",\"season\",\"prison\",\"directors\",\"copy\",\"cute\",\"public\",\"return\",\"political\",\"violent\",\"success\",\"force\",\"create\",\"caught\",\"admit\",\"meant\",\"water\"]]]}}},\"view\":{\"type\":\"object\",\"name\":\"CDSView\",\"id\":\"p1044\",\"attributes\":{\"filter\":{\"type\":\"object\",\"name\":\"AllIndices\",\"id\":\"p1045\"}}},\"glyph\":{\"type\":\"object\",\"name\":\"Scatter\",\"id\":\"p1040\",\"attributes\":{\"x\":{\"type\":\"field\",\"field\":\"x1\"},\"y\":{\"type\":\"field\",\"field\":\"x2\"},\"size\":{\"type\":\"value\",\"value\":8},\"line_color\":{\"type\":\"value\",\"value\":\"#1f77b4\"},\"fill_color\":{\"type\":\"value\",\"value\":\"#1f77b4\"}}},\"nonselection_glyph\":{\"type\":\"object\",\"name\":\"Scatter\",\"id\":\"p1041\",\"attributes\":{\"x\":{\"type\":\"field\",\"field\":\"x1\"},\"y\":{\"type\":\"field\",\"field\":\"x2\"},\"size\":{\"type\":\"value\",\"value\":8},\"line_color\":{\"type\":\"value\",\"value\":\"#1f77b4\"},\"line_alpha\":{\"type\":\"value\",\"value\":0.1},\"fill_color\":{\"type\":\"value\",\"value\":\"#1f77b4\"},\"fill_alpha\":{\"type\":\"value\",\"value\":0.1},\"hatch_alpha\":{\"type\":\"value\",\"value\":0.1}}},\"muted_glyph\":{\"type\":\"object\",\"name\":\"Scatter\",\"id\":\"p1042\",\"attributes\":{\"x\":{\"type\":\"field\",\"field\":\"x1\"},\"y\":{\"type\":\"field\",\"field\":\"x2\"},\"size\":{\"type\":\"value\",\"value\":8},\"line_color\":{\"type\":\"value\",\"value\":\"#1f77b4\"},\"line_alpha\":{\"type\":\"value\",\"value\":0.2},\"fill_color\":{\"type\":\"value\",\"value\":\"#1f77b4\"},\"fill_alpha\":{\"type\":\"value\",\"value\":0.2},\"hatch_alpha\":{\"type\":\"value\",\"value\":0.2}}}}}],\"toolbar\":{\"type\":\"object\",\"name\":\"Toolbar\",\"id\":\"p1017\",\"attributes\":{\"tools\":[{\"type\":\"object\",\"name\":\"PanTool\",\"id\":\"p1030\"},{\"type\":\"object\",\"name\":\"WheelZoomTool\",\"id\":\"p1031\",\"attributes\":{\"renderers\":\"auto\"}},{\"type\":\"object\",\"name\":\"ResetTool\",\"id\":\"p1032\"},{\"type\":\"object\",\"name\":\"SaveTool\",\"id\":\"p1033\"}]}},\"toolbar_location\":\"above\",\"left\":[{\"type\":\"object\",\"name\":\"LinearAxis\",\"id\":\"p1025\",\"attributes\":{\"ticker\":{\"type\":\"object\",\"name\":\"BasicTicker\",\"id\":\"p1026\",\"attributes\":{\"mantissas\":[1,2,5]}},\"formatter\":{\"type\":\"object\",\"name\":\"BasicTickFormatter\",\"id\":\"p1027\"},\"major_label_policy\":{\"type\":\"object\",\"name\":\"AllLabels\",\"id\":\"p1028\"}}}],\"below\":[{\"type\":\"object\",\"name\":\"LinearAxis\",\"id\":\"p1020\",\"attributes\":{\"ticker\":{\"type\":\"object\",\"name\":\"BasicTicker\",\"id\":\"p1021\",\"attributes\":{\"mantissas\":[1,2,5]}},\"formatter\":{\"type\":\"object\",\"name\":\"BasicTickFormatter\",\"id\":\"p1022\"},\"major_label_policy\":{\"type\":\"object\",\"name\":\"AllLabels\",\"id\":\"p1023\"}}}],\"center\":[{\"type\":\"object\",\"name\":\"Grid\",\"id\":\"p1024\",\"attributes\":{\"axis\":{\"id\":\"p1020\"}}},{\"type\":\"object\",\"name\":\"Grid\",\"id\":\"p1029\",\"attributes\":{\"dimension\":1,\"axis\":{\"id\":\"p1025\"}}},{\"type\":\"object\",\"name\":\"LabelSet\",\"id\":\"p1046\",\"attributes\":{\"source\":{\"id\":\"p1034\"},\"x\":{\"type\":\"field\",\"field\":\"x1\"},\"y\":{\"type\":\"field\",\"field\":\"x2\"},\"text\":{\"type\":\"field\",\"field\":\"names\"},\"y_offset\":{\"type\":\"value\",\"value\":6},\"text_color\":{\"type\":\"value\",\"value\":\"#555555\"},\"text_font_size\":{\"type\":\"value\",\"value\":\"8pt\"},\"text_align\":{\"type\":\"value\",\"value\":\"center\"}}}]}}]}};\n  const render_items = [{\"docid\":\"9bf1e76b-ba81-4a12-83ae-ee9b8e840762\",\"roots\":{\"p1008\":\"d0f178bd-0317-4a81-abbf-83be4f135df2\"},\"root_ids\":[\"p1008\"]}];\n  void root.Bokeh.embed.embed_items_notebook(docs_json, render_items);\n  }\n  if (root.Bokeh !== undefined) {\n    embed_document(root);\n  } else {\n    let attempts = 0;\n    const timer = setInterval(function(root) {\n      if (root.Bokeh !== undefined) {\n        clearInterval(timer);\n        embed_document(root);\n      } else {\n        attempts++;\n        if (attempts > 100) {\n          clearInterval(timer);\n          console.log(\"Bokeh: ERROR: Unable to run BokehJS code because BokehJS library is missing\");\n        }\n      }\n    }, 10, root)\n  }\n})(window);",
      "application/vnd.bokehjs_exec.v0+json": ""
     },
     "metadata": {
      "application/vnd.bokehjs_exec.v0+json": {
       "id": "p1008"
      }
     },
     "output_type": "display_data"
    }
   ],
   "source": [
    "output_notebook()\n",
    "\n",
    "p = figure(tools=\"pan,wheel_zoom,reset,save\",\n",
    "           toolbar_location=\"above\",\n",
    "           title=\"word2vec T-SNE (eng model, top1000 words)\")\n",
    "\n",
    "source = ColumnDataSource(data=dict(x1=top_words_tsne[:,0],\n",
    "                                    x2=top_words_tsne[:,1],\n",
    "                                    names=top_words))\n",
    "\n",
    "p.scatter(x=\"x1\", y=\"x2\", size=8, source=source)\n",
    "\n",
    "labels = LabelSet(x=\"x1\", y=\"x2\", text=\"names\", y_offset=6,\n",
    "                  text_font_size=\"8pt\", text_color=\"#555555\",\n",
    "                  source=source, text_align='center')\n",
    "p.add_layout(labels)\n",
    "\n",
    "show(p)"
   ]
  },
  {
   "cell_type": "markdown",
   "metadata": {
    "id": "2Szes63RX-sl"
   },
   "source": [
    "To calculate the transformation of T-SNE faster (and sometimes more effective), you can first reduce the dimension of the source data using, for example, SVD, and then use T-SNE:"
   ]
  },
  {
   "cell_type": "code",
   "execution_count": 97,
   "metadata": {
    "executionInfo": {
     "elapsed": 9078,
     "status": "ok",
     "timestamp": 1719031247124,
     "user": {
      "displayName": "Ильсеяр Алимова",
      "userId": "18086433180291504366"
     },
     "user_tz": -180
    },
    "id": "p0R7hvIfX-sm"
   },
   "outputs": [],
   "source": [
    "svd_50 = TruncatedSVD(n_components=50)\n",
    "top_words_vec_50 = svd_50.fit_transform(top_words_vec)\n",
    "top_words_tsne2 = TSNE(n_components=2, random_state=0).fit_transform(top_words_vec_50)"
   ]
  },
  {
   "cell_type": "code",
   "execution_count": 98,
   "metadata": {
    "colab": {
     "base_uri": "https://localhost:8080/",
     "height": 617
    },
    "executionInfo": {
     "elapsed": 22,
     "status": "ok",
     "timestamp": 1719031247125,
     "user": {
      "displayName": "Ильсеяр Алимова",
      "userId": "18086433180291504366"
     },
     "user_tz": -180
    },
    "id": "zpUJyJibX-sn",
    "outputId": "67301e7e-579a-4a00-df46-21bf8071b522"
   },
   "outputs": [
    {
     "data": {
      "text/html": [
       "    <style>\n",
       "        .bk-notebook-logo {\n",
       "            display: block;\n",
       "            width: 20px;\n",
       "            height: 20px;\n",
       "            background-image: url(data:image/png;base64,iVBORw0KGgoAAAANSUhEUgAAABQAAAAUCAYAAACNiR0NAAAABHNCSVQICAgIfAhkiAAAAAlwSFlzAAALEgAACxIB0t1+/AAAABx0RVh0U29mdHdhcmUAQWRvYmUgRmlyZXdvcmtzIENTNui8sowAAAOkSURBVDiNjZRtaJVlGMd/1/08zzln5zjP1LWcU9N0NkN8m2CYjpgQYQXqSs0I84OLIC0hkEKoPtiH3gmKoiJDU7QpLgoLjLIQCpEsNJ1vqUOdO7ppbuec5+V+rj4ctwzd8IIbbi6u+8f1539dt3A78eXC7QizUF7gyV1fD1Yqg4JWz84yffhm0qkFqBogB9rM8tZdtwVsPUhWhGcFJngGeWrPzHm5oaMmkfEg1usvLFyc8jLRqDOMru7AyC8saQr7GG7f5fvDeH7Ej8CM66nIF+8yngt6HWaKh7k49Soy9nXurCi1o3qUbS3zWfrYeQDTB/Qj6kX6Ybhw4B+bOYoLKCC9H3Nu/leUTZ1JdRWkkn2ldcCamzrcf47KKXdAJllSlxAOkRgyHsGC/zRday5Qld9DyoM4/q/rUoy/CXh3jzOu3bHUVZeU+DEn8FInkPBFlu3+nW3Nw0mk6vCDiWg8CeJaxEwuHS3+z5RgY+YBR6V1Z1nxSOfoaPa4LASWxxdNp+VWTk7+4vzaou8v8PN+xo+KY2xsw6une2frhw05CTYOmQvsEhjhWjn0bmXPjpE1+kplmmkP3suftwTubK9Vq22qKmrBhpY4jvd5afdRA3wGjFAgcnTK2s4hY0/GPNIb0nErGMCRxWOOX64Z8RAC4oCXdklmEvcL8o0BfkNK4lUg9HTl+oPlQxdNo3Mg4Nv175e/1LDGzZen30MEjRUtmXSfiTVu1kK8W4txyV6BMKlbgk3lMwYCiusNy9fVfvvwMxv8Ynl6vxoByANLTWplvuj/nF9m2+PDtt1eiHPBr1oIfhCChQMBw6Aw0UulqTKZdfVvfG7VcfIqLG9bcldL/+pdWTLxLUy8Qq38heUIjh4XlzZxzQm19lLFlr8vdQ97rjZVOLf8nclzckbcD4wxXMidpX30sFd37Fv/GtwwhzhxGVAprjbg0gCAEeIgwCZyTV2Z1REEW8O4py0wsjeloKoMr6iCY6dP92H6Vw/oTyICIthibxjm/DfN9lVz8IqtqKYLUXfoKVMVQVVJOElGjrnnUt9T9wbgp8AyYKaGlqingHZU/uG2NTZSVqwHQTWkx9hxjkpWDaCg6Ckj5qebgBVbT3V3NNXMSiWSDdGV3hrtzla7J+duwPOToIg42ChPQOQjspnSlp1V+Gjdged7+8UN5CRAV7a5EdFNwCjEaBR27b3W890TE7g24NAP/mMDXRWrGoFPQI9ls/MWO2dWFAar/xcOIImbbpA3zgAAAABJRU5ErkJggg==);\n",
       "        }\n",
       "    </style>\n",
       "    <div>\n",
       "        <a href=\"https://bokeh.org\" target=\"_blank\" class=\"bk-notebook-logo\"></a>\n",
       "        <span id=\"a59a83b0-243d-4a51-a742-836e6a62f137\">Loading BokehJS ...</span>\n",
       "    </div>\n"
      ]
     },
     "metadata": {},
     "output_type": "display_data"
    },
    {
     "data": {
      "application/javascript": "'use strict';\n(function(root) {\n  function now() {\n    return new Date();\n  }\n\n  const force = true;\n\n  if (typeof root._bokeh_onload_callbacks === \"undefined\" || force === true) {\n    root._bokeh_onload_callbacks = [];\n    root._bokeh_is_loading = undefined;\n  }\n\nconst JS_MIME_TYPE = 'application/javascript';\n  const HTML_MIME_TYPE = 'text/html';\n  const EXEC_MIME_TYPE = 'application/vnd.bokehjs_exec.v0+json';\n  const CLASS_NAME = 'output_bokeh rendered_html';\n\n  /**\n   * Render data to the DOM node\n   */\n  function render(props, node) {\n    const script = document.createElement(\"script\");\n    node.appendChild(script);\n  }\n\n  /**\n   * Handle when an output is cleared or removed\n   */\n  function handleClearOutput(event, handle) {\n    function drop(id) {\n      const view = Bokeh.index.get_by_id(id)\n      if (view != null) {\n        view.model.document.clear()\n        Bokeh.index.delete(view)\n      }\n    }\n\n    const cell = handle.cell;\n\n    const id = cell.output_area._bokeh_element_id;\n    const server_id = cell.output_area._bokeh_server_id;\n\n    // Clean up Bokeh references\n    if (id != null) {\n      drop(id)\n    }\n\n    if (server_id !== undefined) {\n      // Clean up Bokeh references\n      const cmd_clean = \"from bokeh.io.state import curstate; print(curstate().uuid_to_server['\" + server_id + \"'].get_sessions()[0].document.roots[0]._id)\";\n      cell.notebook.kernel.execute(cmd_clean, {\n        iopub: {\n          output: function(msg) {\n            const id = msg.content.text.trim()\n            drop(id)\n          }\n        }\n      });\n      // Destroy server and session\n      const cmd_destroy = \"import bokeh.io.notebook as ion; ion.destroy_server('\" + server_id + \"')\";\n      cell.notebook.kernel.execute(cmd_destroy);\n    }\n  }\n\n  /**\n   * Handle when a new output is added\n   */\n  function handleAddOutput(event, handle) {\n    const output_area = handle.output_area;\n    const output = handle.output;\n\n    // limit handleAddOutput to display_data with EXEC_MIME_TYPE content only\n    if ((output.output_type != \"display_data\") || (!Object.prototype.hasOwnProperty.call(output.data, EXEC_MIME_TYPE))) {\n      return\n    }\n\n    const toinsert = output_area.element.find(\".\" + CLASS_NAME.split(' ')[0]);\n\n    if (output.metadata[EXEC_MIME_TYPE][\"id\"] !== undefined) {\n      toinsert[toinsert.length - 1].firstChild.textContent = output.data[JS_MIME_TYPE];\n      // store reference to embed id on output_area\n      output_area._bokeh_element_id = output.metadata[EXEC_MIME_TYPE][\"id\"];\n    }\n    if (output.metadata[EXEC_MIME_TYPE][\"server_id\"] !== undefined) {\n      const bk_div = document.createElement(\"div\");\n      bk_div.innerHTML = output.data[HTML_MIME_TYPE];\n      const script_attrs = bk_div.children[0].attributes;\n      for (let i = 0; i < script_attrs.length; i++) {\n        toinsert[toinsert.length - 1].firstChild.setAttribute(script_attrs[i].name, script_attrs[i].value);\n        toinsert[toinsert.length - 1].firstChild.textContent = bk_div.children[0].textContent\n      }\n      // store reference to server id on output_area\n      output_area._bokeh_server_id = output.metadata[EXEC_MIME_TYPE][\"server_id\"];\n    }\n  }\n\n  function register_renderer(events, OutputArea) {\n\n    function append_mime(data, metadata, element) {\n      // create a DOM node to render to\n      const toinsert = this.create_output_subarea(\n        metadata,\n        CLASS_NAME,\n        EXEC_MIME_TYPE\n      );\n      this.keyboard_manager.register_events(toinsert);\n      // Render to node\n      const props = {data: data, metadata: metadata[EXEC_MIME_TYPE]};\n      render(props, toinsert[toinsert.length - 1]);\n      element.append(toinsert);\n      return toinsert\n    }\n\n    /* Handle when an output is cleared or removed */\n    events.on('clear_output.CodeCell', handleClearOutput);\n    events.on('delete.Cell', handleClearOutput);\n\n    /* Handle when a new output is added */\n    events.on('output_added.OutputArea', handleAddOutput);\n\n    /**\n     * Register the mime type and append_mime function with output_area\n     */\n    OutputArea.prototype.register_mime_type(EXEC_MIME_TYPE, append_mime, {\n      /* Is output safe? */\n      safe: true,\n      /* Index of renderer in `output_area.display_order` */\n      index: 0\n    });\n  }\n\n  // register the mime type if in Jupyter Notebook environment and previously unregistered\n  if (root.Jupyter !== undefined) {\n    const events = require('base/js/events');\n    const OutputArea = require('notebook/js/outputarea').OutputArea;\n\n    if (OutputArea.prototype.mime_types().indexOf(EXEC_MIME_TYPE) == -1) {\n      register_renderer(events, OutputArea);\n    }\n  }\n  if (typeof (root._bokeh_timeout) === \"undefined\" || force === true) {\n    root._bokeh_timeout = Date.now() + 5000;\n    root._bokeh_failed_load = false;\n  }\n\n  const NB_LOAD_WARNING = {'data': {'text/html':\n     \"<div style='background-color: #fdd'>\\n\"+\n     \"<p>\\n\"+\n     \"BokehJS does not appear to have successfully loaded. If loading BokehJS from CDN, this \\n\"+\n     \"may be due to a slow or bad network connection. Possible fixes:\\n\"+\n     \"</p>\\n\"+\n     \"<ul>\\n\"+\n     \"<li>re-rerun `output_notebook()` to attempt to load from CDN again, or</li>\\n\"+\n     \"<li>use INLINE resources instead, as so:</li>\\n\"+\n     \"</ul>\\n\"+\n     \"<code>\\n\"+\n     \"from bokeh.resources import INLINE\\n\"+\n     \"output_notebook(resources=INLINE)\\n\"+\n     \"</code>\\n\"+\n     \"</div>\"}};\n\n  function display_loaded(error = null) {\n    const el = document.getElementById(\"a59a83b0-243d-4a51-a742-836e6a62f137\");\n    if (el != null) {\n      const html = (() => {\n        if (typeof root.Bokeh === \"undefined\") {\n          if (error == null) {\n            return \"BokehJS is loading ...\";\n          } else {\n            return \"BokehJS failed to load.\";\n          }\n        } else {\n          const prefix = `BokehJS ${root.Bokeh.version}`;\n          if (error == null) {\n            return `${prefix} successfully loaded.`;\n          } else {\n            return `${prefix} <b>encountered errors</b> while loading and may not function as expected.`;\n          }\n        }\n      })();\n      el.innerHTML = html;\n\n      if (error != null) {\n        const wrapper = document.createElement(\"div\");\n        wrapper.style.overflow = \"auto\";\n        wrapper.style.height = \"5em\";\n        wrapper.style.resize = \"vertical\";\n        const content = document.createElement(\"div\");\n        content.style.fontFamily = \"monospace\";\n        content.style.whiteSpace = \"pre-wrap\";\n        content.style.backgroundColor = \"rgb(255, 221, 221)\";\n        content.textContent = error.stack ?? error.toString();\n        wrapper.append(content);\n        el.append(wrapper);\n      }\n    } else if (Date.now() < root._bokeh_timeout) {\n      setTimeout(() => display_loaded(error), 100);\n    }\n  }\n\n  function run_callbacks() {\n    try {\n      root._bokeh_onload_callbacks.forEach(function(callback) {\n        if (callback != null)\n          callback();\n      });\n    } finally {\n      delete root._bokeh_onload_callbacks\n    }\n    console.debug(\"Bokeh: all callbacks have finished\");\n  }\n\n  function load_libs(css_urls, js_urls, callback) {\n    if (css_urls == null) css_urls = [];\n    if (js_urls == null) js_urls = [];\n\n    root._bokeh_onload_callbacks.push(callback);\n    if (root._bokeh_is_loading > 0) {\n      console.debug(\"Bokeh: BokehJS is being loaded, scheduling callback at\", now());\n      return null;\n    }\n    if (js_urls == null || js_urls.length === 0) {\n      run_callbacks();\n      return null;\n    }\n    console.debug(\"Bokeh: BokehJS not loaded, scheduling load and callback at\", now());\n    root._bokeh_is_loading = css_urls.length + js_urls.length;\n\n    function on_load() {\n      root._bokeh_is_loading--;\n      if (root._bokeh_is_loading === 0) {\n        console.debug(\"Bokeh: all BokehJS libraries/stylesheets loaded\");\n        run_callbacks()\n      }\n    }\n\n    function on_error(url) {\n      console.error(\"failed to load \" + url);\n    }\n\n    for (let i = 0; i < css_urls.length; i++) {\n      const url = css_urls[i];\n      const element = document.createElement(\"link\");\n      element.onload = on_load;\n      element.onerror = on_error.bind(null, url);\n      element.rel = \"stylesheet\";\n      element.type = \"text/css\";\n      element.href = url;\n      console.debug(\"Bokeh: injecting link tag for BokehJS stylesheet: \", url);\n      document.body.appendChild(element);\n    }\n\n    for (let i = 0; i < js_urls.length; i++) {\n      const url = js_urls[i];\n      const element = document.createElement('script');\n      element.onload = on_load;\n      element.onerror = on_error.bind(null, url);\n      element.async = false;\n      element.src = url;\n      console.debug(\"Bokeh: injecting script tag for BokehJS library: \", url);\n      document.head.appendChild(element);\n    }\n  };\n\n  function inject_raw_css(css) {\n    const element = document.createElement(\"style\");\n    element.appendChild(document.createTextNode(css));\n    document.body.appendChild(element);\n  }\n\n  const js_urls = [\"https://cdn.bokeh.org/bokeh/release/bokeh-3.8.0.min.js\", \"https://cdn.bokeh.org/bokeh/release/bokeh-gl-3.8.0.min.js\", \"https://cdn.bokeh.org/bokeh/release/bokeh-widgets-3.8.0.min.js\", \"https://cdn.bokeh.org/bokeh/release/bokeh-tables-3.8.0.min.js\", \"https://cdn.bokeh.org/bokeh/release/bokeh-mathjax-3.8.0.min.js\"];\n  const css_urls = [];\n\n  const inline_js = [    function(Bokeh) {\n      Bokeh.set_log_level(\"info\");\n    },\nfunction(Bokeh) {\n    }\n  ];\n\n  function run_inline_js() {\n    if (root.Bokeh !== undefined || force === true) {\n      try {\n            for (let i = 0; i < inline_js.length; i++) {\n      inline_js[i].call(root, root.Bokeh);\n    }\n\n      } catch (error) {display_loaded(error);throw error;\n      }if (force === true) {\n        display_loaded();\n      }} else if (Date.now() < root._bokeh_timeout) {\n      setTimeout(run_inline_js, 100);\n    } else if (!root._bokeh_failed_load) {\n      console.log(\"Bokeh: BokehJS failed to load within specified timeout.\");\n      root._bokeh_failed_load = true;\n    } else if (force !== true) {\n      const cell = $(document.getElementById(\"a59a83b0-243d-4a51-a742-836e6a62f137\")).parents('.cell').data().cell;\n      cell.output_area.append_execute_result(NB_LOAD_WARNING)\n    }\n  }\n\n  if (root._bokeh_is_loading === 0) {\n    console.debug(\"Bokeh: BokehJS loaded, going straight to plotting\");\n    run_inline_js();\n  } else {\n    load_libs(css_urls, js_urls, function() {\n      console.debug(\"Bokeh: BokehJS plotting callback run at\", now());\n      run_inline_js();\n    });\n  }\n}(window));",
      "application/vnd.bokehjs_load.v0+json": ""
     },
     "metadata": {},
     "output_type": "display_data"
    },
    {
     "data": {
      "text/html": [
       "\n",
       "  <div id=\"f8b4ab40-2ff6-4b23-a4a7-855c8b9a2d01\" data-root-id=\"p1054\" style=\"display: contents;\"></div>\n"
      ]
     },
     "metadata": {},
     "output_type": "display_data"
    },
    {
     "data": {
      "application/javascript": "(function(root) {\n  function embed_document(root) {\n  const docs_json = {\"955ed4b6-beac-410d-ae68-f791ce5ec25d\":{\"version\":\"3.8.0\",\"title\":\"Bokeh Application\",\"config\":{\"type\":\"object\",\"name\":\"DocumentConfig\",\"id\":\"p1096\",\"attributes\":{\"notifications\":{\"type\":\"object\",\"name\":\"Notifications\",\"id\":\"p1097\"}}},\"roots\":[{\"type\":\"object\",\"name\":\"Figure\",\"id\":\"p1054\",\"attributes\":{\"x_range\":{\"type\":\"object\",\"name\":\"DataRange1d\",\"id\":\"p1055\"},\"y_range\":{\"type\":\"object\",\"name\":\"DataRange1d\",\"id\":\"p1056\"},\"x_scale\":{\"type\":\"object\",\"name\":\"LinearScale\",\"id\":\"p1064\"},\"y_scale\":{\"type\":\"object\",\"name\":\"LinearScale\",\"id\":\"p1065\"},\"title\":{\"type\":\"object\",\"name\":\"Title\",\"id\":\"p1057\",\"attributes\":{\"text\":\"word2vec T-SNE (eng model, top1000 words, +SVD)\"}},\"renderers\":[{\"type\":\"object\",\"name\":\"GlyphRenderer\",\"id\":\"p1089\",\"attributes\":{\"data_source\":{\"type\":\"object\",\"name\":\"ColumnDataSource\",\"id\":\"p1080\",\"attributes\":{\"selected\":{\"type\":\"object\",\"name\":\"Selection\",\"id\":\"p1081\",\"attributes\":{\"indices\":[],\"line_indices\":[]}},\"selection_policy\":{\"type\":\"object\",\"name\":\"UnionRenderers\",\"id\":\"p1082\"},\"data\":{\"type\":\"map\",\"entries\":[[\"x1\",{\"type\":\"ndarray\",\"array\":{\"type\":\"bytes\",\"data\":\"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\"},\"shape\":[1000],\"dtype\":\"float32\",\"order\":\"little\"}],[\"x2\",{\"type\":\"ndarray\",\"array\":{\"type\":\"bytes\",\"data\":\"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\"},\"shape\":[1000],\"dtype\":\"float32\",\"order\":\"little\"}],[\"names\",[\"the\",\"and\",\"a\",\"of\",\"to\",\"is\",\"it\",\"in\",\"i\",\"this\",\"that\",\"s\",\"was\",\"as\",\"with\",\"for\",\"movie\",\"but\",\"film\",\"you\",\"t\",\"on\",\"not\",\"he\",\"are\",\"his\",\"have\",\"be\",\"one\",\"all\",\"they\",\"at\",\"by\",\"who\",\"an\",\"from\",\"so\",\"like\",\"there\",\"or\",\"her\",\"just\",\"about\",\"out\",\"has\",\"if\",\"what\",\"some\",\"good\",\"can\",\"when\",\"more\",\"very\",\"she\",\"up\",\"no\",\"time\",\"even\",\"would\",\"their\",\"my\",\"which\",\"story\",\"only\",\"really\",\"see\",\"had\",\"were\",\"well\",\"me\",\"we\",\"than\",\"much\",\"bad\",\"been\",\"get\",\"people\",\"great\",\"into\",\"also\",\"do\",\"other\",\"first\",\"will\",\"him\",\"because\",\"most\",\"how\",\"don\",\"them\",\"make\",\"its\",\"made\",\"way\",\"could\",\"then\",\"too\",\"movies\",\"after\",\"any\",\"characters\",\"character\",\"films\",\"two\",\"think\",\"watch\",\"being\",\"plot\",\"many\",\"where\",\"never\",\"love\",\"seen\",\"little\",\"life\",\"acting\",\"best\",\"did\",\"off\",\"know\",\"over\",\"ever\",\"does\",\"show\",\"better\",\"man\",\"your\",\"end\",\"here\",\"scene\",\"while\",\"these\",\"why\",\"still\",\"scenes\",\"something\",\"say\",\"go\",\"m\",\"ve\",\"should\",\"back\",\"such\",\"real\",\"through\",\"those\",\"now\",\"re\",\"doesn\",\"watching\",\"thing\",\"director\",\"funny\",\"though\",\"years\",\"didn\",\"another\",\"actors\",\"new\",\"going\",\"old\",\"makes\",\"nothing\",\"actually\",\"before\",\"work\",\"look\",\"same\",\"find\",\"lot\",\"part\",\"few\",\"every\",\"again\",\"world\",\"action\",\"cast\",\"horror\",\"things\",\"us\",\"quite\",\"want\",\"down\",\"pretty\",\"young\",\"fact\",\"around\",\"seems\",\"enough\",\"both\",\"take\",\"long\",\"however\",\"thought\",\"got\",\"own\",\"give\",\"comedy\",\"between\",\"big\",\"d\",\"must\",\"series\",\"right\",\"may\",\"without\",\"role\",\"guy\",\"original\",\"interesting\",\"whole\",\"come\",\"isn\",\"times\",\"always\",\"saw\",\"least\",\"bit\",\"gets\",\"almost\",\"script\",\"point\",\"last\",\"music\",\"done\",\"minutes\",\"feel\",\"far\",\"since\",\"girl\",\"ll\",\"yet\",\"might\",\"making\",\"performance\",\"away\",\"family\",\"anything\",\"am\",\"probably\",\"hard\",\"woman\",\"tv\",\"kind\",\"fun\",\"rather\",\"day\",\"played\",\"worst\",\"each\",\"found\",\"sure\",\"anyone\",\"especially\",\"trying\",\"having\",\"our\",\"screen\",\"looking\",\"different\",\"believe\",\"sense\",\"place\",\"american\",\"although\",\"ending\",\"goes\",\"worth\",\"course\",\"set\",\"shows\",\"maybe\",\"three\",\"comes\",\"dvd\",\"money\",\"once\",\"everything\",\"plays\",\"effects\",\"put\",\"john\",\"looks\",\"actor\",\"main\",\"together\",\"during\",\"someone\",\"let\",\"wasn\",\"instead\",\"everyone\",\"war\",\"year\",\"reason\",\"takes\",\"special\",\"said\",\"true\",\"high\",\"night\",\"book\",\"seem\",\"job\",\"play\",\"watched\",\"audience\",\"later\",\"wife\",\"black\",\"death\",\"himself\",\"star\",\"half\",\"seeing\",\"used\",\"idea\",\"dead\",\"second\",\"men\",\"left\",\"excellent\",\"simply\",\"shot\",\"else\",\"beautiful\",\"sex\",\"completely\",\"budget\",\"father\",\"women\",\"mind\",\"house\",\"hollywood\",\"poor\",\"less\",\"fan\",\"along\",\"boring\",\"performances\",\"home\",\"line\",\"help\",\"nice\",\"try\",\"couple\",\"top\",\"version\",\"until\",\"either\",\"low\",\"next\",\"camera\",\"use\",\"friends\",\"short\",\"wrong\",\"start\",\"kids\",\"given\",\"mother\",\"read\",\"need\",\"full\",\"enjoy\",\"production\",\"classic\",\"perhaps\",\"school\",\"moments\",\"truly\",\"stupid\",\"keep\",\"awful\",\"getting\",\"rest\",\"video\",\"face\",\"tell\",\"mean\",\"others\",\"itself\",\"understand\",\"boy\",\"terrible\",\"small\",\"name\",\"style\",\"came\",\"won\",\"playing\",\"recommend\",\"doing\",\"lost\",\"person\",\"definitely\",\"gives\",\"dialogue\",\"entertaining\",\"wonderful\",\"often\",\"live\",\"lines\",\"hope\",\"went\",\"stars\",\"case\",\"remember\",\"written\",\"couldn\",\"head\",\"early\",\"title\",\"yes\",\"human\",\"perfect\",\"become\",\"based\",\"friend\",\"children\",\"certainly\",\"liked\",\"problem\",\"drama\",\"son\",\"picture\",\"several\",\"fans\",\"under\",\"lead\",\"laugh\",\"oh\",\"guys\",\"humor\",\"supposed\",\"direction\",\"against\",\"absolutely\",\"overall\",\"sort\",\"piece\",\"episode\",\"finally\",\"game\",\"lives\",\"called\",\"entire\",\"evil\",\"cinema\",\"worse\",\"care\",\"waste\",\"killer\",\"dark\",\"felt\",\"beginning\",\"despite\",\"seemed\",\"genre\",\"final\",\"b\",\"totally\",\"history\",\"wanted\",\"unfortunately\",\"town\",\"throughout\",\"white\",\"city\",\"becomes\",\"able\",\"days\",\"already\",\"turn\",\"guess\",\"run\",\"fine\",\"loved\",\"act\",\"mr\",\"flick\",\"today\",\"horrible\",\"heart\",\"side\",\"hand\",\"kill\",\"tries\",\"wants\",\"starts\",\"quality\",\"killed\",\"past\",\"themselves\",\"child\",\"close\",\"matter\",\"group\",\"sound\",\"turns\",\"daughter\",\"parts\",\"viewer\",\"etc\",\"expect\",\"fight\",\"car\",\"enjoyed\",\"directed\",\"writing\",\"decent\",\"type\",\"violence\",\"stop\",\"example\",\"stuff\",\"self\",\"kid\",\"amazing\",\"behind\",\"soon\",\"blood\",\"favorite\",\"works\",\"known\",\"thinking\",\"gave\",\"obviously\",\"sometimes\",\"hero\",\"eyes\",\"actress\",\"girls\",\"michael\",\"happened\",\"brilliant\",\"stories\",\"except\",\"myself\",\"hour\",\"coming\",\"says\",\"writer\",\"late\",\"husband\",\"extremely\",\"experience\",\"hell\",\"happens\",\"art\",\"heard\",\"police\",\"took\",\"feeling\",\"roles\",\"leave\",\"highly\",\"attempt\",\"taken\",\"interest\",\"wouldn\",\"murder\",\"moment\",\"slow\",\"score\",\"god\",\"including\",\"looked\",\"obvious\",\"involved\",\"living\",\"anyway\",\"robert\",\"david\",\"cool\",\"hours\",\"save\",\"ok\",\"age\",\"voice\",\"o\",\"career\",\"told\",\"across\",\"wonder\",\"none\",\"strong\",\"cut\",\"happen\",\"please\",\"gore\",\"simple\",\"hilarious\",\"brother\",\"important\",\"exactly\",\"power\",\"chance\",\"ago\",\"james\",\"particularly\",\"relationship\",\"documentary\",\"level\",\"complete\",\"light\",\"female\",\"annoying\",\"possible\",\"serious\",\"cannot\",\"hit\",\"crap\",\"sad\",\"running\",\"lack\",\"sequel\",\"talent\",\"usually\",\"whose\",\"basically\",\"reality\",\"ends\",\"seriously\",\"strange\",\"order\",\"finds\",\"call\",\"taking\",\"somewhat\",\"room\",\"happy\",\"silly\",\"scary\",\"middle\",\"turned\",\"alone\",\"apparently\",\"ridiculous\",\"change\",\"clich\",\"country\",\"mostly\",\"attention\",\"miss\",\"four\",\"usual\",\"shown\",\"body\",\"song\",\"wish\",\"jokes\",\"number\",\"opening\",\"released\",\"disappointed\",\"word\",\"jack\",\"thriller\",\"single\",\"opinion\",\"straight\",\"future\",\"english\",\"words\",\"parents\",\"novel\",\"saying\",\"cinematography\",\"yourself\",\"view\",\"cheap\",\"started\",\"french\",\"beyond\",\"huge\",\"talking\",\"non\",\"clearly\",\"sets\",\"talk\",\"major\",\"die\",\"shots\",\"rating\",\"problems\",\"knew\",\"knows\",\"gay\",\"modern\",\"fast\",\"british\",\"due\",\"events\",\"tells\",\"add\",\"bring\",\"comic\",\"clear\",\"ones\",\"above\",\"hate\",\"storyline\",\"york\",\"easy\",\"typical\",\"entertainment\",\"aren\",\"easily\",\"haven\",\"within\",\"local\",\"upon\",\"general\",\"dialog\",\"crime\",\"ten\",\"giving\",\"george\",\"lots\",\"sequence\",\"america\",\"ways\",\"falls\",\"similar\",\"begins\",\"appears\",\"class\",\"near\",\"mystery\",\"named\",\"bunch\",\"filmed\",\"king\",\"elements\",\"romantic\",\"team\",\"certain\",\"review\",\"predictable\",\"working\",\"avoid\",\"stand\",\"de\",\"earth\",\"sorry\",\"th\",\"e\",\"television\",\"mention\",\"enjoyable\",\"supporting\",\"tale\",\"theme\",\"message\",\"points\",\"cop\",\"gone\",\"among\",\"fall\",\"space\",\"tom\",\"viewers\",\"eye\",\"red\",\"truth\",\"leads\",\"surprised\",\"stay\",\"release\",\"kept\",\"minute\",\"richard\",\"five\",\"dull\",\"killing\",\"using\",\"effort\",\"monster\",\"third\",\"brought\",\"musical\",\"feels\",\"suspense\",\"tried\",\"means\",\"whether\",\"comments\",\"sequences\",\"dog\",\"moving\",\"period\",\"peter\",\"lee\",\"needs\",\"doubt\",\"fi\",\"showing\",\"buy\",\"okay\",\"sci\",\"somehow\",\"soundtrack\",\"viewing\",\"rent\",\"herself\",\"nearly\",\"average\",\"songs\",\"theater\",\"episodes\",\"reviews\",\"whatever\",\"follow\",\"surprise\",\"feature\",\"form\",\"move\",\"forget\",\"realistic\",\"believable\",\"free\",\"material\",\"premise\",\"editing\",\"sister\",\"brothers\",\"deep\",\"imagine\",\"gun\",\"forced\",\"famous\",\"poorly\",\"deal\",\"crew\",\"western\",\"indeed\",\"expected\",\"check\",\"possibly\",\"fantastic\",\"lame\",\"society\",\"figure\",\"otherwise\",\"dr\",\"learn\",\"open\",\"paul\",\"eventually\",\"plus\",\"lady\",\"weak\",\"hear\",\"stage\",\"sexual\",\"leaves\",\"question\",\"note\",\"difficult\",\"sit\",\"towards\",\"romance\",\"box\",\"situation\",\"begin\",\"earlier\",\"personal\",\"atmosphere\",\"reading\",\"male\",\"screenplay\",\"wait\",\"decided\",\"joe\",\"battle\",\"interested\",\"powerful\",\"previous\",\"business\",\"greatest\",\"nor\",\"hot\",\"actual\",\"cheesy\",\"became\",\"acted\",\"worked\",\"animation\",\"subject\",\"island\",\"effect\",\"footage\",\"mess\",\"era\",\"oscar\",\"result\",\"meet\",\"rock\",\"credits\",\"features\",\"particular\",\"memorable\",\"whom\",\"boys\",\"air\",\"setting\",\"perfectly\",\"writers\",\"laughs\",\"street\",\"shame\",\"quickly\",\"rich\",\"older\",\"hands\",\"background\",\"keeps\",\"twist\",\"dramatic\",\"total\",\"present\",\"bill\",\"various\",\"appear\",\"pay\",\"telling\",\"directing\",\"william\",\"party\",\"alien\",\"unless\",\"crazy\",\"harry\",\"mark\",\"badly\",\"realize\",\"girlfriend\",\"forward\",\"front\",\"needed\",\"comment\",\"emotional\",\"imdb\",\"development\",\"fighting\",\"secret\",\"break\",\"fairly\",\"unique\",\"c\",\"baby\",\"outside\",\"married\",\"manages\",\"plenty\",\"villain\",\"apart\",\"missing\",\"masterpiece\",\"nature\",\"brings\",\"remake\",\"write\",\"former\",\"superb\",\"weird\",\"doctor\",\"clever\",\"escape\",\"list\",\"incredibly\",\"meets\",\"reasons\",\"hold\",\"created\",\"sounds\",\"sam\",\"inside\",\"unlike\",\"leading\",\"laughing\",\"ideas\",\"japanese\",\"season\",\"prison\",\"directors\",\"copy\",\"cute\",\"public\",\"return\",\"political\",\"violent\",\"success\",\"force\",\"create\",\"caught\",\"admit\",\"meant\",\"water\"]]]}}},\"view\":{\"type\":\"object\",\"name\":\"CDSView\",\"id\":\"p1090\",\"attributes\":{\"filter\":{\"type\":\"object\",\"name\":\"AllIndices\",\"id\":\"p1091\"}}},\"glyph\":{\"type\":\"object\",\"name\":\"Scatter\",\"id\":\"p1086\",\"attributes\":{\"x\":{\"type\":\"field\",\"field\":\"x1\"},\"y\":{\"type\":\"field\",\"field\":\"x2\"},\"size\":{\"type\":\"value\",\"value\":8},\"line_color\":{\"type\":\"value\",\"value\":\"#1f77b4\"},\"fill_color\":{\"type\":\"value\",\"value\":\"#1f77b4\"}}},\"nonselection_glyph\":{\"type\":\"object\",\"name\":\"Scatter\",\"id\":\"p1087\",\"attributes\":{\"x\":{\"type\":\"field\",\"field\":\"x1\"},\"y\":{\"type\":\"field\",\"field\":\"x2\"},\"size\":{\"type\":\"value\",\"value\":8},\"line_color\":{\"type\":\"value\",\"value\":\"#1f77b4\"},\"line_alpha\":{\"type\":\"value\",\"value\":0.1},\"fill_color\":{\"type\":\"value\",\"value\":\"#1f77b4\"},\"fill_alpha\":{\"type\":\"value\",\"value\":0.1},\"hatch_alpha\":{\"type\":\"value\",\"value\":0.1}}},\"muted_glyph\":{\"type\":\"object\",\"name\":\"Scatter\",\"id\":\"p1088\",\"attributes\":{\"x\":{\"type\":\"field\",\"field\":\"x1\"},\"y\":{\"type\":\"field\",\"field\":\"x2\"},\"size\":{\"type\":\"value\",\"value\":8},\"line_color\":{\"type\":\"value\",\"value\":\"#1f77b4\"},\"line_alpha\":{\"type\":\"value\",\"value\":0.2},\"fill_color\":{\"type\":\"value\",\"value\":\"#1f77b4\"},\"fill_alpha\":{\"type\":\"value\",\"value\":0.2},\"hatch_alpha\":{\"type\":\"value\",\"value\":0.2}}}}}],\"toolbar\":{\"type\":\"object\",\"name\":\"Toolbar\",\"id\":\"p1063\",\"attributes\":{\"tools\":[{\"type\":\"object\",\"name\":\"PanTool\",\"id\":\"p1076\"},{\"type\":\"object\",\"name\":\"WheelZoomTool\",\"id\":\"p1077\",\"attributes\":{\"renderers\":\"auto\"}},{\"type\":\"object\",\"name\":\"ResetTool\",\"id\":\"p1078\"},{\"type\":\"object\",\"name\":\"SaveTool\",\"id\":\"p1079\"}]}},\"toolbar_location\":\"above\",\"left\":[{\"type\":\"object\",\"name\":\"LinearAxis\",\"id\":\"p1071\",\"attributes\":{\"ticker\":{\"type\":\"object\",\"name\":\"BasicTicker\",\"id\":\"p1072\",\"attributes\":{\"mantissas\":[1,2,5]}},\"formatter\":{\"type\":\"object\",\"name\":\"BasicTickFormatter\",\"id\":\"p1073\"},\"major_label_policy\":{\"type\":\"object\",\"name\":\"AllLabels\",\"id\":\"p1074\"}}}],\"below\":[{\"type\":\"object\",\"name\":\"LinearAxis\",\"id\":\"p1066\",\"attributes\":{\"ticker\":{\"type\":\"object\",\"name\":\"BasicTicker\",\"id\":\"p1067\",\"attributes\":{\"mantissas\":[1,2,5]}},\"formatter\":{\"type\":\"object\",\"name\":\"BasicTickFormatter\",\"id\":\"p1068\"},\"major_label_policy\":{\"type\":\"object\",\"name\":\"AllLabels\",\"id\":\"p1069\"}}}],\"center\":[{\"type\":\"object\",\"name\":\"Grid\",\"id\":\"p1070\",\"attributes\":{\"axis\":{\"id\":\"p1066\"}}},{\"type\":\"object\",\"name\":\"Grid\",\"id\":\"p1075\",\"attributes\":{\"dimension\":1,\"axis\":{\"id\":\"p1071\"}}},{\"type\":\"object\",\"name\":\"LabelSet\",\"id\":\"p1092\",\"attributes\":{\"source\":{\"id\":\"p1080\"},\"x\":{\"type\":\"field\",\"field\":\"x1\"},\"y\":{\"type\":\"field\",\"field\":\"x2\"},\"text\":{\"type\":\"field\",\"field\":\"names\"},\"y_offset\":{\"type\":\"value\",\"value\":6},\"text_color\":{\"type\":\"value\",\"value\":\"#555555\"},\"text_font_size\":{\"type\":\"value\",\"value\":\"8pt\"},\"text_align\":{\"type\":\"value\",\"value\":\"center\"}}}]}}]}};\n  const render_items = [{\"docid\":\"955ed4b6-beac-410d-ae68-f791ce5ec25d\",\"roots\":{\"p1054\":\"f8b4ab40-2ff6-4b23-a4a7-855c8b9a2d01\"},\"root_ids\":[\"p1054\"]}];\n  void root.Bokeh.embed.embed_items_notebook(docs_json, render_items);\n  }\n  if (root.Bokeh !== undefined) {\n    embed_document(root);\n  } else {\n    let attempts = 0;\n    const timer = setInterval(function(root) {\n      if (root.Bokeh !== undefined) {\n        clearInterval(timer);\n        embed_document(root);\n      } else {\n        attempts++;\n        if (attempts > 100) {\n          clearInterval(timer);\n          console.log(\"Bokeh: ERROR: Unable to run BokehJS code because BokehJS library is missing\");\n        }\n      }\n    }, 10, root)\n  }\n})(window);",
      "application/vnd.bokehjs_exec.v0+json": ""
     },
     "metadata": {
      "application/vnd.bokehjs_exec.v0+json": {
       "id": "p1054"
      }
     },
     "output_type": "display_data"
    }
   ],
   "source": [
    "output_notebook()\n",
    "\n",
    "p = figure(tools=\"pan,wheel_zoom,reset,save\",\n",
    "           toolbar_location=\"above\",\n",
    "           title=\"word2vec T-SNE (eng model, top1000 words, +SVD)\")\n",
    "\n",
    "source = ColumnDataSource(data=dict(x1=top_words_tsne2[:,0],\n",
    "                                    x2=top_words_tsne2[:,1],\n",
    "                                    names=top_words))\n",
    "\n",
    "p.scatter(x=\"x1\", y=\"x2\", size=8, source=source)\n",
    "\n",
    "labels = LabelSet(x=\"x1\", y=\"x2\", text=\"names\", y_offset=6,\n",
    "                  text_font_size=\"8pt\", text_color=\"#555555\",\n",
    "                  source=source, text_align='center')\n",
    "p.add_layout(labels)\n",
    "\n",
    "show(p)"
   ]
  },
  {
   "cell_type": "markdown",
   "metadata": {
    "id": "9qZcF3nGX-sp"
   },
   "source": [
    "## fastxt\n",
    "\n",
    "FastText uses not only words embeldings, but also n-grams. In the case, each word is automatically represented in the form of a set of symbolic N-grams. Say, if we set n = 3, then the vector for the word \"What\" will be represented by the sum of the vectors of the following trigrams: \"<when\", \"whe\", \"her\", \"er\", \"re>\" (where \"<\" and \">\" symbols indicating the beginning of the word). Thanks to this, we can also receive vectors for words that are absent in the dictionary, as well as work effectively with texts containing errors and typos.\n",
    "\n",
    "* [Статья](https://aclweb.org/anthology/Q17-1010)\n",
    "* [Сайт](https://fasttext.cc/)\n",
    "* [Тьюториал](https://fasttext.cc/docs/en/support.html)\n",
    "* [Вектора для 157 языков](https://fasttext.cc/docs/en/crawl-vectors.html)\n",
    "* [Вектора, обученные на википедии](https://fasttext.cc/docs/en/pretrained-vectors.html) (separately for 294 different languages)\n",
    "* [Репозиторий](https://github.com/facebookresearch/fasttext)\n",
    "\n",
    "There is a library `FastText` for python (with ready -made models you can work through` Gensim`)."
   ]
  },
  {
   "cell_type": "code",
   "execution_count": 99,
   "metadata": {
    "executionInfo": {
     "elapsed": 23390,
     "status": "ok",
     "timestamp": 1719046918797,
     "user": {
      "displayName": "Ильсеяр Алимова",
      "userId": "18086433180291504366"
     },
     "user_tz": -180
    },
    "id": "s-IW_cBDX-sp"
   },
   "outputs": [
    {
     "name": "stderr",
     "output_type": "stream",
     "text": [
      "Read 0M words\n",
      "Number of words:  2436\n",
      "Number of labels: 0\n",
      "Progress: 100.0% words/sec/thread:   48738 lr:  0.000000 avg.loss:  2.702310 ETA:   0h 0m 0s\n"
     ]
    }
   ],
   "source": [
    "# так можно обучить свою модель\n",
    "ft_model = fasttext.train_unsupervised('clean_text.txt', minn=3, maxn=4, dim=300)"
   ]
  },
  {
   "cell_type": "code",
   "execution_count": 100,
   "metadata": {
    "colab": {
     "base_uri": "https://localhost:8080/"
    },
    "executionInfo": {
     "elapsed": 341,
     "status": "ok",
     "timestamp": 1719046943087,
     "user": {
      "displayName": "Ильсеяр Алимова",
      "userId": "18086433180291504366"
     },
     "user_tz": -180
    },
    "id": "NNiuzf4DX-sr",
    "outputId": "cc08981b-59fd-4cce-c1d3-a74ed274f1fb"
   },
   "outputs": [
    {
     "data": {
      "text/plain": [
       "array([-0.06129762,  0.07105966, -0.08769992, -0.11613225,  0.11498351,\n",
       "        0.05229541, -0.16528198,  0.08537779, -0.05029362,  0.06638291,\n",
       "       -0.02697936, -0.01613318, -0.06694578,  0.09897262,  0.03050446,\n",
       "        0.20427671, -0.17041634, -0.12419043,  0.05601415,  0.055425  ],\n",
       "      dtype=float32)"
      ]
     },
     "execution_count": 100,
     "metadata": {},
     "output_type": "execute_result"
    }
   ],
   "source": [
    "ft_model.get_word_vector(\"movie\")[:20]"
   ]
  },
  {
   "cell_type": "code",
   "execution_count": 101,
   "metadata": {
    "colab": {
     "base_uri": "https://localhost:8080/"
    },
    "executionInfo": {
     "elapsed": 329,
     "status": "ok",
     "timestamp": 1719046954228,
     "user": {
      "displayName": "Ильсеяр Алимова",
      "userId": "18086433180291504366"
     },
     "user_tz": -180
    },
    "id": "TsZnXqH8X-st",
    "outputId": "8044142d-562c-4f80-9ec1-c032840125bf"
   },
   "outputs": [
    {
     "data": {
      "text/plain": [
       "[(0.9998683333396912, 'green'),\n",
       " (0.9998475909233093, 'halloween'),\n",
       " (0.9998449087142944, 'teen'),\n",
       " (0.9998430609703064, 'between'),\n",
       " (0.9997223019599915, 'ten'),\n",
       " (0.9997220635414124, 'hayden'),\n",
       " (0.9996963143348694, 'open'),\n",
       " (0.9996899962425232, 'screen'),\n",
       " (0.9996839761734009, 'spoken'),\n",
       " (0.9996695518493652, 'given')]"
      ]
     },
     "execution_count": 101,
     "metadata": {},
     "output_type": "execute_result"
    }
   ],
   "source": [
    "ft_model.get_nearest_neighbors('queen')"
   ]
  },
  {
   "cell_type": "code",
   "execution_count": 102,
   "metadata": {
    "colab": {
     "base_uri": "https://localhost:8080/"
    },
    "executionInfo": {
     "elapsed": 309,
     "status": "ok",
     "timestamp": 1719046957887,
     "user": {
      "displayName": "Ильсеяр Алимова",
      "userId": "18086433180291504366"
     },
     "user_tz": -180
    },
    "id": "iKR3FzCFX-sv",
    "outputId": "f7871e19-1960-4c68-f8a1-4806757c22a5"
   },
   "outputs": [
    {
     "data": {
      "text/plain": [
       "[(0.9997060894966125, 'actors'),\n",
       " (0.9996045231819153, 'actress'),\n",
       " (0.9996028542518616, 'accept'),\n",
       " (0.9995886087417603, 'impact'),\n",
       " (0.9995776414871216, 'kapoor'),\n",
       " (0.9995758533477783, 'act'),\n",
       " (0.9995685815811157, 'attractive'),\n",
       " (0.999565839767456, 'script'),\n",
       " (0.9995587468147278, 'british'),\n",
       " (0.9995569586753845, 'exact')]"
      ]
     },
     "execution_count": 102,
     "metadata": {},
     "output_type": "execute_result"
    }
   ],
   "source": [
    "ft_model.get_analogies(\"woman\", \"man\", \"actor\")"
   ]
  },
  {
   "cell_type": "code",
   "execution_count": 103,
   "metadata": {
    "colab": {
     "base_uri": "https://localhost:8080/"
    },
    "executionInfo": {
     "elapsed": 337,
     "status": "ok",
     "timestamp": 1719046969277,
     "user": {
      "displayName": "Ильсеяр Алимова",
      "userId": "18086433180291504366"
     },
     "user_tz": -180
    },
    "id": "ttAgMPC_X-sx",
    "outputId": "ecc70a43-a3d8-4ce4-d120-79d800a8c7cb"
   },
   "outputs": [
    {
     "data": {
      "text/plain": [
       "[(0.9997826218605042, 'act'),\n",
       " (0.9995402693748474, 'actors'),\n",
       " (0.9995341897010803, 'actor'),\n",
       " (0.9994604587554932, 'actress'),\n",
       " (0.9993525147438049, 'actual'),\n",
       " (0.9992297887802124, 'actions'),\n",
       " (0.9992272257804871, 'attractive'),\n",
       " (0.999220609664917, 'acts'),\n",
       " (0.9992094039916992, 'fact'),\n",
       " (0.9991809725761414, 'perspective')]"
      ]
     },
     "execution_count": 103,
     "metadata": {},
     "output_type": "execute_result"
    }
   ],
   "source": [
    "# проблема с опечатками решена\n",
    "\n",
    "ft_model.get_nearest_neighbors('actr')"
   ]
  },
  {
   "cell_type": "code",
   "execution_count": 104,
   "metadata": {
    "colab": {
     "base_uri": "https://localhost:8080/"
    },
    "executionInfo": {
     "elapsed": 336,
     "status": "ok",
     "timestamp": 1719046995052,
     "user": {
      "displayName": "Ильсеяр Алимова",
      "userId": "18086433180291504366"
     },
     "user_tz": -180
    },
    "id": "V9alEdz0X-s0",
    "outputId": "d9b1cea0-4fb3-4c25-b940-a3619065f112"
   },
   "outputs": [
    {
     "data": {
      "text/plain": [
       "[(0.9997658729553223, 'movie'),\n",
       " (0.9997376799583435, 'move'),\n",
       " (0.9997040033340454, 'reviews'),\n",
       " (0.9996653199195862, 'remake'),\n",
       " (0.9996535181999207, 'view'),\n",
       " (0.9996359944343567, 'just'),\n",
       " (0.9996111989021301, 'wait'),\n",
       " (0.9996045231819153, 'review'),\n",
       " (0.9995920062065125, 'views'),\n",
       " (0.9995611310005188, 'watchable')]"
      ]
     },
     "execution_count": 104,
     "metadata": {},
     "output_type": "execute_result"
    }
   ],
   "source": [
    "# проблема с out of vocabulary словами - тоже\n",
    "\n",
    "ft_model.get_nearest_neighbors('moviegeek')"
   ]
  },
  {
   "cell_type": "code",
   "execution_count": 105,
   "metadata": {
    "jupyter": {
     "source_hidden": true
    }
   },
   "outputs": [
    {
     "name": "stdout",
     "output_type": "stream",
     "text": [
      "zsh:1: no matches found: https://www.dropbox.com/s/fnpq3z4bcnoktiv/positive.csv?dl=0\n",
      "zsh:1: no matches found: https://www.dropbox.com/s/r6u59ljhhjdg6j0/negative.csv?dl=0\n"
     ]
    }
   ],
   "source": [
    "! wget -O positive.csv https://www.dropbox.com/s/fnpq3z4bcnoktiv/positive.csv?dl=0\n",
    "! wget -O negative.csv https://www.dropbox.com/s/r6u59ljhhjdg6j0/negative.csv?dl=0"
   ]
  },
  {
   "cell_type": "code",
   "execution_count": 109,
   "metadata": {
    "colab": {
     "base_uri": "https://localhost:8080/",
     "height": 206
    },
    "executionInfo": {
     "elapsed": 1450,
     "status": "ok",
     "timestamp": 1719047014326,
     "user": {
      "displayName": "Ильсеяр Алимова",
      "userId": "18086433180291504366"
     },
     "user_tz": -180
    },
    "id": "HLidtYsuX-s8",
    "outputId": "8bf254e5-6f25-4b98-f9bf-086345919a13"
   },
   "outputs": [
    {
     "data": {
      "text/html": [
       "<div>\n",
       "<style scoped>\n",
       "    .dataframe tbody tr th:only-of-type {\n",
       "        vertical-align: middle;\n",
       "    }\n",
       "\n",
       "    .dataframe tbody tr th {\n",
       "        vertical-align: top;\n",
       "    }\n",
       "\n",
       "    .dataframe thead th {\n",
       "        text-align: right;\n",
       "    }\n",
       "</style>\n",
       "<table border=\"1\" class=\"dataframe\">\n",
       "  <thead>\n",
       "    <tr style=\"text-align: right;\">\n",
       "      <th></th>\n",
       "      <th>text</th>\n",
       "      <th>label</th>\n",
       "    </tr>\n",
       "  </thead>\n",
       "  <tbody>\n",
       "    <tr>\n",
       "      <th>0</th>\n",
       "      <td>@first_timee хоть я и школота, но поверь, у на...</td>\n",
       "      <td>positive</td>\n",
       "    </tr>\n",
       "    <tr>\n",
       "      <th>1</th>\n",
       "      <td>Да, все-таки он немного похож на него. Но мой ...</td>\n",
       "      <td>positive</td>\n",
       "    </tr>\n",
       "    <tr>\n",
       "      <th>2</th>\n",
       "      <td>RT @KatiaCheh: Ну ты идиотка) я испугалась за ...</td>\n",
       "      <td>positive</td>\n",
       "    </tr>\n",
       "    <tr>\n",
       "      <th>3</th>\n",
       "      <td>RT @digger2912: \"Кто то в углу сидит и погибае...</td>\n",
       "      <td>positive</td>\n",
       "    </tr>\n",
       "    <tr>\n",
       "      <th>4</th>\n",
       "      <td>@irina_dyshkant Вот что значит страшилка :D\\nН...</td>\n",
       "      <td>positive</td>\n",
       "    </tr>\n",
       "  </tbody>\n",
       "</table>\n",
       "</div>"
      ],
      "text/plain": [
       "                                                text     label\n",
       "0  @first_timee хоть я и школота, но поверь, у на...  positive\n",
       "1  Да, все-таки он немного похож на него. Но мой ...  positive\n",
       "2  RT @KatiaCheh: Ну ты идиотка) я испугалась за ...  positive\n",
       "3  RT @digger2912: \"Кто то в углу сидит и погибае...  positive\n",
       "4  @irina_dyshkant Вот что значит страшилка :D\\nН...  positive"
      ]
     },
     "execution_count": 109,
     "metadata": {},
     "output_type": "execute_result"
    }
   ],
   "source": [
    "positive = pd.read_csv('positive.csv', sep=';', usecols=[3], names=['text'])\n",
    "positive['label'] = ['positive'] * len(positive)\n",
    "negative = pd.read_csv('negative.csv', sep=';', usecols=[3], names=['text'])\n",
    "negative['label'] = ['negative'] * len(negative)\n",
    "df = pd.concat((positive, negative))\n",
    "df.head()"
   ]
  },
  {
   "cell_type": "code",
   "execution_count": 110,
   "metadata": {
    "colab": {
     "base_uri": "https://localhost:8080/"
    },
    "executionInfo": {
     "elapsed": 11,
     "status": "ok",
     "timestamp": 1719031267048,
     "user": {
      "displayName": "Ильсеяр Алимова",
      "userId": "18086433180291504366"
     },
     "user_tz": -180
    },
    "id": "-YB6B4CvmNJ8",
    "outputId": "94135376-8632-41d4-a0bb-52a97e2a08f5"
   },
   "outputs": [
    {
     "data": {
      "text/plain": [
       "226834"
      ]
     },
     "execution_count": 110,
     "metadata": {},
     "output_type": "execute_result"
    }
   ],
   "source": [
    "len(df)"
   ]
  },
  {
   "cell_type": "markdown",
   "metadata": {
    "id": "5jtZR-uYX-tA"
   },
   "source": [
    "We will conduct standard pre -processing:"
   ]
  },
  {
   "cell_type": "code",
   "execution_count": 111,
   "metadata": {
    "executionInfo": {
     "elapsed": 8,
     "status": "ok",
     "timestamp": 1719031267049,
     "user": {
      "displayName": "Ильсеяр Алимова",
      "userId": "18086433180291504366"
     },
     "user_tz": -180
    },
    "id": "3qAiiLvsX-tB"
   },
   "outputs": [],
   "source": [
    "m = MorphAnalyzer()\n",
    "\n",
    "regex = re.compile(\"[А-Яа-я:=!\\)\\()A-z\\_\\%/|]+\")\n",
    "\n",
    "def words_only(text, regex=regex):\n",
    "    try:\n",
    "        return regex.findall(text)\n",
    "    except:\n",
    "        return []"
   ]
  },
  {
   "cell_type": "code",
   "execution_count": 112,
   "metadata": {
    "executionInfo": {
     "elapsed": 7,
     "status": "ok",
     "timestamp": 1719031267049,
     "user": {
      "displayName": "Ильсеяр Алимова",
      "userId": "18086433180291504366"
     },
     "user_tz": -180
    },
    "id": "9zakhvVrX-tC"
   },
   "outputs": [],
   "source": [
    "#@lru_cache(maxsize=128)\n",
    "# если вы работаете не колабе, можно заменить pymorphy на mystem и раскомментирвать первую строку про lru_cache\n",
    "def lemmatize(text, pymorphy=m):\n",
    "    try:\n",
    "        return \" \".join([pymorphy.parse(w)[0].normal_form for w in text])\n",
    "    except:\n",
    "        return \" \""
   ]
  },
  {
   "cell_type": "code",
   "execution_count": 113,
   "metadata": {
    "executionInfo": {
     "elapsed": 7,
     "status": "ok",
     "timestamp": 1719031267049,
     "user": {
      "displayName": "Ильсеяр Алимова",
      "userId": "18086433180291504366"
     },
     "user_tz": -180
    },
    "id": "nDQdq4MLX-tE"
   },
   "outputs": [],
   "source": [
    "def clean_text(text):\n",
    "    return lemmatize(words_only(text))"
   ]
  },
  {
   "cell_type": "code",
   "execution_count": 114,
   "metadata": {},
   "outputs": [
    {
     "data": {
      "text/plain": [
       "5"
      ]
     },
     "execution_count": 114,
     "metadata": {},
     "output_type": "execute_result"
    }
   ],
   "source": [
    "5"
   ]
  },
  {
   "cell_type": "code",
   "execution_count": 119,
   "metadata": {
    "colab": {
     "base_uri": "https://localhost:8080/",
     "height": 290,
     "referenced_widgets": [
      "b19b957053db4ac2b94ee57498a3a306",
      "a6eee11761394a58b85cc55e8745787e",
      "043a4a6423c54d40ada46578a155a9bc",
      "8e99e8baaba044e0a01c28b29ff12a35",
      "350c4027c3ba4f04a3b971d1e3ade21c",
      "37ac063e57ff420c9a8490fc51508328",
      "64f9dc72d1834a7793a5761b6bd08b46",
      "4c1fdbda0a674146a2d70cdb30fcb531",
      "55f6ed1d9fa14002a82855b413f1d482",
      "e0fe19947f234aed905fd37abd33ec37",
      "0e6b2f1150344e58bd352cf6a880b521"
     ]
    },
    "collapsed": true,
    "executionInfo": {
     "elapsed": 1013454,
     "status": "ok",
     "timestamp": 1719032280497,
     "user": {
      "displayName": "Ильсеяр Алимова",
      "userId": "18086433180291504366"
     },
     "user_tz": -180
    },
    "id": "fj6dS127X-tG",
    "jupyter": {
     "outputs_hidden": true
    },
    "outputId": "c1c2e69d-fe4a-4daa-f763-280f66f0ef71",
    "scrolled": true
   },
   "outputs": [
    {
     "name": "stderr",
     "output_type": "stream",
     "text": [
      "/opt/homebrew/lib/python3.11/site-packages/swifter/swifter.py:87: UserWarning: This pandas object has duplicate indices, and swifter may not be able to improve performance. Consider resetting the indices with `df.reset_index(drop=True)`.\n",
      "  warnings.warn(\n",
      "Pandas Apply: 100%|██████████| 226834/226834 [04:15<00:00, 888.30it/s] \n"
     ]
    },
    {
     "data": {
      "text/html": [
       "<div>\n",
       "<style scoped>\n",
       "    .dataframe tbody tr th:only-of-type {\n",
       "        vertical-align: middle;\n",
       "    }\n",
       "\n",
       "    .dataframe tbody tr th {\n",
       "        vertical-align: top;\n",
       "    }\n",
       "\n",
       "    .dataframe thead th {\n",
       "        text-align: right;\n",
       "    }\n",
       "</style>\n",
       "<table border=\"1\" class=\"dataframe\">\n",
       "  <thead>\n",
       "    <tr style=\"text-align: right;\">\n",
       "      <th></th>\n",
       "      <th>text</th>\n",
       "      <th>label</th>\n",
       "      <th>lemmas</th>\n",
       "    </tr>\n",
       "  </thead>\n",
       "  <tbody>\n",
       "    <tr>\n",
       "      <th>0</th>\n",
       "      <td>@first_timee хоть я и школота, но поверь, у на...</td>\n",
       "      <td>positive</td>\n",
       "      <td>first_timee хоть я и школотый но поверь у мы т...</td>\n",
       "    </tr>\n",
       "    <tr>\n",
       "      <th>1</th>\n",
       "      <td>Да, все-таки он немного похож на него. Но мой ...</td>\n",
       "      <td>positive</td>\n",
       "      <td>да всё таки он немного похожий на он но мой ма...</td>\n",
       "    </tr>\n",
       "    <tr>\n",
       "      <th>2</th>\n",
       "      <td>RT @KatiaCheh: Ну ты идиотка) я испугалась за ...</td>\n",
       "      <td>positive</td>\n",
       "      <td>rt katiacheh: ну ты идиотка) я испугаться за т...</td>\n",
       "    </tr>\n",
       "    <tr>\n",
       "      <th>3</th>\n",
       "      <td>RT @digger2912: \"Кто то в углу сидит и погибае...</td>\n",
       "      <td>positive</td>\n",
       "      <td>rt digger : кто то в угол сидеть и погибать от...</td>\n",
       "    </tr>\n",
       "    <tr>\n",
       "      <th>4</th>\n",
       "      <td>@irina_dyshkant Вот что значит страшилка :D\\nН...</td>\n",
       "      <td>positive</td>\n",
       "      <td>irina_dyshkant вот что значит страшилка :d но ...</td>\n",
       "    </tr>\n",
       "  </tbody>\n",
       "</table>\n",
       "</div>"
      ],
      "text/plain": [
       "                                                text     label  \\\n",
       "0  @first_timee хоть я и школота, но поверь, у на...  positive   \n",
       "1  Да, все-таки он немного похож на него. Но мой ...  positive   \n",
       "2  RT @KatiaCheh: Ну ты идиотка) я испугалась за ...  positive   \n",
       "3  RT @digger2912: \"Кто то в углу сидит и погибае...  positive   \n",
       "4  @irina_dyshkant Вот что значит страшилка :D\\nН...  positive   \n",
       "\n",
       "                                              lemmas  \n",
       "0  first_timee хоть я и школотый но поверь у мы т...  \n",
       "1  да всё таки он немного похожий на он но мой ма...  \n",
       "2  rt katiacheh: ну ты идиотка) я испугаться за т...  \n",
       "3  rt digger : кто то в угол сидеть и погибать от...  \n",
       "4  irina_dyshkant вот что значит страшилка :d но ...  "
      ]
     },
     "execution_count": 119,
     "metadata": {},
     "output_type": "execute_result"
    }
   ],
   "source": [
    "import swifter\n",
    "\n",
    "# with Pool(8) as p:\n",
    "#     lemmas = list(tqdm(p.imap(clean_text, df['text']), total=len(df)))\n",
    "\n",
    "\n",
    "df['lemmas'] = df['text'].swifter.apply(clean_text)\n",
    "\n",
    "df.head()"
   ]
  },
  {
   "cell_type": "markdown",
   "metadata": {
    "id": "3QuPeLrvX-tI"
   },
   "source": [
    "We write down the received data in format for teaching the classifier:"
   ]
  },
  {
   "cell_type": "code",
   "execution_count": 120,
   "metadata": {
    "colab": {
     "base_uri": "https://localhost:8080/"
    },
    "executionInfo": {
     "elapsed": 501,
     "status": "ok",
     "timestamp": 1719032280988,
     "user": {
      "displayName": "Ильсеяр Алимова",
      "userId": "18086433180291504366"
     },
     "user_tz": -180
    },
    "id": "AGOFQSekX-tI",
    "outputId": "728f22c8-8255-4249-e1a6-4627f42de87c"
   },
   "outputs": [
    {
     "name": "stdout",
     "output_type": "stream",
     "text": [
      "total train examples 151978\n",
      "total test examples 74856\n"
     ]
    }
   ],
   "source": [
    "X = df.lemmas.tolist()\n",
    "y = df.label.tolist()\n",
    "\n",
    "X, y = np.array(X), np.array(y)\n",
    "\n",
    "X_train, X_test, y_train, y_test = train_test_split(X,y, test_size=0.33)\n",
    "print (\"total train examples %s\" % len(y_train))\n",
    "print (\"total test examples %s\" % len(y_test))"
   ]
  },
  {
   "cell_type": "code",
   "execution_count": 121,
   "metadata": {
    "executionInfo": {
     "elapsed": 854,
     "status": "ok",
     "timestamp": 1719032281837,
     "user": {
      "displayName": "Ильсеяр Алимова",
      "userId": "18086433180291504366"
     },
     "user_tz": -180
    },
    "id": "mogTwRfnX-tK"
   },
   "outputs": [],
   "source": [
    "with open('data.train.txt', 'w+') as outfile:\n",
    "    for i in range(len(X_train)):\n",
    "        outfile.write('__label__' + y_train[i] + ' '+ X_train[i] + '\\n')\n",
    "\n",
    "\n",
    "with open('test.txt', 'w+') as outfile:\n",
    "    for i in range(len(X_test)):\n",
    "        outfile.write('__label__' + y_test[i] + ' ' + X_test[i] + '\\n')"
   ]
  },
  {
   "cell_type": "code",
   "execution_count": 122,
   "metadata": {
    "colab": {
     "base_uri": "https://localhost:8080/"
    },
    "executionInfo": {
     "elapsed": 8995,
     "status": "ok",
     "timestamp": 1719032290826,
     "user": {
      "displayName": "Ильсеяр Алимова",
      "userId": "18086433180291504366"
     },
     "user_tz": -180
    },
    "id": "u0rt2mhjX-tL",
    "outputId": "497cf441-91b4-44d6-d412-e9b311630a38"
   },
   "outputs": [
    {
     "name": "stderr",
     "output_type": "stream",
     "text": [
      "Read 2M words\n",
      "Number of words:  240278\n",
      "Number of labels: 2\n",
      "Progress:  83.7% words/sec/thread: 4355259 lr:  0.016273 avg.loss:  0.204030 ETA:   0h 0m 0s"
     ]
    },
    {
     "name": "stdout",
     "output_type": "stream",
     "text": [
      "P@1: 0.8970690392219729\n",
      "R@1: 0.8970690392219729\n",
      "Number of examples: 74856\n"
     ]
    },
    {
     "name": "stderr",
     "output_type": "stream",
     "text": [
      "Progress: 100.0% words/sec/thread: 3896076 lr:  0.000000 avg.loss:  0.175417 ETA:   0h 0m 0s\n"
     ]
    }
   ],
   "source": [
    "classifier = fasttext.train_supervised('data.train.txt')\n",
    "result = classifier.test('test.txt')\n",
    "\n",
    "print('P@1:', result[1])\n",
    "print('R@1:', result[2])\n",
    "print('Number of examples:', result[0])"
   ]
  }
 ],
 "metadata": {
  "colab": {
   "collapsed_sections": [
    "yXNm8flVX-rP",
    "0rfihwVJKwzC",
    "ZNHMtmbqX-rl",
    "CXKnPffPX-sY",
    "Sv0wxUXIX-se"
   ],
   "provenance": []
  },
  "kernelspec": {
   "display_name": "Python 3",
   "language": "python",
   "name": "python3"
  },
  "language_info": {
   "codemirror_mode": {
    "name": "ipython",
    "version": 3
   },
   "file_extension": ".py",
   "mimetype": "text/x-python",
   "name": "python",
   "nbconvert_exporter": "python",
   "pygments_lexer": "ipython3",
   "version": "3.11.13"
  },
  "widgets": {
   "application/vnd.jupyter.widget-state+json": {
    "043a4a6423c54d40ada46578a155a9bc": {
     "model_module": "@jupyter-widgets/controls",
     "model_module_version": "1.5.0",
     "model_name": "FloatProgressModel",
     "state": {
      "_dom_classes": [],
      "_model_module": "@jupyter-widgets/controls",
      "_model_module_version": "1.5.0",
      "_model_name": "FloatProgressModel",
      "_view_count": null,
      "_view_module": "@jupyter-widgets/controls",
      "_view_module_version": "1.5.0",
      "_view_name": "ProgressView",
      "bar_style": "success",
      "description": "",
      "description_tooltip": null,
      "layout": "IPY_MODEL_4c1fdbda0a674146a2d70cdb30fcb531",
      "max": 226834,
      "min": 0,
      "orientation": "horizontal",
      "style": "IPY_MODEL_55f6ed1d9fa14002a82855b413f1d482",
      "value": 226834
     }
    },
    "0e6b2f1150344e58bd352cf6a880b521": {
     "model_module": "@jupyter-widgets/controls",
     "model_module_version": "1.5.0",
     "model_name": "DescriptionStyleModel",
     "state": {
      "_model_module": "@jupyter-widgets/controls",
      "_model_module_version": "1.5.0",
      "_model_name": "DescriptionStyleModel",
      "_view_count": null,
      "_view_module": "@jupyter-widgets/base",
      "_view_module_version": "1.2.0",
      "_view_name": "StyleView",
      "description_width": ""
     }
    },
    "0f49db2bdd104c58997ce2988f09af3a": {
     "model_module": "@jupyter-widgets/controls",
     "model_module_version": "1.5.0",
     "model_name": "ProgressStyleModel",
     "state": {
      "_model_module": "@jupyter-widgets/controls",
      "_model_module_version": "1.5.0",
      "_model_name": "ProgressStyleModel",
      "_view_count": null,
      "_view_module": "@jupyter-widgets/base",
      "_view_module_version": "1.2.0",
      "_view_name": "StyleView",
      "bar_color": null,
      "description_width": ""
     }
    },
    "2a4136a3b83941e8bf5f11218cefa630": {
     "model_module": "@jupyter-widgets/controls",
     "model_module_version": "1.5.0",
     "model_name": "HBoxModel",
     "state": {
      "_dom_classes": [],
      "_model_module": "@jupyter-widgets/controls",
      "_model_module_version": "1.5.0",
      "_model_name": "HBoxModel",
      "_view_count": null,
      "_view_module": "@jupyter-widgets/controls",
      "_view_module_version": "1.5.0",
      "_view_name": "HBoxView",
      "box_style": "",
      "children": [
       "IPY_MODEL_99f8029da15a47e58f77cafe357c25f1",
       "IPY_MODEL_a8cafbc607214c8ba55073f433d9b122",
       "IPY_MODEL_4477301d72b143eeade4872ba435a96c"
      ],
      "layout": "IPY_MODEL_3e11d5260cb746b7b4b227e9aab92697"
     }
    },
    "350c4027c3ba4f04a3b971d1e3ade21c": {
     "model_module": "@jupyter-widgets/base",
     "model_module_version": "1.2.0",
     "model_name": "LayoutModel",
     "state": {
      "_model_module": "@jupyter-widgets/base",
      "_model_module_version": "1.2.0",
      "_model_name": "LayoutModel",
      "_view_count": null,
      "_view_module": "@jupyter-widgets/base",
      "_view_module_version": "1.2.0",
      "_view_name": "LayoutView",
      "align_content": null,
      "align_items": null,
      "align_self": null,
      "border": null,
      "bottom": null,
      "display": null,
      "flex": null,
      "flex_flow": null,
      "grid_area": null,
      "grid_auto_columns": null,
      "grid_auto_flow": null,
      "grid_auto_rows": null,
      "grid_column": null,
      "grid_gap": null,
      "grid_row": null,
      "grid_template_areas": null,
      "grid_template_columns": null,
      "grid_template_rows": null,
      "height": null,
      "justify_content": null,
      "justify_items": null,
      "left": null,
      "margin": null,
      "max_height": null,
      "max_width": null,
      "min_height": null,
      "min_width": null,
      "object_fit": null,
      "object_position": null,
      "order": null,
      "overflow": null,
      "overflow_x": null,
      "overflow_y": null,
      "padding": null,
      "right": null,
      "top": null,
      "visibility": null,
      "width": null
     }
    },
    "3788ce3e5ba14f32ac01e9550c9d4e52": {
     "model_module": "@jupyter-widgets/base",
     "model_module_version": "1.2.0",
     "model_name": "LayoutModel",
     "state": {
      "_model_module": "@jupyter-widgets/base",
      "_model_module_version": "1.2.0",
      "_model_name": "LayoutModel",
      "_view_count": null,
      "_view_module": "@jupyter-widgets/base",
      "_view_module_version": "1.2.0",
      "_view_name": "LayoutView",
      "align_content": null,
      "align_items": null,
      "align_self": null,
      "border": null,
      "bottom": null,
      "display": null,
      "flex": null,
      "flex_flow": null,
      "grid_area": null,
      "grid_auto_columns": null,
      "grid_auto_flow": null,
      "grid_auto_rows": null,
      "grid_column": null,
      "grid_gap": null,
      "grid_row": null,
      "grid_template_areas": null,
      "grid_template_columns": null,
      "grid_template_rows": null,
      "height": null,
      "justify_content": null,
      "justify_items": null,
      "left": null,
      "margin": null,
      "max_height": null,
      "max_width": null,
      "min_height": null,
      "min_width": null,
      "object_fit": null,
      "object_position": null,
      "order": null,
      "overflow": null,
      "overflow_x": null,
      "overflow_y": null,
      "padding": null,
      "right": null,
      "top": null,
      "visibility": null,
      "width": null
     }
    },
    "37ac063e57ff420c9a8490fc51508328": {
     "model_module": "@jupyter-widgets/base",
     "model_module_version": "1.2.0",
     "model_name": "LayoutModel",
     "state": {
      "_model_module": "@jupyter-widgets/base",
      "_model_module_version": "1.2.0",
      "_model_name": "LayoutModel",
      "_view_count": null,
      "_view_module": "@jupyter-widgets/base",
      "_view_module_version": "1.2.0",
      "_view_name": "LayoutView",
      "align_content": null,
      "align_items": null,
      "align_self": null,
      "border": null,
      "bottom": null,
      "display": null,
      "flex": null,
      "flex_flow": null,
      "grid_area": null,
      "grid_auto_columns": null,
      "grid_auto_flow": null,
      "grid_auto_rows": null,
      "grid_column": null,
      "grid_gap": null,
      "grid_row": null,
      "grid_template_areas": null,
      "grid_template_columns": null,
      "grid_template_rows": null,
      "height": null,
      "justify_content": null,
      "justify_items": null,
      "left": null,
      "margin": null,
      "max_height": null,
      "max_width": null,
      "min_height": null,
      "min_width": null,
      "object_fit": null,
      "object_position": null,
      "order": null,
      "overflow": null,
      "overflow_x": null,
      "overflow_y": null,
      "padding": null,
      "right": null,
      "top": null,
      "visibility": null,
      "width": null
     }
    },
    "3e11d5260cb746b7b4b227e9aab92697": {
     "model_module": "@jupyter-widgets/base",
     "model_module_version": "1.2.0",
     "model_name": "LayoutModel",
     "state": {
      "_model_module": "@jupyter-widgets/base",
      "_model_module_version": "1.2.0",
      "_model_name": "LayoutModel",
      "_view_count": null,
      "_view_module": "@jupyter-widgets/base",
      "_view_module_version": "1.2.0",
      "_view_name": "LayoutView",
      "align_content": null,
      "align_items": null,
      "align_self": null,
      "border": null,
      "bottom": null,
      "display": null,
      "flex": null,
      "flex_flow": null,
      "grid_area": null,
      "grid_auto_columns": null,
      "grid_auto_flow": null,
      "grid_auto_rows": null,
      "grid_column": null,
      "grid_gap": null,
      "grid_row": null,
      "grid_template_areas": null,
      "grid_template_columns": null,
      "grid_template_rows": null,
      "height": null,
      "justify_content": null,
      "justify_items": null,
      "left": null,
      "margin": null,
      "max_height": null,
      "max_width": null,
      "min_height": null,
      "min_width": null,
      "object_fit": null,
      "object_position": null,
      "order": null,
      "overflow": null,
      "overflow_x": null,
      "overflow_y": null,
      "padding": null,
      "right": null,
      "top": null,
      "visibility": null,
      "width": null
     }
    },
    "4477301d72b143eeade4872ba435a96c": {
     "model_module": "@jupyter-widgets/controls",
     "model_module_version": "1.5.0",
     "model_name": "HTMLModel",
     "state": {
      "_dom_classes": [],
      "_model_module": "@jupyter-widgets/controls",
      "_model_module_version": "1.5.0",
      "_model_name": "HTMLModel",
      "_view_count": null,
      "_view_module": "@jupyter-widgets/controls",
      "_view_module_version": "1.5.0",
      "_view_name": "HTMLView",
      "description": "",
      "description_tooltip": null,
      "layout": "IPY_MODEL_755555419f894f2db33faf6f50a05e59",
      "placeholder": "​",
      "style": "IPY_MODEL_e99f2401c1374f088b1e793001201b0c",
      "value": " 529416/529416 [00:12&lt;00:00, 48160.66it/s]"
     }
    },
    "4c1fdbda0a674146a2d70cdb30fcb531": {
     "model_module": "@jupyter-widgets/base",
     "model_module_version": "1.2.0",
     "model_name": "LayoutModel",
     "state": {
      "_model_module": "@jupyter-widgets/base",
      "_model_module_version": "1.2.0",
      "_model_name": "LayoutModel",
      "_view_count": null,
      "_view_module": "@jupyter-widgets/base",
      "_view_module_version": "1.2.0",
      "_view_name": "LayoutView",
      "align_content": null,
      "align_items": null,
      "align_self": null,
      "border": null,
      "bottom": null,
      "display": null,
      "flex": null,
      "flex_flow": null,
      "grid_area": null,
      "grid_auto_columns": null,
      "grid_auto_flow": null,
      "grid_auto_rows": null,
      "grid_column": null,
      "grid_gap": null,
      "grid_row": null,
      "grid_template_areas": null,
      "grid_template_columns": null,
      "grid_template_rows": null,
      "height": null,
      "justify_content": null,
      "justify_items": null,
      "left": null,
      "margin": null,
      "max_height": null,
      "max_width": null,
      "min_height": null,
      "min_width": null,
      "object_fit": null,
      "object_position": null,
      "order": null,
      "overflow": null,
      "overflow_x": null,
      "overflow_y": null,
      "padding": null,
      "right": null,
      "top": null,
      "visibility": null,
      "width": null
     }
    },
    "55f6ed1d9fa14002a82855b413f1d482": {
     "model_module": "@jupyter-widgets/controls",
     "model_module_version": "1.5.0",
     "model_name": "ProgressStyleModel",
     "state": {
      "_model_module": "@jupyter-widgets/controls",
      "_model_module_version": "1.5.0",
      "_model_name": "ProgressStyleModel",
      "_view_count": null,
      "_view_module": "@jupyter-widgets/base",
      "_view_module_version": "1.2.0",
      "_view_name": "StyleView",
      "bar_color": null,
      "description_width": ""
     }
    },
    "64f9dc72d1834a7793a5761b6bd08b46": {
     "model_module": "@jupyter-widgets/controls",
     "model_module_version": "1.5.0",
     "model_name": "DescriptionStyleModel",
     "state": {
      "_model_module": "@jupyter-widgets/controls",
      "_model_module_version": "1.5.0",
      "_model_name": "DescriptionStyleModel",
      "_view_count": null,
      "_view_module": "@jupyter-widgets/base",
      "_view_module_version": "1.2.0",
      "_view_name": "StyleView",
      "description_width": ""
     }
    },
    "755555419f894f2db33faf6f50a05e59": {
     "model_module": "@jupyter-widgets/base",
     "model_module_version": "1.2.0",
     "model_name": "LayoutModel",
     "state": {
      "_model_module": "@jupyter-widgets/base",
      "_model_module_version": "1.2.0",
      "_model_name": "LayoutModel",
      "_view_count": null,
      "_view_module": "@jupyter-widgets/base",
      "_view_module_version": "1.2.0",
      "_view_name": "LayoutView",
      "align_content": null,
      "align_items": null,
      "align_self": null,
      "border": null,
      "bottom": null,
      "display": null,
      "flex": null,
      "flex_flow": null,
      "grid_area": null,
      "grid_auto_columns": null,
      "grid_auto_flow": null,
      "grid_auto_rows": null,
      "grid_column": null,
      "grid_gap": null,
      "grid_row": null,
      "grid_template_areas": null,
      "grid_template_columns": null,
      "grid_template_rows": null,
      "height": null,
      "justify_content": null,
      "justify_items": null,
      "left": null,
      "margin": null,
      "max_height": null,
      "max_width": null,
      "min_height": null,
      "min_width": null,
      "object_fit": null,
      "object_position": null,
      "order": null,
      "overflow": null,
      "overflow_x": null,
      "overflow_y": null,
      "padding": null,
      "right": null,
      "top": null,
      "visibility": null,
      "width": null
     }
    },
    "8e99e8baaba044e0a01c28b29ff12a35": {
     "model_module": "@jupyter-widgets/controls",
     "model_module_version": "1.5.0",
     "model_name": "HTMLModel",
     "state": {
      "_dom_classes": [],
      "_model_module": "@jupyter-widgets/controls",
      "_model_module_version": "1.5.0",
      "_model_name": "HTMLModel",
      "_view_count": null,
      "_view_module": "@jupyter-widgets/controls",
      "_view_module_version": "1.5.0",
      "_view_name": "HTMLView",
      "description": "",
      "description_tooltip": null,
      "layout": "IPY_MODEL_e0fe19947f234aed905fd37abd33ec37",
      "placeholder": "​",
      "style": "IPY_MODEL_0e6b2f1150344e58bd352cf6a880b521",
      "value": " 226834/226834 [16:52&lt;00:00, 283.76it/s]"
     }
    },
    "99f8029da15a47e58f77cafe357c25f1": {
     "model_module": "@jupyter-widgets/controls",
     "model_module_version": "1.5.0",
     "model_name": "HTMLModel",
     "state": {
      "_dom_classes": [],
      "_model_module": "@jupyter-widgets/controls",
      "_model_module_version": "1.5.0",
      "_model_name": "HTMLModel",
      "_view_count": null,
      "_view_module": "@jupyter-widgets/controls",
      "_view_module_version": "1.5.0",
      "_view_name": "HTMLView",
      "description": "",
      "description_tooltip": null,
      "layout": "IPY_MODEL_3788ce3e5ba14f32ac01e9550c9d4e52",
      "placeholder": "​",
      "style": "IPY_MODEL_ae16d3c7677e4e2383b3ec436ddfff15",
      "value": "100%"
     }
    },
    "a6eee11761394a58b85cc55e8745787e": {
     "model_module": "@jupyter-widgets/controls",
     "model_module_version": "1.5.0",
     "model_name": "HTMLModel",
     "state": {
      "_dom_classes": [],
      "_model_module": "@jupyter-widgets/controls",
      "_model_module_version": "1.5.0",
      "_model_name": "HTMLModel",
      "_view_count": null,
      "_view_module": "@jupyter-widgets/controls",
      "_view_module_version": "1.5.0",
      "_view_name": "HTMLView",
      "description": "",
      "description_tooltip": null,
      "layout": "IPY_MODEL_37ac063e57ff420c9a8490fc51508328",
      "placeholder": "​",
      "style": "IPY_MODEL_64f9dc72d1834a7793a5761b6bd08b46",
      "value": "100%"
     }
    },
    "a8cafbc607214c8ba55073f433d9b122": {
     "model_module": "@jupyter-widgets/controls",
     "model_module_version": "1.5.0",
     "model_name": "FloatProgressModel",
     "state": {
      "_dom_classes": [],
      "_model_module": "@jupyter-widgets/controls",
      "_model_module_version": "1.5.0",
      "_model_name": "FloatProgressModel",
      "_view_count": null,
      "_view_module": "@jupyter-widgets/controls",
      "_view_module_version": "1.5.0",
      "_view_name": "ProgressView",
      "bar_style": "success",
      "description": "",
      "description_tooltip": null,
      "layout": "IPY_MODEL_d84f9cc4b8a6450aace96433c9747ce1",
      "max": 529416,
      "min": 0,
      "orientation": "horizontal",
      "style": "IPY_MODEL_0f49db2bdd104c58997ce2988f09af3a",
      "value": 529416
     }
    },
    "ae16d3c7677e4e2383b3ec436ddfff15": {
     "model_module": "@jupyter-widgets/controls",
     "model_module_version": "1.5.0",
     "model_name": "DescriptionStyleModel",
     "state": {
      "_model_module": "@jupyter-widgets/controls",
      "_model_module_version": "1.5.0",
      "_model_name": "DescriptionStyleModel",
      "_view_count": null,
      "_view_module": "@jupyter-widgets/base",
      "_view_module_version": "1.2.0",
      "_view_name": "StyleView",
      "description_width": ""
     }
    },
    "b19b957053db4ac2b94ee57498a3a306": {
     "model_module": "@jupyter-widgets/controls",
     "model_module_version": "1.5.0",
     "model_name": "HBoxModel",
     "state": {
      "_dom_classes": [],
      "_model_module": "@jupyter-widgets/controls",
      "_model_module_version": "1.5.0",
      "_model_name": "HBoxModel",
      "_view_count": null,
      "_view_module": "@jupyter-widgets/controls",
      "_view_module_version": "1.5.0",
      "_view_name": "HBoxView",
      "box_style": "",
      "children": [
       "IPY_MODEL_a6eee11761394a58b85cc55e8745787e",
       "IPY_MODEL_043a4a6423c54d40ada46578a155a9bc",
       "IPY_MODEL_8e99e8baaba044e0a01c28b29ff12a35"
      ],
      "layout": "IPY_MODEL_350c4027c3ba4f04a3b971d1e3ade21c"
     }
    },
    "d84f9cc4b8a6450aace96433c9747ce1": {
     "model_module": "@jupyter-widgets/base",
     "model_module_version": "1.2.0",
     "model_name": "LayoutModel",
     "state": {
      "_model_module": "@jupyter-widgets/base",
      "_model_module_version": "1.2.0",
      "_model_name": "LayoutModel",
      "_view_count": null,
      "_view_module": "@jupyter-widgets/base",
      "_view_module_version": "1.2.0",
      "_view_name": "LayoutView",
      "align_content": null,
      "align_items": null,
      "align_self": null,
      "border": null,
      "bottom": null,
      "display": null,
      "flex": null,
      "flex_flow": null,
      "grid_area": null,
      "grid_auto_columns": null,
      "grid_auto_flow": null,
      "grid_auto_rows": null,
      "grid_column": null,
      "grid_gap": null,
      "grid_row": null,
      "grid_template_areas": null,
      "grid_template_columns": null,
      "grid_template_rows": null,
      "height": null,
      "justify_content": null,
      "justify_items": null,
      "left": null,
      "margin": null,
      "max_height": null,
      "max_width": null,
      "min_height": null,
      "min_width": null,
      "object_fit": null,
      "object_position": null,
      "order": null,
      "overflow": null,
      "overflow_x": null,
      "overflow_y": null,
      "padding": null,
      "right": null,
      "top": null,
      "visibility": null,
      "width": null
     }
    },
    "e0fe19947f234aed905fd37abd33ec37": {
     "model_module": "@jupyter-widgets/base",
     "model_module_version": "1.2.0",
     "model_name": "LayoutModel",
     "state": {
      "_model_module": "@jupyter-widgets/base",
      "_model_module_version": "1.2.0",
      "_model_name": "LayoutModel",
      "_view_count": null,
      "_view_module": "@jupyter-widgets/base",
      "_view_module_version": "1.2.0",
      "_view_name": "LayoutView",
      "align_content": null,
      "align_items": null,
      "align_self": null,
      "border": null,
      "bottom": null,
      "display": null,
      "flex": null,
      "flex_flow": null,
      "grid_area": null,
      "grid_auto_columns": null,
      "grid_auto_flow": null,
      "grid_auto_rows": null,
      "grid_column": null,
      "grid_gap": null,
      "grid_row": null,
      "grid_template_areas": null,
      "grid_template_columns": null,
      "grid_template_rows": null,
      "height": null,
      "justify_content": null,
      "justify_items": null,
      "left": null,
      "margin": null,
      "max_height": null,
      "max_width": null,
      "min_height": null,
      "min_width": null,
      "object_fit": null,
      "object_position": null,
      "order": null,
      "overflow": null,
      "overflow_x": null,
      "overflow_y": null,
      "padding": null,
      "right": null,
      "top": null,
      "visibility": null,
      "width": null
     }
    },
    "e99f2401c1374f088b1e793001201b0c": {
     "model_module": "@jupyter-widgets/controls",
     "model_module_version": "1.5.0",
     "model_name": "DescriptionStyleModel",
     "state": {
      "_model_module": "@jupyter-widgets/controls",
      "_model_module_version": "1.5.0",
      "_model_name": "DescriptionStyleModel",
      "_view_count": null,
      "_view_module": "@jupyter-widgets/base",
      "_view_module_version": "1.2.0",
      "_view_name": "StyleView",
      "description_width": ""
     }
    }
   }
  }
 },
 "nbformat": 4,
 "nbformat_minor": 4
}
